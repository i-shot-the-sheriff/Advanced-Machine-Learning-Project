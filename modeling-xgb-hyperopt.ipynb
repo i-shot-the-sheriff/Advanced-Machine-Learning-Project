{
 "cells": [
  {
   "cell_type": "markdown",
   "metadata": {},
   "source": [
    "## Importing necessary libraries"
   ]
  },
  {
   "cell_type": "code",
   "execution_count": 4,
   "metadata": {
    "_cell_guid": "79c7e3d0-c299-4dcb-8224-4455121ee9b0",
    "_kg_hide-input": true,
    "_uuid": "d629ff2d2480ee46fbb7e2d37f6b5fab8052498a"
   },
   "outputs": [
    {
     "data": {
      "text/html": [
       "        <script type=\"text/javascript\">\n",
       "        window.PlotlyConfig = {MathJaxConfig: 'local'};\n",
       "        if (window.MathJax) {MathJax.Hub.Config({SVG: {font: \"STIX-Web\"}});}\n",
       "        if (typeof require !== 'undefined') {\n",
       "        require.undef(\"plotly\");\n",
       "        requirejs.config({\n",
       "            paths: {\n",
       "                'plotly': ['https://cdn.plot.ly/plotly-2.6.3.min']\n",
       "            }\n",
       "        });\n",
       "        require(['plotly'], function(Plotly) {\n",
       "            window._Plotly = Plotly;\n",
       "        });\n",
       "        }\n",
       "        </script>\n",
       "        "
      ]
     },
     "metadata": {},
     "output_type": "display_data"
    },
    {
     "name": "stdout",
     "output_type": "stream",
     "text": [
      "['sample_submission.csv', 'test_identity.csv', 'test_transaction.csv', 'train_identity.csv', 'train_transaction.csv']\n"
     ]
    }
   ],
   "source": [
    "import numpy as np \n",
    "import pandas as pd \n",
    "import scipy as sp\n",
    "from scipy import stats\n",
    "import matplotlib.pyplot as plt\n",
    "import seaborn as sns\n",
    "\n",
    "\n",
    "import plotly.graph_objs as go\n",
    "import plotly.tools as tls\n",
    "from plotly.offline import iplot, init_notebook_mode\n",
    "\n",
    "import plotly.figure_factory as ff\n",
    "\n",
    "\n",
    "init_notebook_mode(connected=True)\n",
    "\n",
    "\n",
    "# Preprocessing, modelling and evaluating\n",
    "from sklearn import preprocessing\n",
    "from sklearn.metrics import confusion_matrix, roc_auc_score\n",
    "from sklearn.model_selection import StratifiedKFold, cross_val_score, KFold\n",
    "from xgboost import XGBClassifier\n",
    "\n",
    "import xgboost as xgb\n",
    "\n",
    "## Hyperopt modules\n",
    "from hyperopt import fmin, hp, tpe, Trials, space_eval, STATUS_OK, STATUS_RUNNING\n",
    "from functools import partial\n",
    "\n",
    "import os\n",
    "import gc\n",
    "\n",
    "print(os.listdir(\"input\"))"
   ]
  },
  {
   "cell_type": "code",
   "execution_count": 6,
   "metadata": {},
   "outputs": [],
   "source": [
    "def resumetable(df):\n",
    "    print(f\"Dataset Shape: {df.shape}\")\n",
    "    summary = pd.DataFrame(df.dtypes,columns=['dtypes'])\n",
    "    summary = summary.reset_index()\n",
    "    summary['Name'] = summary['index']\n",
    "    summary = summary[['Name','dtypes']]\n",
    "    summary['Missing'] = df.isnull().sum().values    \n",
    "    summary['Uniques'] = df.nunique().values\n",
    "    summary['First Value'] = df.loc[0].values\n",
    "    summary['Second Value'] = df.loc[1].values\n",
    "    summary['Third Value'] = df.loc[2].values\n",
    "\n",
    "    for name in summary['Name'].value_counts().index:\n",
    "        summary.loc[summary['Name'] == name, 'Entropy'] = round(stats.entropy(df[name].value_counts(normalize=True), base=2),2) \n",
    "\n",
    "    return summary\n",
    "\n",
    "## Function to reduce the DF size\n",
    "def reduce_mem_usage(df, verbose=True):\n",
    "    numerics = ['int16', 'int32', 'int64', 'float16', 'float32', 'float64']\n",
    "    start_mem = df.memory_usage().sum() / 1024**2    \n",
    "    for col in df.columns:\n",
    "        col_type = df[col].dtypes\n",
    "        if col_type in numerics:\n",
    "            c_min = df[col].min()\n",
    "            c_max = df[col].max()\n",
    "            if str(col_type)[:3] == 'int':\n",
    "                if c_min > np.iinfo(np.int8).min and c_max < np.iinfo(np.int8).max:\n",
    "                    df[col] = df[col].astype(np.int8)\n",
    "                elif c_min > np.iinfo(np.int16).min and c_max < np.iinfo(np.int16).max:\n",
    "                    df[col] = df[col].astype(np.int16)\n",
    "                elif c_min > np.iinfo(np.int32).min and c_max < np.iinfo(np.int32).max:\n",
    "                    df[col] = df[col].astype(np.int32)\n",
    "                elif c_min > np.iinfo(np.int64).min and c_max < np.iinfo(np.int64).max:\n",
    "                    df[col] = df[col].astype(np.int64)  \n",
    "            else:\n",
    "                if c_min > np.finfo(np.float16).min and c_max < np.finfo(np.float16).max:\n",
    "                    df[col] = df[col].astype(np.float16)\n",
    "                elif c_min > np.finfo(np.float32).min and c_max < np.finfo(np.float32).max:\n",
    "                    df[col] = df[col].astype(np.float32)\n",
    "                else:\n",
    "                    df[col] = df[col].astype(np.float64)    \n",
    "    end_mem = df.memory_usage().sum() / 1024**2\n",
    "    if verbose: print('Mem. usage decreased to {:5.2f} Mb ({:.1f}% reduction)'.format(end_mem, 100 * (start_mem - end_mem) / start_mem))\n",
    "    return df\n",
    "\n",
    "def CalcOutliers(df_num): \n",
    "\n",
    "    # calculating mean and std of the array\n",
    "    data_mean, data_std = np.mean(df_num), np.std(df_num)\n",
    "\n",
    "    # seting the cut line to both higher and lower values\n",
    "    # You can change this value\n",
    "    cut = data_std * 3\n",
    "\n",
    "    #Calculating the higher and lower cut values\n",
    "    lower, upper = data_mean - cut, data_mean + cut\n",
    "\n",
    "    # creating an array of lower, higher and total outlier values \n",
    "    outliers_lower = [x for x in df_num if x < lower]\n",
    "    outliers_higher = [x for x in df_num if x > upper]\n",
    "    outliers_total = [x for x in df_num if x < lower or x > upper]\n",
    "\n",
    "    # array without outlier values\n",
    "    outliers_removed = [x for x in df_num if x > lower and x < upper]\n",
    "    \n",
    "    print('Identified lowest outliers: %d' % len(outliers_lower)) # printing total number of values in lower cut of outliers\n",
    "    print('Identified upper outliers: %d' % len(outliers_higher)) # printing total number of values in higher cut of outliers\n",
    "    print('Total outlier observations: %d' % len(outliers_total)) # printing total number of values outliers of both sides\n",
    "    print('Non-outlier observations: %d' % len(outliers_removed)) # printing total number of non outlier values\n",
    "    print(\"Total percentual of Outliers: \", round((len(outliers_total) / len(outliers_removed) )*100, 4)) # Percentual of outliers in points\n",
    "    \n",
    "    return"
   ]
  },
  {
   "cell_type": "markdown",
   "metadata": {},
   "source": [
    "## Modelling \n",
    "\n",
    "\n"
   ]
  },
  {
   "cell_type": "code",
   "execution_count": 2,
   "metadata": {},
   "outputs": [
    {
     "name": "stdout",
     "output_type": "stream",
     "text": [
      "(590540, 434)\n",
      "(506691, 433)\n"
     ]
    }
   ],
   "source": [
    "df_trans = pd.read_csv('input/train_transaction.csv')\n",
    "df_test_trans = pd.read_csv('input/test_transaction.csv')\n",
    "\n",
    "df_id = pd.read_csv('input/train_identity.csv')\n",
    "df_test_id = pd.read_csv('input/test_identity.csv')\n",
    "\n",
    "sample_submission = pd.read_csv('input/sample_submission.csv', index_col='TransactionID')\n",
    "\n",
    "df_train = df_trans.merge(df_id, how='left',  on='TransactionID')\n",
    "df_test = df_test_trans.merge(df_test_id, how='left',  on='TransactionID')\n",
    "\n",
    "print(df_train.shape)\n",
    "print(df_test.shape)\n",
    "\n",
    "# y_train = df_train['isFraud'].copy()\n",
    "del df_trans, df_id, df_test_trans, df_test_id"
   ]
  },
  {
   "cell_type": "markdown",
   "metadata": {},
   "source": [
    "# reducing memory usage"
   ]
  },
  {
   "cell_type": "code",
   "execution_count": 7,
   "metadata": {},
   "outputs": [
    {
     "name": "stdout",
     "output_type": "stream",
     "text": [
      "Mem. usage decreased to 650.48 Mb (66.8% reduction)\n",
      "Mem. usage decreased to 565.37 Mb (66.3% reduction)\n"
     ]
    }
   ],
   "source": [
    "df_train = reduce_mem_usage(df_train)\n",
    "df_test = reduce_mem_usage(df_test)"
   ]
  },
  {
   "cell_type": "markdown",
   "metadata": {},
   "source": [
    "# Mapping emails"
   ]
  },
  {
   "cell_type": "code",
   "execution_count": 8,
   "metadata": {},
   "outputs": [
    {
     "name": "stderr",
     "output_type": "stream",
     "text": [
      "C:\\Users\\Donatien\\AppData\\Local\\Temp/ipykernel_10828/2375109719.py:25: PerformanceWarning:\n",
      "\n",
      "DataFrame is highly fragmented.  This is usually the result of calling `frame.insert` many times, which has poor performance.  Consider joining all columns at once using pd.concat(axis=1) instead.  To get a de-fragmented frame, use `newframe = frame.copy()`\n",
      "\n",
      "C:\\Users\\Donatien\\AppData\\Local\\Temp/ipykernel_10828/2375109719.py:26: PerformanceWarning:\n",
      "\n",
      "DataFrame is highly fragmented.  This is usually the result of calling `frame.insert` many times, which has poor performance.  Consider joining all columns at once using pd.concat(axis=1) instead.  To get a de-fragmented frame, use `newframe = frame.copy()`\n",
      "\n",
      "C:\\Users\\Donatien\\AppData\\Local\\Temp/ipykernel_10828/2375109719.py:28: PerformanceWarning:\n",
      "\n",
      "DataFrame is highly fragmented.  This is usually the result of calling `frame.insert` many times, which has poor performance.  Consider joining all columns at once using pd.concat(axis=1) instead.  To get a de-fragmented frame, use `newframe = frame.copy()`\n",
      "\n",
      "C:\\Users\\Donatien\\AppData\\Local\\Temp/ipykernel_10828/2375109719.py:29: PerformanceWarning:\n",
      "\n",
      "DataFrame is highly fragmented.  This is usually the result of calling `frame.insert` many times, which has poor performance.  Consider joining all columns at once using pd.concat(axis=1) instead.  To get a de-fragmented frame, use `newframe = frame.copy()`\n",
      "\n"
     ]
    }
   ],
   "source": [
    "emails = {'gmail': 'google', 'att.net': 'att', 'twc.com': 'spectrum', \n",
    "          'scranton.edu': 'other', 'optonline.net': 'other', 'hotmail.co.uk': 'microsoft',\n",
    "          'comcast.net': 'other', 'yahoo.com.mx': 'yahoo', 'yahoo.fr': 'yahoo',\n",
    "          'yahoo.es': 'yahoo', 'charter.net': 'spectrum', 'live.com': 'microsoft', \n",
    "          'aim.com': 'aol', 'hotmail.de': 'microsoft', 'centurylink.net': 'centurylink',\n",
    "          'gmail.com': 'google', 'me.com': 'apple', 'earthlink.net': 'other', 'gmx.de': 'other',\n",
    "          'web.de': 'other', 'cfl.rr.com': 'other', 'hotmail.com': 'microsoft', \n",
    "          'protonmail.com': 'other', 'hotmail.fr': 'microsoft', 'windstream.net': 'other', \n",
    "          'outlook.es': 'microsoft', 'yahoo.co.jp': 'yahoo', 'yahoo.de': 'yahoo',\n",
    "          'servicios-ta.com': 'other', 'netzero.net': 'other', 'suddenlink.net': 'other',\n",
    "          'roadrunner.com': 'other', 'sc.rr.com': 'other', 'live.fr': 'microsoft',\n",
    "          'verizon.net': 'yahoo', 'msn.com': 'microsoft', 'q.com': 'centurylink', \n",
    "          'prodigy.net.mx': 'att', 'frontier.com': 'yahoo', 'anonymous.com': 'other', \n",
    "          'rocketmail.com': 'yahoo', 'sbcglobal.net': 'att', 'frontiernet.net': 'yahoo', \n",
    "          'ymail.com': 'yahoo', 'outlook.com': 'microsoft', 'mail.com': 'other', \n",
    "          'bellsouth.net': 'other', 'embarqmail.com': 'centurylink', 'cableone.net': 'other', \n",
    "          'hotmail.es': 'microsoft', 'mac.com': 'apple', 'yahoo.co.uk': 'yahoo', 'netzero.com': 'other', \n",
    "          'yahoo.com': 'yahoo', 'live.com.mx': 'microsoft', 'ptd.net': 'other', 'cox.net': 'other',\n",
    "          'aol.com': 'aol', 'juno.com': 'other', 'icloud.com': 'apple'}\n",
    "\n",
    "us_emails = ['gmail', 'net', 'edu']\n",
    "\n",
    "# https://www.kaggle.com/c/ieee-fraud-detection/discussion/100499#latest-579654\n",
    "for c in ['P_emaildomain', 'R_emaildomain']:\n",
    "    df_train[c + '_bin'] = df_train[c].map(emails)\n",
    "    df_test[c + '_bin'] = df_test[c].map(emails)\n",
    "    \n",
    "    df_train[c + '_suffix'] = df_train[c].map(lambda x: str(x).split('.')[-1])\n",
    "    df_test[c + '_suffix'] = df_test[c].map(lambda x: str(x).split('.')[-1])\n",
    "    \n",
    "    df_train[c + '_suffix'] = df_train[c + '_suffix'].map(lambda x: x if str(x) not in us_emails else 'us')\n",
    "    df_test[c + '_suffix'] = df_test[c + '_suffix'].map(lambda x: x if str(x) not in us_emails else 'us')"
   ]
  },
  {
   "cell_type": "code",
   "execution_count": 12,
   "metadata": {},
   "outputs": [],
   "source": [
    "test_c = df_test.columns.tolist()"
   ]
  },
  {
   "cell_type": "code",
   "execution_count": 13,
   "metadata": {},
   "outputs": [],
   "source": [
    "test_c = [s.replace('-', '_') for s in test_c]"
   ]
  },
  {
   "cell_type": "code",
   "execution_count": 15,
   "metadata": {},
   "outputs": [],
   "source": [
    "df_test.columns = test_c"
   ]
  },
  {
   "cell_type": "markdown",
   "metadata": {},
   "source": [
    "# Encoding categorical features"
   ]
  },
  {
   "cell_type": "code",
   "execution_count": 16,
   "metadata": {},
   "outputs": [],
   "source": [
    "# Label Encoding\n",
    "for f in df_train.drop('isFraud', axis=1).columns:\n",
    "    if df_train[f].dtype=='object' or df_test[f].dtype=='object': \n",
    "        lbl = preprocessing.LabelEncoder()\n",
    "        lbl.fit(list(df_train[f].values) + list(df_test[f].values))\n",
    "        df_train[f] = lbl.transform(list(df_train[f].values))\n",
    "        df_test[f] = lbl.transform(list(df_test[f].values))   "
   ]
  },
  {
   "cell_type": "markdown",
   "metadata": {},
   "source": [
    "# Some feature engineering"
   ]
  },
  {
   "cell_type": "code",
   "execution_count": 17,
   "metadata": {
    "collapsed": true
   },
   "outputs": [
    {
     "name": "stderr",
     "output_type": "stream",
     "text": [
      "C:\\Users\\Donatien\\AppData\\Local\\Temp/ipykernel_10828/1483759274.py:3: PerformanceWarning:\n",
      "\n",
      "DataFrame is highly fragmented.  This is usually the result of calling `frame.insert` many times, which has poor performance.  Consider joining all columns at once using pd.concat(axis=1) instead.  To get a de-fragmented frame, use `newframe = frame.copy()`\n",
      "\n",
      "C:\\Users\\Donatien\\AppData\\Local\\Temp/ipykernel_10828/1483759274.py:4: PerformanceWarning:\n",
      "\n",
      "DataFrame is highly fragmented.  This is usually the result of calling `frame.insert` many times, which has poor performance.  Consider joining all columns at once using pd.concat(axis=1) instead.  To get a de-fragmented frame, use `newframe = frame.copy()`\n",
      "\n"
     ]
    }
   ],
   "source": [
    "df_train['Trans_min_mean'] = df_train['TransactionAmt'] - df_train['TransactionAmt'].mean()\n",
    "df_train['Trans_min_std'] = df_train['Trans_min_mean'] / df_train['TransactionAmt'].std()\n",
    "df_test['Trans_min_mean'] = df_test['TransactionAmt'] - df_test['TransactionAmt'].mean()\n",
    "df_test['Trans_min_std'] = df_test['Trans_min_mean'] / df_test['TransactionAmt'].std()"
   ]
  },
  {
   "cell_type": "code",
   "execution_count": 18,
   "metadata": {},
   "outputs": [
    {
     "name": "stderr",
     "output_type": "stream",
     "text": [
      "C:\\Users\\Donatien\\AppData\\Local\\Temp/ipykernel_10828/2743163679.py:6: PerformanceWarning:\n",
      "\n",
      "DataFrame is highly fragmented.  This is usually the result of calling `frame.insert` many times, which has poor performance.  Consider joining all columns at once using pd.concat(axis=1) instead.  To get a de-fragmented frame, use `newframe = frame.copy()`\n",
      "\n",
      "C:\\Users\\Donatien\\AppData\\Local\\Temp/ipykernel_10828/2743163679.py:7: PerformanceWarning:\n",
      "\n",
      "DataFrame is highly fragmented.  This is usually the result of calling `frame.insert` many times, which has poor performance.  Consider joining all columns at once using pd.concat(axis=1) instead.  To get a de-fragmented frame, use `newframe = frame.copy()`\n",
      "\n",
      "C:\\Users\\Donatien\\AppData\\Local\\Temp/ipykernel_10828/2743163679.py:8: PerformanceWarning:\n",
      "\n",
      "DataFrame is highly fragmented.  This is usually the result of calling `frame.insert` many times, which has poor performance.  Consider joining all columns at once using pd.concat(axis=1) instead.  To get a de-fragmented frame, use `newframe = frame.copy()`\n",
      "\n",
      "C:\\Users\\Donatien\\AppData\\Local\\Temp/ipykernel_10828/2743163679.py:9: PerformanceWarning:\n",
      "\n",
      "DataFrame is highly fragmented.  This is usually the result of calling `frame.insert` many times, which has poor performance.  Consider joining all columns at once using pd.concat(axis=1) instead.  To get a de-fragmented frame, use `newframe = frame.copy()`\n",
      "\n"
     ]
    }
   ],
   "source": [
    "df_train['TransactionAmt_to_mean_card1'] = df_train['TransactionAmt'] / df_train.groupby(['card1'])['TransactionAmt'].transform('mean')\n",
    "df_train['TransactionAmt_to_mean_card4'] = df_train['TransactionAmt'] / df_train.groupby(['card4'])['TransactionAmt'].transform('mean')\n",
    "df_train['TransactionAmt_to_std_card1'] = df_train['TransactionAmt'] / df_train.groupby(['card1'])['TransactionAmt'].transform('std')\n",
    "df_train['TransactionAmt_to_std_card4'] = df_train['TransactionAmt'] / df_train.groupby(['card4'])['TransactionAmt'].transform('std')\n",
    "\n",
    "df_test['TransactionAmt_to_mean_card1'] = df_test['TransactionAmt'] / df_test.groupby(['card1'])['TransactionAmt'].transform('mean')\n",
    "df_test['TransactionAmt_to_mean_card4'] = df_test['TransactionAmt'] / df_test.groupby(['card4'])['TransactionAmt'].transform('mean')\n",
    "df_test['TransactionAmt_to_std_card1'] = df_test['TransactionAmt'] / df_test.groupby(['card1'])['TransactionAmt'].transform('std')\n",
    "df_test['TransactionAmt_to_std_card4'] = df_test['TransactionAmt'] / df_test.groupby(['card4'])['TransactionAmt'].transform('std')"
   ]
  },
  {
   "cell_type": "code",
   "execution_count": 19,
   "metadata": {},
   "outputs": [],
   "source": [
    "df_train['TransactionAmt'] = np.log(df_train['TransactionAmt'])\n",
    "df_test['TransactionAmt'] = np.log(df_test['TransactionAmt'])"
   ]
  },
  {
   "cell_type": "markdown",
   "metadata": {},
   "source": [
    "# Concating dfs to get PCA of V features"
   ]
  },
  {
   "cell_type": "code",
   "execution_count": 20,
   "metadata": {},
   "outputs": [
    {
     "name": "stderr",
     "output_type": "stream",
     "text": [
      "C:\\Users\\Donatien\\AppData\\Local\\Temp/ipykernel_10828/1321810824.py:1: PerformanceWarning:\n",
      "\n",
      "DataFrame is highly fragmented.  This is usually the result of calling `frame.insert` many times, which has poor performance.  Consider joining all columns at once using pd.concat(axis=1) instead.  To get a de-fragmented frame, use `newframe = frame.copy()`\n",
      "\n"
     ]
    }
   ],
   "source": [
    "df_test['isFraud'] = 'test'\n",
    "df = pd.concat([df_train, df_test], axis=0, sort=False )\n",
    "df = df.reset_index()\n",
    "df = df.drop('index', axis=1)"
   ]
  },
  {
   "cell_type": "code",
   "execution_count": 21,
   "metadata": {},
   "outputs": [],
   "source": [
    "def PCA_change(df, cols, n_components, prefix='PCA_', rand_seed=4):\n",
    "    pca = PCA(n_components=n_components, random_state=rand_seed)\n",
    "\n",
    "    principalComponents = pca.fit_transform(df[cols])\n",
    "\n",
    "    principalDf = pd.DataFrame(principalComponents)\n",
    "\n",
    "    df.drop(cols, axis=1, inplace=True)\n",
    "\n",
    "    principalDf.rename(columns=lambda x: str(prefix)+str(x), inplace=True)\n",
    "\n",
    "    df = pd.concat([df, principalDf], axis=1)\n",
    "    \n",
    "    return df"
   ]
  },
  {
   "cell_type": "code",
   "execution_count": 22,
   "metadata": {},
   "outputs": [],
   "source": [
    "mas_v = df_train.columns[55:394]"
   ]
  },
  {
   "cell_type": "markdown",
   "metadata": {},
   "source": [
    "# Getting PCA "
   ]
  },
  {
   "cell_type": "code",
   "execution_count": 23,
   "metadata": {},
   "outputs": [],
   "source": [
    "from sklearn.preprocessing import minmax_scale\n",
    "from sklearn.decomposition import PCA\n",
    "# from sklearn.cluster import KMeans\n",
    "\n",
    "for col in mas_v:\n",
    "    df[col] = df[col].fillna((df[col].min() - 2))\n",
    "    df[col] = (minmax_scale(df[col], feature_range=(0,1)))\n",
    "\n",
    "    \n",
    "df = PCA_change(df, mas_v, prefix='PCA_V_', n_components=30)"
   ]
  },
  {
   "cell_type": "code",
   "execution_count": 24,
   "metadata": {},
   "outputs": [
    {
     "name": "stdout",
     "output_type": "stream",
     "text": [
      "Mem. usage decreased to 280.44 Mb (36.8% reduction)\n"
     ]
    }
   ],
   "source": [
    "df = reduce_mem_usage(df)"
   ]
  },
  {
   "cell_type": "markdown",
   "metadata": {},
   "source": [
    "# Seting train and test back"
   ]
  },
  {
   "cell_type": "code",
   "execution_count": 25,
   "metadata": {},
   "outputs": [],
   "source": [
    "df_train, df_test = df[df['isFraud'] != 'test'], df[df['isFraud'] == 'test'].drop('isFraud', axis=1)"
   ]
  },
  {
   "cell_type": "code",
   "execution_count": 26,
   "metadata": {},
   "outputs": [
    {
     "data": {
      "text/plain": [
       "(590540, 135)"
      ]
     },
     "execution_count": 26,
     "metadata": {},
     "output_type": "execute_result"
    }
   ],
   "source": [
    "df_train.shape"
   ]
  },
  {
   "cell_type": "markdown",
   "metadata": {},
   "source": [
    "# Seting X and y"
   ]
  },
  {
   "cell_type": "code",
   "execution_count": 27,
   "metadata": {},
   "outputs": [],
   "source": [
    "X_train = df_train.sort_values('TransactionDT').drop(['isFraud', \n",
    "                                                      'TransactionDT', \n",
    "                                                      #'Card_ID'\n",
    "                                                     ],\n",
    "                                                     axis=1)\n",
    "y_train = df_train.sort_values('TransactionDT')['isFraud'].astype(bool)\n",
    "\n",
    "X_test = df_test.sort_values('TransactionDT').drop(['TransactionDT',\n",
    "                                                    #'Card_ID'\n",
    "                                                   ], \n",
    "                                                   axis=1)\n",
    "del df_train\n",
    "df_test = df_test[[\"TransactionDT\"]]"
   ]
  },
  {
   "cell_type": "code",
   "execution_count": 32,
   "metadata": {},
   "outputs": [],
   "source": [
    "X_train = X_train.replace(np.inf, 0)\n",
    "X_test = X_test.replace(np.inf, 0)"
   ]
  },
  {
   "cell_type": "markdown",
   "metadata": {},
   "source": [
    "# Defining the HyperOpt function with parameters space and model"
   ]
  },
  {
   "cell_type": "code",
   "execution_count": 37,
   "metadata": {},
   "outputs": [],
   "source": [
    "from sklearn.model_selection import KFold,TimeSeriesSplit\n",
    "from sklearn.metrics import roc_auc_score\n",
    "from xgboost import plot_importance\n",
    "from sklearn.metrics import make_scorer\n",
    "\n",
    "import time\n",
    "def objective(params):\n",
    "    time1 = time.time()\n",
    "    params = {\n",
    "        'max_depth': int(params['max_depth']),\n",
    "        'gamma': \"{:.3f}\".format(params['gamma']),\n",
    "        'subsample': \"{:.2f}\".format(params['subsample']),\n",
    "        'reg_alpha': \"{:.3f}\".format(params['reg_alpha']),\n",
    "        'reg_lambda': \"{:.3f}\".format(params['reg_lambda']),\n",
    "        'learning_rate': \"{:.3f}\".format(params['learning_rate']),\n",
    "        'num_leaves': '{:.3f}'.format(params['num_leaves']),\n",
    "        'colsample_bytree': '{:.3f}'.format(params['colsample_bytree']),\n",
    "        'min_child_samples': '{:.3f}'.format(params['min_child_samples']),\n",
    "        'feature_fraction': '{:.3f}'.format(params['feature_fraction']),\n",
    "        'bagging_fraction': '{:.3f}'.format(params['bagging_fraction'])\n",
    "    }\n",
    "\n",
    "    print(\"\\n############## New Run ################\")\n",
    "    print(f\"params = {params}\")\n",
    "    FOLDS = 7\n",
    "    count=1\n",
    "    skf = StratifiedKFold(n_splits=FOLDS, shuffle=True, random_state=42)\n",
    "\n",
    "    tss = TimeSeriesSplit(n_splits=FOLDS)\n",
    "    y_preds = np.zeros(sample_submission.shape[0])\n",
    "    y_oof = np.zeros(X_train.shape[0])\n",
    "    score_mean = 0\n",
    "    for tr_idx, val_idx in tss.split(X_train, y_train):\n",
    "        clf = xgb.XGBClassifier(\n",
    "            n_estimators=600, random_state=4, verbose=True, \n",
    "            device=\"cuda\",\n",
    "            **params\n",
    "        )\n",
    "\n",
    "        X_tr, X_vl = X_train.iloc[tr_idx, :], X_train.iloc[val_idx, :]\n",
    "        y_tr, y_vl = y_train.iloc[tr_idx], y_train.iloc[val_idx]\n",
    "        \n",
    "        clf.fit(X_tr, y_tr)\n",
    "        #y_pred_train = clf.predict_proba(X_vl)[:,1]\n",
    "        #print(y_pred_train)\n",
    "        score = make_scorer(roc_auc_score, needs_proba=True)(clf, X_vl, y_vl)\n",
    "        # plt.show()\n",
    "        score_mean += score\n",
    "        print(f'{count} CV - score: {round(score, 4)}')\n",
    "        count += 1\n",
    "    time2 = time.time() - time1\n",
    "    print(f\"Total Time Run: {round(time2 / 60,2)}\")\n",
    "    gc.collect()\n",
    "    print(f'Mean ROC_AUC: {score_mean / FOLDS}')\n",
    "    del X_tr, X_vl, y_tr, y_vl, clf, score\n",
    "    return -(score_mean / FOLDS)\n",
    "\n",
    "\n",
    "space = {\n",
    "    # The maximum depth of a tree, same as GBM.\n",
    "    # Used to control over-fitting as higher depth will allow model \n",
    "    # to learn relations very specific to a particular sample.\n",
    "    # Should be tuned using CV.\n",
    "    # Typical values: 3-10\n",
    "    'max_depth': hp.quniform('max_depth', 7, 23, 1),\n",
    "    \n",
    "    # reg_alpha: L1 regularization term. L1 regularization encourages sparsity \n",
    "    # (meaning pulling weights to 0). It can be more useful when the objective\n",
    "    # is logistic regression since you might need help with feature selection.\n",
    "    'reg_alpha':  hp.uniform('reg_alpha', 0.01, 0.4),\n",
    "    \n",
    "    # reg_lambda: L2 regularization term. L2 encourages smaller weights, this\n",
    "    # approach can be more useful in tree-models where zeroing \n",
    "    # features might not make much sense.\n",
    "    'reg_lambda': hp.uniform('reg_lambda', 0.01, .4),\n",
    "    \n",
    "    # eta: Analogous to learning rate in GBM\n",
    "    # Makes the model more robust by shrinking the weights on each step\n",
    "    # Typical final values to be used: 0.01-0.2\n",
    "    'learning_rate': hp.uniform('learning_rate', 0.01, 0.2),\n",
    "    \n",
    "    # colsample_bytree: Similar to max_features in GBM. Denotes the \n",
    "    # fraction of columns to be randomly samples for each tree.\n",
    "    # Typical values: 0.5-1\n",
    "    'colsample_bytree': hp.uniform('colsample_bytree', 0.3, .9),\n",
    "    \n",
    "    # A node is split only when the resulting split gives a positive\n",
    "    # reduction in the loss function. Gamma specifies the \n",
    "    # minimum loss reduction required to make a split.\n",
    "    # Makes the algorithm conservative. The values can vary depending on the loss function and should be tuned.\n",
    "    'gamma': hp.uniform('gamma', 0.01, .7),\n",
    "    \n",
    "    # more increases accuracy, but may lead to overfitting.\n",
    "    # num_leaves: the number of leaf nodes to use. Having a large number \n",
    "    # of leaves will improve accuracy, but will also lead to overfitting.\n",
    "    'num_leaves': hp.choice('num_leaves', list(range(20, 250, 10))),\n",
    "    \n",
    "    # specifies the minimum samples per leaf node.\n",
    "    # the minimum number of samples (data) to group into a leaf. \n",
    "    # The parameter can greatly assist with overfitting: larger sample\n",
    "    # sizes per leaf will reduce overfitting (but may lead to under-fitting).\n",
    "    'min_child_samples': hp.choice('min_child_samples', list(range(100, 250, 10))),\n",
    "    \n",
    "    # subsample: represents a fraction of the rows (observations) to be \n",
    "    # considered when building each subtree. Tianqi Chen and Carlos Guestrin\n",
    "    # in their paper A Scalable Tree Boosting System recommend \n",
    "    'subsample': hp.choice('subsample', [0.2, 0.4, 0.5, 0.6, 0.7, .8, .9]),\n",
    "    \n",
    "    # randomly select a fraction of the features.\n",
    "    # feature_fraction: controls the subsampling of features used\n",
    "    # for training (as opposed to subsampling the actual training data in \n",
    "    # the case of bagging). Smaller fractions reduce overfitting.\n",
    "    'feature_fraction': hp.uniform('feature_fraction', 0.4, .8),\n",
    "    \n",
    "    # randomly bag or subsample training data.\n",
    "    'bagging_fraction': hp.uniform('bagging_fraction', 0.4, .9)\n",
    "    \n",
    "    # bagging_fraction and bagging_freq: enables bagging (subsampling) \n",
    "    # of the training data. Both values need to be set for bagging to be used.\n",
    "    # The frequency controls how often (iteration) bagging is used. Smaller\n",
    "    # fractions and frequencies reduce overfitting.\n",
    "}\n"
   ]
  },
  {
   "cell_type": "markdown",
   "metadata": {},
   "source": [
    "# Running the optimizer"
   ]
  },
  {
   "cell_type": "code",
   "execution_count": 38,
   "metadata": {},
   "outputs": [
    {
     "name": "stdout",
     "output_type": "stream",
     "text": [
      "                                                      \n",
      "############## New Run ################\n",
      "params = {'max_depth': 17, 'gamma': '0.281', 'subsample': '0.20', 'reg_alpha': '0.310', 'reg_lambda': '0.339', 'learning_rate': '0.037', 'num_leaves': '150.000', 'colsample_bytree': '0.363', 'min_child_samples': '200.000', 'feature_fraction': '0.566', 'bagging_fraction': '0.587'}\n",
      "  0%|          | 0/27 [00:00<?, ?trial/s, best loss=?]"
     ]
    },
    {
     "name": "stderr",
     "output_type": "stream",
     "text": [
      "C:\\Users\\Donatien\\anaconda3\\lib\\site-packages\\xgboost\\core.py:160: UserWarning:\n",
      "\n",
      "[16:54:07] WARNING: C:\\buildkite-agent\\builds\\buildkite-windows-cpu-autoscaling-group-i-0b3782d1791676daf-1\\xgboost\\xgboost-ci-windows\\src\\learner.cc:742: \n",
      "Parameters: { \"bagging_fraction\", \"feature_fraction\", \"min_child_samples\", \"num_leaves\", \"verbose\" } are not used.\n",
      "\n",
      "\n",
      "\n"
     ]
    },
    {
     "name": "stdout",
     "output_type": "stream",
     "text": [
      "1 CV - score: 0.8931                                  \n",
      "  0%|          | 0/27 [00:09<?, ?trial/s, best loss=?]"
     ]
    },
    {
     "name": "stderr",
     "output_type": "stream",
     "text": [
      "C:\\Users\\Donatien\\anaconda3\\lib\\site-packages\\xgboost\\core.py:160: UserWarning:\n",
      "\n",
      "[16:54:17] WARNING: C:\\buildkite-agent\\builds\\buildkite-windows-cpu-autoscaling-group-i-0b3782d1791676daf-1\\xgboost\\xgboost-ci-windows\\src\\learner.cc:742: \n",
      "Parameters: { \"bagging_fraction\", \"feature_fraction\", \"min_child_samples\", \"num_leaves\", \"verbose\" } are not used.\n",
      "\n",
      "\n",
      "\n"
     ]
    },
    {
     "name": "stdout",
     "output_type": "stream",
     "text": [
      "2 CV - score: 0.8974                                  \n",
      "  0%|          | 0/27 [00:24<?, ?trial/s, best loss=?]"
     ]
    },
    {
     "name": "stderr",
     "output_type": "stream",
     "text": [
      "C:\\Users\\Donatien\\anaconda3\\lib\\site-packages\\xgboost\\core.py:160: UserWarning:\n",
      "\n",
      "[16:54:32] WARNING: C:\\buildkite-agent\\builds\\buildkite-windows-cpu-autoscaling-group-i-0b3782d1791676daf-1\\xgboost\\xgboost-ci-windows\\src\\learner.cc:742: \n",
      "Parameters: { \"bagging_fraction\", \"feature_fraction\", \"min_child_samples\", \"num_leaves\", \"verbose\" } are not used.\n",
      "\n",
      "\n",
      "\n"
     ]
    },
    {
     "name": "stdout",
     "output_type": "stream",
     "text": [
      "3 CV - score: 0.9113                                  \n",
      "  0%|          | 0/27 [00:46<?, ?trial/s, best loss=?]"
     ]
    },
    {
     "name": "stderr",
     "output_type": "stream",
     "text": [
      "C:\\Users\\Donatien\\anaconda3\\lib\\site-packages\\xgboost\\core.py:160: UserWarning:\n",
      "\n",
      "[16:54:55] WARNING: C:\\buildkite-agent\\builds\\buildkite-windows-cpu-autoscaling-group-i-0b3782d1791676daf-1\\xgboost\\xgboost-ci-windows\\src\\learner.cc:742: \n",
      "Parameters: { \"bagging_fraction\", \"feature_fraction\", \"min_child_samples\", \"num_leaves\", \"verbose\" } are not used.\n",
      "\n",
      "\n",
      "\n"
     ]
    },
    {
     "name": "stdout",
     "output_type": "stream",
     "text": [
      "4 CV - score: 0.8858                                  \n",
      "  0%|          | 0/27 [01:15<?, ?trial/s, best loss=?]"
     ]
    },
    {
     "name": "stderr",
     "output_type": "stream",
     "text": [
      "C:\\Users\\Donatien\\anaconda3\\lib\\site-packages\\xgboost\\core.py:160: UserWarning:\n",
      "\n",
      "[16:55:24] WARNING: C:\\buildkite-agent\\builds\\buildkite-windows-cpu-autoscaling-group-i-0b3782d1791676daf-1\\xgboost\\xgboost-ci-windows\\src\\learner.cc:742: \n",
      "Parameters: { \"bagging_fraction\", \"feature_fraction\", \"min_child_samples\", \"num_leaves\", \"verbose\" } are not used.\n",
      "\n",
      "\n",
      "\n"
     ]
    },
    {
     "name": "stdout",
     "output_type": "stream",
     "text": [
      "5 CV - score: 0.9214                                  \n",
      "  0%|          | 0/27 [01:50<?, ?trial/s, best loss=?]"
     ]
    },
    {
     "name": "stderr",
     "output_type": "stream",
     "text": [
      "C:\\Users\\Donatien\\anaconda3\\lib\\site-packages\\xgboost\\core.py:160: UserWarning:\n",
      "\n",
      "[16:56:00] WARNING: C:\\buildkite-agent\\builds\\buildkite-windows-cpu-autoscaling-group-i-0b3782d1791676daf-1\\xgboost\\xgboost-ci-windows\\src\\learner.cc:742: \n",
      "Parameters: { \"bagging_fraction\", \"feature_fraction\", \"min_child_samples\", \"num_leaves\", \"verbose\" } are not used.\n",
      "\n",
      "\n",
      "\n"
     ]
    },
    {
     "name": "stdout",
     "output_type": "stream",
     "text": [
      "6 CV - score: 0.9155                                  \n",
      "  0%|          | 0/27 [02:34<?, ?trial/s, best loss=?]"
     ]
    },
    {
     "name": "stderr",
     "output_type": "stream",
     "text": [
      "C:\\Users\\Donatien\\anaconda3\\lib\\site-packages\\xgboost\\core.py:160: UserWarning:\n",
      "\n",
      "[16:56:45] WARNING: C:\\buildkite-agent\\builds\\buildkite-windows-cpu-autoscaling-group-i-0b3782d1791676daf-1\\xgboost\\xgboost-ci-windows\\src\\learner.cc:742: \n",
      "Parameters: { \"bagging_fraction\", \"feature_fraction\", \"min_child_samples\", \"num_leaves\", \"verbose\" } are not used.\n",
      "\n",
      "\n",
      "\n"
     ]
    },
    {
     "name": "stdout",
     "output_type": "stream",
     "text": [
      "7 CV - score: 0.9121                                  \n",
      "Total Time Run: 3.39                                  \n",
      "Mean ROC_AUC: 0.9052193626845171                      \n",
      "                                                                                    \n",
      "############## New Run ################\n",
      "params = {'max_depth': 15, 'gamma': '0.277', 'subsample': '0.20', 'reg_alpha': '0.259', 'reg_lambda': '0.049', 'learning_rate': '0.041', 'num_leaves': '230.000', 'colsample_bytree': '0.586', 'min_child_samples': '160.000', 'feature_fraction': '0.472', 'bagging_fraction': '0.677'}\n",
      "  4%|▎         | 1/27 [03:23<1:28:20, 203.88s/trial, best loss: -0.9052193626845171]"
     ]
    },
    {
     "name": "stderr",
     "output_type": "stream",
     "text": [
      "C:\\Users\\Donatien\\anaconda3\\lib\\site-packages\\xgboost\\core.py:160: UserWarning:\n",
      "\n",
      "[16:57:31] WARNING: C:\\buildkite-agent\\builds\\buildkite-windows-cpu-autoscaling-group-i-0b3782d1791676daf-1\\xgboost\\xgboost-ci-windows\\src\\learner.cc:742: \n",
      "Parameters: { \"bagging_fraction\", \"feature_fraction\", \"min_child_samples\", \"num_leaves\", \"verbose\" } are not used.\n",
      "\n",
      "\n",
      "\n"
     ]
    },
    {
     "name": "stdout",
     "output_type": "stream",
     "text": [
      "1 CV - score: 0.8887                                                                \n",
      "  4%|▎         | 1/27 [03:33<1:28:20, 203.88s/trial, best loss: -0.9052193626845171]"
     ]
    },
    {
     "name": "stderr",
     "output_type": "stream",
     "text": [
      "C:\\Users\\Donatien\\anaconda3\\lib\\site-packages\\xgboost\\core.py:160: UserWarning:\n",
      "\n",
      "[16:57:41] WARNING: C:\\buildkite-agent\\builds\\buildkite-windows-cpu-autoscaling-group-i-0b3782d1791676daf-1\\xgboost\\xgboost-ci-windows\\src\\learner.cc:742: \n",
      "Parameters: { \"bagging_fraction\", \"feature_fraction\", \"min_child_samples\", \"num_leaves\", \"verbose\" } are not used.\n",
      "\n",
      "\n",
      "\n"
     ]
    },
    {
     "name": "stdout",
     "output_type": "stream",
     "text": [
      "2 CV - score: 0.8912                                                                \n",
      "  4%|▎         | 1/27 [03:48<1:28:20, 203.88s/trial, best loss: -0.9052193626845171]"
     ]
    },
    {
     "name": "stderr",
     "output_type": "stream",
     "text": [
      "C:\\Users\\Donatien\\anaconda3\\lib\\site-packages\\xgboost\\core.py:160: UserWarning:\n",
      "\n",
      "[16:57:57] WARNING: C:\\buildkite-agent\\builds\\buildkite-windows-cpu-autoscaling-group-i-0b3782d1791676daf-1\\xgboost\\xgboost-ci-windows\\src\\learner.cc:742: \n",
      "Parameters: { \"bagging_fraction\", \"feature_fraction\", \"min_child_samples\", \"num_leaves\", \"verbose\" } are not used.\n",
      "\n",
      "\n",
      "\n"
     ]
    },
    {
     "name": "stdout",
     "output_type": "stream",
     "text": [
      "3 CV - score: 0.9156                                                                \n",
      "  4%|▎         | 1/27 [04:10<1:28:20, 203.88s/trial, best loss: -0.9052193626845171]"
     ]
    },
    {
     "name": "stderr",
     "output_type": "stream",
     "text": [
      "C:\\Users\\Donatien\\anaconda3\\lib\\site-packages\\xgboost\\core.py:160: UserWarning:\n",
      "\n",
      "[16:58:18] WARNING: C:\\buildkite-agent\\builds\\buildkite-windows-cpu-autoscaling-group-i-0b3782d1791676daf-1\\xgboost\\xgboost-ci-windows\\src\\learner.cc:742: \n",
      "Parameters: { \"bagging_fraction\", \"feature_fraction\", \"min_child_samples\", \"num_leaves\", \"verbose\" } are not used.\n",
      "\n",
      "\n",
      "\n"
     ]
    },
    {
     "name": "stdout",
     "output_type": "stream",
     "text": [
      "4 CV - score: 0.8822                                                                \n",
      "  4%|▎         | 1/27 [04:38<1:28:20, 203.88s/trial, best loss: -0.9052193626845171]"
     ]
    },
    {
     "name": "stderr",
     "output_type": "stream",
     "text": [
      "C:\\Users\\Donatien\\anaconda3\\lib\\site-packages\\xgboost\\core.py:160: UserWarning:\n",
      "\n",
      "[16:58:48] WARNING: C:\\buildkite-agent\\builds\\buildkite-windows-cpu-autoscaling-group-i-0b3782d1791676daf-1\\xgboost\\xgboost-ci-windows\\src\\learner.cc:742: \n",
      "Parameters: { \"bagging_fraction\", \"feature_fraction\", \"min_child_samples\", \"num_leaves\", \"verbose\" } are not used.\n",
      "\n",
      "\n",
      "\n"
     ]
    },
    {
     "name": "stdout",
     "output_type": "stream",
     "text": [
      "5 CV - score: 0.9236                                                                \n",
      "  4%|▎         | 1/27 [05:13<1:28:20, 203.88s/trial, best loss: -0.9052193626845171]"
     ]
    },
    {
     "name": "stderr",
     "output_type": "stream",
     "text": [
      "C:\\Users\\Donatien\\anaconda3\\lib\\site-packages\\xgboost\\core.py:160: UserWarning:\n",
      "\n",
      "[16:59:23] WARNING: C:\\buildkite-agent\\builds\\buildkite-windows-cpu-autoscaling-group-i-0b3782d1791676daf-1\\xgboost\\xgboost-ci-windows\\src\\learner.cc:742: \n",
      "Parameters: { \"bagging_fraction\", \"feature_fraction\", \"min_child_samples\", \"num_leaves\", \"verbose\" } are not used.\n",
      "\n",
      "\n",
      "\n"
     ]
    },
    {
     "name": "stdout",
     "output_type": "stream",
     "text": [
      "6 CV - score: 0.9128                                                                \n",
      "  4%|▎         | 1/27 [05:56<1:28:20, 203.88s/trial, best loss: -0.9052193626845171]"
     ]
    },
    {
     "name": "stderr",
     "output_type": "stream",
     "text": [
      "C:\\Users\\Donatien\\anaconda3\\lib\\site-packages\\xgboost\\core.py:160: UserWarning:\n",
      "\n",
      "[17:00:07] WARNING: C:\\buildkite-agent\\builds\\buildkite-windows-cpu-autoscaling-group-i-0b3782d1791676daf-1\\xgboost\\xgboost-ci-windows\\src\\learner.cc:742: \n",
      "Parameters: { \"bagging_fraction\", \"feature_fraction\", \"min_child_samples\", \"num_leaves\", \"verbose\" } are not used.\n",
      "\n",
      "\n",
      "\n"
     ]
    },
    {
     "name": "stdout",
     "output_type": "stream",
     "text": [
      "7 CV - score: 0.9122                                                                \n",
      "Total Time Run: 3.42                                                                \n",
      "Mean ROC_AUC: 0.9037411996116452                                                    \n",
      "                                                                                    \n",
      "############## New Run ################\n",
      "params = {'max_depth': 11, 'gamma': '0.622', 'subsample': '0.80', 'reg_alpha': '0.208', 'reg_lambda': '0.229', 'learning_rate': '0.023', 'num_leaves': '200.000', 'colsample_bytree': '0.697', 'min_child_samples': '160.000', 'feature_fraction': '0.501', 'bagging_fraction': '0.686'}\n",
      "  7%|▋         | 2/27 [06:49<1:25:22, 204.89s/trial, best loss: -0.9052193626845171]"
     ]
    },
    {
     "name": "stderr",
     "output_type": "stream",
     "text": [
      "C:\\Users\\Donatien\\anaconda3\\lib\\site-packages\\xgboost\\core.py:160: UserWarning:\n",
      "\n",
      "[17:00:56] WARNING: C:\\buildkite-agent\\builds\\buildkite-windows-cpu-autoscaling-group-i-0b3782d1791676daf-1\\xgboost\\xgboost-ci-windows\\src\\learner.cc:742: \n",
      "Parameters: { \"bagging_fraction\", \"feature_fraction\", \"min_child_samples\", \"num_leaves\", \"verbose\" } are not used.\n",
      "\n",
      "\n",
      "\n"
     ]
    },
    {
     "name": "stdout",
     "output_type": "stream",
     "text": [
      "1 CV - score: 0.9054                                                                \n",
      "  7%|▋         | 2/27 [06:59<1:25:22, 204.89s/trial, best loss: -0.9052193626845171]"
     ]
    },
    {
     "name": "stderr",
     "output_type": "stream",
     "text": [
      "C:\\Users\\Donatien\\anaconda3\\lib\\site-packages\\xgboost\\core.py:160: UserWarning:\n",
      "\n",
      "[17:01:07] WARNING: C:\\buildkite-agent\\builds\\buildkite-windows-cpu-autoscaling-group-i-0b3782d1791676daf-1\\xgboost\\xgboost-ci-windows\\src\\learner.cc:742: \n",
      "Parameters: { \"bagging_fraction\", \"feature_fraction\", \"min_child_samples\", \"num_leaves\", \"verbose\" } are not used.\n",
      "\n",
      "\n",
      "\n"
     ]
    },
    {
     "name": "stdout",
     "output_type": "stream",
     "text": [
      "2 CV - score: 0.912                                                                 \n",
      "  7%|▋         | 2/27 [07:14<1:25:22, 204.89s/trial, best loss: -0.9052193626845171]"
     ]
    },
    {
     "name": "stderr",
     "output_type": "stream",
     "text": [
      "C:\\Users\\Donatien\\anaconda3\\lib\\site-packages\\xgboost\\core.py:160: UserWarning:\n",
      "\n",
      "[17:01:23] WARNING: C:\\buildkite-agent\\builds\\buildkite-windows-cpu-autoscaling-group-i-0b3782d1791676daf-1\\xgboost\\xgboost-ci-windows\\src\\learner.cc:742: \n",
      "Parameters: { \"bagging_fraction\", \"feature_fraction\", \"min_child_samples\", \"num_leaves\", \"verbose\" } are not used.\n",
      "\n",
      "\n",
      "\n"
     ]
    },
    {
     "name": "stdout",
     "output_type": "stream",
     "text": [
      "3 CV - score: 0.9268                                                                \n",
      "  7%|▋         | 2/27 [07:36<1:25:22, 204.89s/trial, best loss: -0.9052193626845171]"
     ]
    },
    {
     "name": "stderr",
     "output_type": "stream",
     "text": [
      "C:\\Users\\Donatien\\anaconda3\\lib\\site-packages\\xgboost\\core.py:160: UserWarning:\n",
      "\n",
      "[17:01:45] WARNING: C:\\buildkite-agent\\builds\\buildkite-windows-cpu-autoscaling-group-i-0b3782d1791676daf-1\\xgboost\\xgboost-ci-windows\\src\\learner.cc:742: \n",
      "Parameters: { \"bagging_fraction\", \"feature_fraction\", \"min_child_samples\", \"num_leaves\", \"verbose\" } are not used.\n",
      "\n",
      "\n",
      "\n"
     ]
    },
    {
     "name": "stdout",
     "output_type": "stream",
     "text": [
      "4 CV - score: 0.9036                                                                \n",
      "  7%|▋         | 2/27 [08:02<1:25:22, 204.89s/trial, best loss: -0.9052193626845171]"
     ]
    },
    {
     "name": "stderr",
     "output_type": "stream",
     "text": [
      "C:\\Users\\Donatien\\anaconda3\\lib\\site-packages\\xgboost\\core.py:160: UserWarning:\n",
      "\n",
      "[17:02:11] WARNING: C:\\buildkite-agent\\builds\\buildkite-windows-cpu-autoscaling-group-i-0b3782d1791676daf-1\\xgboost\\xgboost-ci-windows\\src\\learner.cc:742: \n",
      "Parameters: { \"bagging_fraction\", \"feature_fraction\", \"min_child_samples\", \"num_leaves\", \"verbose\" } are not used.\n",
      "\n",
      "\n",
      "\n"
     ]
    },
    {
     "name": "stdout",
     "output_type": "stream",
     "text": [
      "5 CV - score: 0.9369                                                                \n",
      "  7%|▋         | 2/27 [08:32<1:25:22, 204.89s/trial, best loss: -0.9052193626845171]"
     ]
    },
    {
     "name": "stderr",
     "output_type": "stream",
     "text": [
      "C:\\Users\\Donatien\\anaconda3\\lib\\site-packages\\xgboost\\core.py:160: UserWarning:\n",
      "\n",
      "[17:02:42] WARNING: C:\\buildkite-agent\\builds\\buildkite-windows-cpu-autoscaling-group-i-0b3782d1791676daf-1\\xgboost\\xgboost-ci-windows\\src\\learner.cc:742: \n",
      "Parameters: { \"bagging_fraction\", \"feature_fraction\", \"min_child_samples\", \"num_leaves\", \"verbose\" } are not used.\n",
      "\n",
      "\n",
      "\n"
     ]
    },
    {
     "name": "stdout",
     "output_type": "stream",
     "text": [
      "6 CV - score: 0.9316                                                                \n",
      "  7%|▋         | 2/27 [09:07<1:25:22, 204.89s/trial, best loss: -0.9052193626845171]"
     ]
    },
    {
     "name": "stderr",
     "output_type": "stream",
     "text": [
      "C:\\Users\\Donatien\\anaconda3\\lib\\site-packages\\xgboost\\core.py:160: UserWarning:\n",
      "\n",
      "[17:03:17] WARNING: C:\\buildkite-agent\\builds\\buildkite-windows-cpu-autoscaling-group-i-0b3782d1791676daf-1\\xgboost\\xgboost-ci-windows\\src\\learner.cc:742: \n",
      "Parameters: { \"bagging_fraction\", \"feature_fraction\", \"min_child_samples\", \"num_leaves\", \"verbose\" } are not used.\n",
      "\n",
      "\n",
      "\n"
     ]
    },
    {
     "name": "stdout",
     "output_type": "stream",
     "text": [
      "7 CV - score: 0.929                                                                 \n",
      "Total Time Run: 2.95                                                                \n",
      "Mean ROC_AUC: 0.9207533113144901                                                    \n",
      "                                                                                    \n",
      "############## New Run ################\n",
      "params = {'max_depth': 12, 'gamma': '0.403', 'subsample': '0.20', 'reg_alpha': '0.378', 'reg_lambda': '0.046', 'learning_rate': '0.100', 'num_leaves': '90.000', 'colsample_bytree': '0.740', 'min_child_samples': '240.000', 'feature_fraction': '0.612', 'bagging_fraction': '0.747'}\n",
      " 11%|█         | 3/27 [09:46<1:16:50, 192.12s/trial, best loss: -0.9207533113144901]"
     ]
    },
    {
     "name": "stderr",
     "output_type": "stream",
     "text": [
      "C:\\Users\\Donatien\\anaconda3\\lib\\site-packages\\xgboost\\core.py:160: UserWarning:\n",
      "\n",
      "[17:03:53] WARNING: C:\\buildkite-agent\\builds\\buildkite-windows-cpu-autoscaling-group-i-0b3782d1791676daf-1\\xgboost\\xgboost-ci-windows\\src\\learner.cc:742: \n",
      "Parameters: { \"bagging_fraction\", \"feature_fraction\", \"min_child_samples\", \"num_leaves\", \"verbose\" } are not used.\n",
      "\n",
      "\n",
      "\n"
     ]
    },
    {
     "name": "stdout",
     "output_type": "stream",
     "text": [
      "1 CV - score: 0.8799                                                                \n",
      " 11%|█         | 3/27 [09:53<1:16:50, 192.12s/trial, best loss: -0.9207533113144901]"
     ]
    },
    {
     "name": "stderr",
     "output_type": "stream",
     "text": [
      "C:\\Users\\Donatien\\anaconda3\\lib\\site-packages\\xgboost\\core.py:160: UserWarning:\n",
      "\n",
      "[17:04:01] WARNING: C:\\buildkite-agent\\builds\\buildkite-windows-cpu-autoscaling-group-i-0b3782d1791676daf-1\\xgboost\\xgboost-ci-windows\\src\\learner.cc:742: \n",
      "Parameters: { \"bagging_fraction\", \"feature_fraction\", \"min_child_samples\", \"num_leaves\", \"verbose\" } are not used.\n",
      "\n",
      "\n",
      "\n"
     ]
    },
    {
     "name": "stdout",
     "output_type": "stream",
     "text": [
      "2 CV - score: 0.883                                                                 \n",
      " 11%|█         | 3/27 [10:05<1:16:50, 192.12s/trial, best loss: -0.9207533113144901]"
     ]
    },
    {
     "name": "stderr",
     "output_type": "stream",
     "text": [
      "C:\\Users\\Donatien\\anaconda3\\lib\\site-packages\\xgboost\\core.py:160: UserWarning:\n",
      "\n",
      "[17:04:14] WARNING: C:\\buildkite-agent\\builds\\buildkite-windows-cpu-autoscaling-group-i-0b3782d1791676daf-1\\xgboost\\xgboost-ci-windows\\src\\learner.cc:742: \n",
      "Parameters: { \"bagging_fraction\", \"feature_fraction\", \"min_child_samples\", \"num_leaves\", \"verbose\" } are not used.\n",
      "\n",
      "\n",
      "\n"
     ]
    },
    {
     "name": "stdout",
     "output_type": "stream",
     "text": [
      "3 CV - score: 0.8997                                                                \n",
      " 11%|█         | 3/27 [10:24<1:16:50, 192.12s/trial, best loss: -0.9207533113144901]"
     ]
    },
    {
     "name": "stderr",
     "output_type": "stream",
     "text": [
      "C:\\Users\\Donatien\\anaconda3\\lib\\site-packages\\xgboost\\core.py:160: UserWarning:\n",
      "\n",
      "[17:04:33] WARNING: C:\\buildkite-agent\\builds\\buildkite-windows-cpu-autoscaling-group-i-0b3782d1791676daf-1\\xgboost\\xgboost-ci-windows\\src\\learner.cc:742: \n",
      "Parameters: { \"bagging_fraction\", \"feature_fraction\", \"min_child_samples\", \"num_leaves\", \"verbose\" } are not used.\n",
      "\n",
      "\n",
      "\n"
     ]
    },
    {
     "name": "stdout",
     "output_type": "stream",
     "text": [
      "4 CV - score: 0.8665                                                                \n",
      " 11%|█         | 3/27 [10:46<1:16:50, 192.12s/trial, best loss: -0.9207533113144901]"
     ]
    },
    {
     "name": "stderr",
     "output_type": "stream",
     "text": [
      "C:\\Users\\Donatien\\anaconda3\\lib\\site-packages\\xgboost\\core.py:160: UserWarning:\n",
      "\n",
      "[17:04:56] WARNING: C:\\buildkite-agent\\builds\\buildkite-windows-cpu-autoscaling-group-i-0b3782d1791676daf-1\\xgboost\\xgboost-ci-windows\\src\\learner.cc:742: \n",
      "Parameters: { \"bagging_fraction\", \"feature_fraction\", \"min_child_samples\", \"num_leaves\", \"verbose\" } are not used.\n",
      "\n",
      "\n",
      "\n"
     ]
    },
    {
     "name": "stdout",
     "output_type": "stream",
     "text": [
      "5 CV - score: 0.9098                                                                \n",
      " 11%|█         | 3/27 [11:14<1:16:50, 192.12s/trial, best loss: -0.9207533113144901]"
     ]
    },
    {
     "name": "stderr",
     "output_type": "stream",
     "text": [
      "C:\\Users\\Donatien\\anaconda3\\lib\\site-packages\\xgboost\\core.py:160: UserWarning:\n",
      "\n",
      "[17:05:24] WARNING: C:\\buildkite-agent\\builds\\buildkite-windows-cpu-autoscaling-group-i-0b3782d1791676daf-1\\xgboost\\xgboost-ci-windows\\src\\learner.cc:742: \n",
      "Parameters: { \"bagging_fraction\", \"feature_fraction\", \"min_child_samples\", \"num_leaves\", \"verbose\" } are not used.\n",
      "\n",
      "\n",
      "\n"
     ]
    },
    {
     "name": "stdout",
     "output_type": "stream",
     "text": [
      "6 CV - score: 0.8971                                                                \n",
      " 11%|█         | 3/27 [11:47<1:16:50, 192.12s/trial, best loss: -0.9207533113144901]"
     ]
    },
    {
     "name": "stderr",
     "output_type": "stream",
     "text": [
      "C:\\Users\\Donatien\\anaconda3\\lib\\site-packages\\xgboost\\core.py:160: UserWarning:\n",
      "\n",
      "[17:05:58] WARNING: C:\\buildkite-agent\\builds\\buildkite-windows-cpu-autoscaling-group-i-0b3782d1791676daf-1\\xgboost\\xgboost-ci-windows\\src\\learner.cc:742: \n",
      "Parameters: { \"bagging_fraction\", \"feature_fraction\", \"min_child_samples\", \"num_leaves\", \"verbose\" } are not used.\n",
      "\n",
      "\n",
      "\n"
     ]
    },
    {
     "name": "stdout",
     "output_type": "stream",
     "text": [
      "7 CV - score: 0.8985                                                                \n",
      "Total Time Run: 2.65                                                                \n",
      "Mean ROC_AUC: 0.8906618262384887                                                    \n",
      "                                                                                    \n",
      "############## New Run ################\n",
      "params = {'max_depth': 9, 'gamma': '0.232', 'subsample': '0.50', 'reg_alpha': '0.357', 'reg_lambda': '0.370', 'learning_rate': '0.166', 'num_leaves': '170.000', 'colsample_bytree': '0.611', 'min_child_samples': '120.000', 'feature_fraction': '0.548', 'bagging_fraction': '0.543'}\n",
      " 15%|█▍        | 4/27 [12:25<1:08:40, 179.15s/trial, best loss: -0.9207533113144901]"
     ]
    },
    {
     "name": "stderr",
     "output_type": "stream",
     "text": [
      "C:\\Users\\Donatien\\anaconda3\\lib\\site-packages\\xgboost\\core.py:160: UserWarning:\n",
      "\n",
      "[17:06:33] WARNING: C:\\buildkite-agent\\builds\\buildkite-windows-cpu-autoscaling-group-i-0b3782d1791676daf-1\\xgboost\\xgboost-ci-windows\\src\\learner.cc:742: \n",
      "Parameters: { \"bagging_fraction\", \"feature_fraction\", \"min_child_samples\", \"num_leaves\", \"verbose\" } are not used.\n",
      "\n",
      "\n",
      "\n"
     ]
    },
    {
     "name": "stdout",
     "output_type": "stream",
     "text": [
      "1 CV - score: 0.8897                                                                \n",
      " 15%|█▍        | 4/27 [12:31<1:08:40, 179.15s/trial, best loss: -0.9207533113144901]"
     ]
    },
    {
     "name": "stderr",
     "output_type": "stream",
     "text": [
      "C:\\Users\\Donatien\\anaconda3\\lib\\site-packages\\xgboost\\core.py:160: UserWarning:\n",
      "\n",
      "[17:06:39] WARNING: C:\\buildkite-agent\\builds\\buildkite-windows-cpu-autoscaling-group-i-0b3782d1791676daf-1\\xgboost\\xgboost-ci-windows\\src\\learner.cc:742: \n",
      "Parameters: { \"bagging_fraction\", \"feature_fraction\", \"min_child_samples\", \"num_leaves\", \"verbose\" } are not used.\n",
      "\n",
      "\n",
      "\n"
     ]
    },
    {
     "name": "stdout",
     "output_type": "stream",
     "text": [
      "2 CV - score: 0.8867                                                                \n",
      " 15%|█▍        | 4/27 [12:40<1:08:40, 179.15s/trial, best loss: -0.9207533113144901]"
     ]
    },
    {
     "name": "stderr",
     "output_type": "stream",
     "text": [
      "C:\\Users\\Donatien\\anaconda3\\lib\\site-packages\\xgboost\\core.py:160: UserWarning:\n",
      "\n",
      "[17:06:49] WARNING: C:\\buildkite-agent\\builds\\buildkite-windows-cpu-autoscaling-group-i-0b3782d1791676daf-1\\xgboost\\xgboost-ci-windows\\src\\learner.cc:742: \n",
      "Parameters: { \"bagging_fraction\", \"feature_fraction\", \"min_child_samples\", \"num_leaves\", \"verbose\" } are not used.\n",
      "\n",
      "\n",
      "\n"
     ]
    },
    {
     "name": "stdout",
     "output_type": "stream",
     "text": [
      "3 CV - score: 0.9067                                                                \n",
      " 15%|█▍        | 4/27 [12:55<1:08:40, 179.15s/trial, best loss: -0.9207533113144901]"
     ]
    },
    {
     "name": "stderr",
     "output_type": "stream",
     "text": [
      "C:\\Users\\Donatien\\anaconda3\\lib\\site-packages\\xgboost\\core.py:160: UserWarning:\n",
      "\n",
      "[17:07:04] WARNING: C:\\buildkite-agent\\builds\\buildkite-windows-cpu-autoscaling-group-i-0b3782d1791676daf-1\\xgboost\\xgboost-ci-windows\\src\\learner.cc:742: \n",
      "Parameters: { \"bagging_fraction\", \"feature_fraction\", \"min_child_samples\", \"num_leaves\", \"verbose\" } are not used.\n",
      "\n",
      "\n",
      "\n"
     ]
    },
    {
     "name": "stdout",
     "output_type": "stream",
     "text": [
      "4 CV - score: 0.8752                                                                \n",
      " 15%|█▍        | 4/27 [13:14<1:08:40, 179.15s/trial, best loss: -0.9207533113144901]"
     ]
    },
    {
     "name": "stderr",
     "output_type": "stream",
     "text": [
      "C:\\Users\\Donatien\\anaconda3\\lib\\site-packages\\xgboost\\core.py:160: UserWarning:\n",
      "\n",
      "[17:07:24] WARNING: C:\\buildkite-agent\\builds\\buildkite-windows-cpu-autoscaling-group-i-0b3782d1791676daf-1\\xgboost\\xgboost-ci-windows\\src\\learner.cc:742: \n",
      "Parameters: { \"bagging_fraction\", \"feature_fraction\", \"min_child_samples\", \"num_leaves\", \"verbose\" } are not used.\n",
      "\n",
      "\n",
      "\n"
     ]
    },
    {
     "name": "stdout",
     "output_type": "stream",
     "text": [
      "5 CV - score: 0.9139                                                                \n",
      " 15%|█▍        | 4/27 [13:36<1:08:40, 179.15s/trial, best loss: -0.9207533113144901]"
     ]
    },
    {
     "name": "stderr",
     "output_type": "stream",
     "text": [
      "C:\\Users\\Donatien\\anaconda3\\lib\\site-packages\\xgboost\\core.py:160: UserWarning:\n",
      "\n",
      "[17:07:46] WARNING: C:\\buildkite-agent\\builds\\buildkite-windows-cpu-autoscaling-group-i-0b3782d1791676daf-1\\xgboost\\xgboost-ci-windows\\src\\learner.cc:742: \n",
      "Parameters: { \"bagging_fraction\", \"feature_fraction\", \"min_child_samples\", \"num_leaves\", \"verbose\" } are not used.\n",
      "\n",
      "\n",
      "\n"
     ]
    },
    {
     "name": "stdout",
     "output_type": "stream",
     "text": [
      "6 CV - score: 0.9058                                                                \n",
      " 15%|█▍        | 4/27 [14:04<1:08:40, 179.15s/trial, best loss: -0.9207533113144901]"
     ]
    },
    {
     "name": "stderr",
     "output_type": "stream",
     "text": [
      "C:\\Users\\Donatien\\anaconda3\\lib\\site-packages\\xgboost\\core.py:160: UserWarning:\n",
      "\n",
      "[17:08:15] WARNING: C:\\buildkite-agent\\builds\\buildkite-windows-cpu-autoscaling-group-i-0b3782d1791676daf-1\\xgboost\\xgboost-ci-windows\\src\\learner.cc:742: \n",
      "Parameters: { \"bagging_fraction\", \"feature_fraction\", \"min_child_samples\", \"num_leaves\", \"verbose\" } are not used.\n",
      "\n",
      "\n",
      "\n"
     ]
    },
    {
     "name": "stdout",
     "output_type": "stream",
     "text": [
      "7 CV - score: 0.9021                                                                \n",
      "Total Time Run: 2.18                                                                \n",
      "Mean ROC_AUC: 0.89715092271878                                                      \n",
      "                                                                                    \n",
      "############## New Run ################\n",
      "params = {'max_depth': 19, 'gamma': '0.511', 'subsample': '0.50', 'reg_alpha': '0.287', 'reg_lambda': '0.151', 'learning_rate': '0.017', 'num_leaves': '60.000', 'colsample_bytree': '0.721', 'min_child_samples': '130.000', 'feature_fraction': '0.635', 'bagging_fraction': '0.654'}\n",
      " 19%|█▊        | 5/27 [14:36<59:20, 161.84s/trial, best loss: -0.9207533113144901]"
     ]
    },
    {
     "name": "stderr",
     "output_type": "stream",
     "text": [
      "C:\\Users\\Donatien\\anaconda3\\lib\\site-packages\\xgboost\\core.py:160: UserWarning:\n",
      "\n",
      "[17:08:44] WARNING: C:\\buildkite-agent\\builds\\buildkite-windows-cpu-autoscaling-group-i-0b3782d1791676daf-1\\xgboost\\xgboost-ci-windows\\src\\learner.cc:742: \n",
      "Parameters: { \"bagging_fraction\", \"feature_fraction\", \"min_child_samples\", \"num_leaves\", \"verbose\" } are not used.\n",
      "\n",
      "\n",
      "\n"
     ]
    },
    {
     "name": "stdout",
     "output_type": "stream",
     "text": [
      "1 CV - score: 0.9041                                                              \n",
      " 19%|█▊        | 5/27 [14:50<59:20, 161.84s/trial, best loss: -0.9207533113144901]"
     ]
    },
    {
     "name": "stderr",
     "output_type": "stream",
     "text": [
      "C:\\Users\\Donatien\\anaconda3\\lib\\site-packages\\xgboost\\core.py:160: UserWarning:\n",
      "\n",
      "[17:08:58] WARNING: C:\\buildkite-agent\\builds\\buildkite-windows-cpu-autoscaling-group-i-0b3782d1791676daf-1\\xgboost\\xgboost-ci-windows\\src\\learner.cc:742: \n",
      "Parameters: { \"bagging_fraction\", \"feature_fraction\", \"min_child_samples\", \"num_leaves\", \"verbose\" } are not used.\n",
      "\n",
      "\n",
      "\n"
     ]
    },
    {
     "name": "stdout",
     "output_type": "stream",
     "text": [
      "2 CV - score: 0.9116                                                              \n",
      " 19%|█▊        | 5/27 [15:13<59:20, 161.84s/trial, best loss: -0.9207533113144901]"
     ]
    },
    {
     "name": "stderr",
     "output_type": "stream",
     "text": [
      "C:\\Users\\Donatien\\anaconda3\\lib\\site-packages\\xgboost\\core.py:160: UserWarning:\n",
      "\n",
      "[17:09:21] WARNING: C:\\buildkite-agent\\builds\\buildkite-windows-cpu-autoscaling-group-i-0b3782d1791676daf-1\\xgboost\\xgboost-ci-windows\\src\\learner.cc:742: \n",
      "Parameters: { \"bagging_fraction\", \"feature_fraction\", \"min_child_samples\", \"num_leaves\", \"verbose\" } are not used.\n",
      "\n",
      "\n",
      "\n"
     ]
    },
    {
     "name": "stdout",
     "output_type": "stream",
     "text": [
      "3 CV - score: 0.9264                                                              \n",
      " 19%|█▊        | 5/27 [15:47<59:20, 161.84s/trial, best loss: -0.9207533113144901]"
     ]
    },
    {
     "name": "stderr",
     "output_type": "stream",
     "text": [
      "C:\\Users\\Donatien\\anaconda3\\lib\\site-packages\\xgboost\\core.py:160: UserWarning:\n",
      "\n",
      "[17:09:56] WARNING: C:\\buildkite-agent\\builds\\buildkite-windows-cpu-autoscaling-group-i-0b3782d1791676daf-1\\xgboost\\xgboost-ci-windows\\src\\learner.cc:742: \n",
      "Parameters: { \"bagging_fraction\", \"feature_fraction\", \"min_child_samples\", \"num_leaves\", \"verbose\" } are not used.\n",
      "\n",
      "\n",
      "\n"
     ]
    },
    {
     "name": "stdout",
     "output_type": "stream",
     "text": [
      "4 CV - score: 0.9016                                                              \n",
      " 19%|█▊        | 5/27 [16:31<59:20, 161.84s/trial, best loss: -0.9207533113144901]"
     ]
    },
    {
     "name": "stderr",
     "output_type": "stream",
     "text": [
      "C:\\Users\\Donatien\\anaconda3\\lib\\site-packages\\xgboost\\core.py:160: UserWarning:\n",
      "\n",
      "[17:10:41] WARNING: C:\\buildkite-agent\\builds\\buildkite-windows-cpu-autoscaling-group-i-0b3782d1791676daf-1\\xgboost\\xgboost-ci-windows\\src\\learner.cc:742: \n",
      "Parameters: { \"bagging_fraction\", \"feature_fraction\", \"min_child_samples\", \"num_leaves\", \"verbose\" } are not used.\n",
      "\n",
      "\n",
      "\n"
     ]
    },
    {
     "name": "stdout",
     "output_type": "stream",
     "text": [
      "5 CV - score: 0.9341                                                              \n",
      " 19%|█▊        | 5/27 [17:27<59:20, 161.84s/trial, best loss: -0.9207533113144901]"
     ]
    },
    {
     "name": "stderr",
     "output_type": "stream",
     "text": [
      "C:\\Users\\Donatien\\anaconda3\\lib\\site-packages\\xgboost\\core.py:160: UserWarning:\n",
      "\n",
      "[17:11:37] WARNING: C:\\buildkite-agent\\builds\\buildkite-windows-cpu-autoscaling-group-i-0b3782d1791676daf-1\\xgboost\\xgboost-ci-windows\\src\\learner.cc:742: \n",
      "Parameters: { \"bagging_fraction\", \"feature_fraction\", \"min_child_samples\", \"num_leaves\", \"verbose\" } are not used.\n",
      "\n",
      "\n",
      "\n"
     ]
    },
    {
     "name": "stdout",
     "output_type": "stream",
     "text": [
      "6 CV - score: 0.9309                                                              \n",
      " 19%|█▊        | 5/27 [18:31<59:20, 161.84s/trial, best loss: -0.9207533113144901]"
     ]
    },
    {
     "name": "stderr",
     "output_type": "stream",
     "text": [
      "C:\\Users\\Donatien\\anaconda3\\lib\\site-packages\\xgboost\\core.py:160: UserWarning:\n",
      "\n",
      "[17:12:42] WARNING: C:\\buildkite-agent\\builds\\buildkite-windows-cpu-autoscaling-group-i-0b3782d1791676daf-1\\xgboost\\xgboost-ci-windows\\src\\learner.cc:742: \n",
      "Parameters: { \"bagging_fraction\", \"feature_fraction\", \"min_child_samples\", \"num_leaves\", \"verbose\" } are not used.\n",
      "\n",
      "\n",
      "\n"
     ]
    },
    {
     "name": "stdout",
     "output_type": "stream",
     "text": [
      "7 CV - score: 0.9269                                                              \n",
      "Total Time Run: 5.12                                                              \n",
      "Mean ROC_AUC: 0.9193633376527561                                                  \n",
      "                                                                                    \n",
      "############## New Run ################\n",
      "params = {'max_depth': 20, 'gamma': '0.210', 'subsample': '0.60', 'reg_alpha': '0.077', 'reg_lambda': '0.052', 'learning_rate': '0.064', 'num_leaves': '220.000', 'colsample_bytree': '0.482', 'min_child_samples': '110.000', 'feature_fraction': '0.768', 'bagging_fraction': '0.874'}\n",
      " 22%|██▏       | 6/27 [19:43<1:13:55, 211.23s/trial, best loss: -0.9207533113144901]"
     ]
    },
    {
     "name": "stderr",
     "output_type": "stream",
     "text": [
      "C:\\Users\\Donatien\\anaconda3\\lib\\site-packages\\xgboost\\core.py:160: UserWarning:\n",
      "\n",
      "[17:13:51] WARNING: C:\\buildkite-agent\\builds\\buildkite-windows-cpu-autoscaling-group-i-0b3782d1791676daf-1\\xgboost\\xgboost-ci-windows\\src\\learner.cc:742: \n",
      "Parameters: { \"bagging_fraction\", \"feature_fraction\", \"min_child_samples\", \"num_leaves\", \"verbose\" } are not used.\n",
      "\n",
      "\n",
      "\n"
     ]
    },
    {
     "name": "stdout",
     "output_type": "stream",
     "text": [
      "1 CV - score: 0.8971                                                                \n",
      " 22%|██▏       | 6/27 [19:52<1:13:55, 211.23s/trial, best loss: -0.9207533113144901]"
     ]
    },
    {
     "name": "stderr",
     "output_type": "stream",
     "text": [
      "C:\\Users\\Donatien\\anaconda3\\lib\\site-packages\\xgboost\\core.py:160: UserWarning:\n",
      "\n",
      "[17:14:00] WARNING: C:\\buildkite-agent\\builds\\buildkite-windows-cpu-autoscaling-group-i-0b3782d1791676daf-1\\xgboost\\xgboost-ci-windows\\src\\learner.cc:742: \n",
      "Parameters: { \"bagging_fraction\", \"feature_fraction\", \"min_child_samples\", \"num_leaves\", \"verbose\" } are not used.\n",
      "\n",
      "\n",
      "\n"
     ]
    },
    {
     "name": "stdout",
     "output_type": "stream",
     "text": [
      "2 CV - score: 0.9035                                                                \n",
      " 22%|██▏       | 6/27 [20:05<1:13:55, 211.23s/trial, best loss: -0.9207533113144901]"
     ]
    },
    {
     "name": "stderr",
     "output_type": "stream",
     "text": [
      "C:\\Users\\Donatien\\anaconda3\\lib\\site-packages\\xgboost\\core.py:160: UserWarning:\n",
      "\n",
      "[17:14:14] WARNING: C:\\buildkite-agent\\builds\\buildkite-windows-cpu-autoscaling-group-i-0b3782d1791676daf-1\\xgboost\\xgboost-ci-windows\\src\\learner.cc:742: \n",
      "Parameters: { \"bagging_fraction\", \"feature_fraction\", \"min_child_samples\", \"num_leaves\", \"verbose\" } are not used.\n",
      "\n",
      "\n",
      "\n"
     ]
    },
    {
     "name": "stdout",
     "output_type": "stream",
     "text": [
      "3 CV - score: 0.9202                                                                \n",
      " 22%|██▏       | 6/27 [20:28<1:13:55, 211.23s/trial, best loss: -0.9207533113144901]"
     ]
    },
    {
     "name": "stderr",
     "output_type": "stream",
     "text": [
      "C:\\Users\\Donatien\\anaconda3\\lib\\site-packages\\xgboost\\core.py:160: UserWarning:\n",
      "\n",
      "[17:14:37] WARNING: C:\\buildkite-agent\\builds\\buildkite-windows-cpu-autoscaling-group-i-0b3782d1791676daf-1\\xgboost\\xgboost-ci-windows\\src\\learner.cc:742: \n",
      "Parameters: { \"bagging_fraction\", \"feature_fraction\", \"min_child_samples\", \"num_leaves\", \"verbose\" } are not used.\n",
      "\n",
      "\n",
      "\n"
     ]
    },
    {
     "name": "stdout",
     "output_type": "stream",
     "text": [
      "4 CV - score: 0.8969                                                                \n",
      " 22%|██▏       | 6/27 [20:56<1:13:55, 211.23s/trial, best loss: -0.9207533113144901]"
     ]
    },
    {
     "name": "stderr",
     "output_type": "stream",
     "text": [
      "C:\\Users\\Donatien\\anaconda3\\lib\\site-packages\\xgboost\\core.py:160: UserWarning:\n",
      "\n",
      "[17:15:05] WARNING: C:\\buildkite-agent\\builds\\buildkite-windows-cpu-autoscaling-group-i-0b3782d1791676daf-1\\xgboost\\xgboost-ci-windows\\src\\learner.cc:742: \n",
      "Parameters: { \"bagging_fraction\", \"feature_fraction\", \"min_child_samples\", \"num_leaves\", \"verbose\" } are not used.\n",
      "\n",
      "\n",
      "\n"
     ]
    },
    {
     "name": "stdout",
     "output_type": "stream",
     "text": [
      "5 CV - score: 0.9281                                                                \n",
      " 22%|██▏       | 6/27 [21:30<1:13:55, 211.23s/trial, best loss: -0.9207533113144901]"
     ]
    },
    {
     "name": "stderr",
     "output_type": "stream",
     "text": [
      "C:\\Users\\Donatien\\anaconda3\\lib\\site-packages\\xgboost\\core.py:160: UserWarning:\n",
      "\n",
      "[17:15:40] WARNING: C:\\buildkite-agent\\builds\\buildkite-windows-cpu-autoscaling-group-i-0b3782d1791676daf-1\\xgboost\\xgboost-ci-windows\\src\\learner.cc:742: \n",
      "Parameters: { \"bagging_fraction\", \"feature_fraction\", \"min_child_samples\", \"num_leaves\", \"verbose\" } are not used.\n",
      "\n",
      "\n",
      "\n"
     ]
    },
    {
     "name": "stdout",
     "output_type": "stream",
     "text": [
      "6 CV - score: 0.9231                                                                \n",
      " 22%|██▏       | 6/27 [22:14<1:13:55, 211.23s/trial, best loss: -0.9207533113144901]"
     ]
    },
    {
     "name": "stderr",
     "output_type": "stream",
     "text": [
      "C:\\Users\\Donatien\\anaconda3\\lib\\site-packages\\xgboost\\core.py:160: UserWarning:\n",
      "\n",
      "[17:16:25] WARNING: C:\\buildkite-agent\\builds\\buildkite-windows-cpu-autoscaling-group-i-0b3782d1791676daf-1\\xgboost\\xgboost-ci-windows\\src\\learner.cc:742: \n",
      "Parameters: { \"bagging_fraction\", \"feature_fraction\", \"min_child_samples\", \"num_leaves\", \"verbose\" } are not used.\n",
      "\n",
      "\n",
      "\n"
     ]
    },
    {
     "name": "stdout",
     "output_type": "stream",
     "text": [
      "7 CV - score: 0.9203                                                                \n",
      "Total Time Run: 3.35                                                                \n",
      "Mean ROC_AUC: 0.9127365840625001                                                    \n",
      "                                                                                    \n",
      "############## New Run ################\n",
      "params = {'max_depth': 10, 'gamma': '0.137', 'subsample': '0.90', 'reg_alpha': '0.161', 'reg_lambda': '0.389', 'learning_rate': '0.069', 'num_leaves': '180.000', 'colsample_bytree': '0.326', 'min_child_samples': '120.000', 'feature_fraction': '0.503', 'bagging_fraction': '0.515'}\n",
      " 26%|██▌       | 7/27 [23:05<1:09:19, 207.97s/trial, best loss: -0.9207533113144901]"
     ]
    },
    {
     "name": "stderr",
     "output_type": "stream",
     "text": [
      "C:\\Users\\Donatien\\anaconda3\\lib\\site-packages\\xgboost\\core.py:160: UserWarning:\n",
      "\n",
      "[17:17:12] WARNING: C:\\buildkite-agent\\builds\\buildkite-windows-cpu-autoscaling-group-i-0b3782d1791676daf-1\\xgboost\\xgboost-ci-windows\\src\\learner.cc:742: \n",
      "Parameters: { \"bagging_fraction\", \"feature_fraction\", \"min_child_samples\", \"num_leaves\", \"verbose\" } are not used.\n",
      "\n",
      "\n",
      "\n"
     ]
    },
    {
     "name": "stdout",
     "output_type": "stream",
     "text": [
      "1 CV - score: 0.9038                                                                \n",
      " 26%|██▌       | 7/27 [23:12<1:09:19, 207.97s/trial, best loss: -0.9207533113144901]"
     ]
    },
    {
     "name": "stderr",
     "output_type": "stream",
     "text": [
      "C:\\Users\\Donatien\\anaconda3\\lib\\site-packages\\xgboost\\core.py:160: UserWarning:\n",
      "\n",
      "[17:17:20] WARNING: C:\\buildkite-agent\\builds\\buildkite-windows-cpu-autoscaling-group-i-0b3782d1791676daf-1\\xgboost\\xgboost-ci-windows\\src\\learner.cc:742: \n",
      "Parameters: { \"bagging_fraction\", \"feature_fraction\", \"min_child_samples\", \"num_leaves\", \"verbose\" } are not used.\n",
      "\n",
      "\n",
      "\n"
     ]
    },
    {
     "name": "stdout",
     "output_type": "stream",
     "text": [
      "2 CV - score: 0.9038                                                                \n",
      " 26%|██▌       | 7/27 [23:24<1:09:19, 207.97s/trial, best loss: -0.9207533113144901]"
     ]
    },
    {
     "name": "stderr",
     "output_type": "stream",
     "text": [
      "C:\\Users\\Donatien\\anaconda3\\lib\\site-packages\\xgboost\\core.py:160: UserWarning:\n",
      "\n",
      "[17:17:32] WARNING: C:\\buildkite-agent\\builds\\buildkite-windows-cpu-autoscaling-group-i-0b3782d1791676daf-1\\xgboost\\xgboost-ci-windows\\src\\learner.cc:742: \n",
      "Parameters: { \"bagging_fraction\", \"feature_fraction\", \"min_child_samples\", \"num_leaves\", \"verbose\" } are not used.\n",
      "\n",
      "\n",
      "\n"
     ]
    },
    {
     "name": "stdout",
     "output_type": "stream",
     "text": [
      "3 CV - score: 0.9155                                                                \n",
      " 26%|██▌       | 7/27 [23:41<1:09:19, 207.97s/trial, best loss: -0.9207533113144901]"
     ]
    },
    {
     "name": "stderr",
     "output_type": "stream",
     "text": [
      "C:\\Users\\Donatien\\anaconda3\\lib\\site-packages\\xgboost\\core.py:160: UserWarning:\n",
      "\n",
      "[17:17:50] WARNING: C:\\buildkite-agent\\builds\\buildkite-windows-cpu-autoscaling-group-i-0b3782d1791676daf-1\\xgboost\\xgboost-ci-windows\\src\\learner.cc:742: \n",
      "Parameters: { \"bagging_fraction\", \"feature_fraction\", \"min_child_samples\", \"num_leaves\", \"verbose\" } are not used.\n",
      "\n",
      "\n",
      "\n"
     ]
    },
    {
     "name": "stdout",
     "output_type": "stream",
     "text": [
      "4 CV - score: 0.8935                                                                \n",
      " 26%|██▌       | 7/27 [24:01<1:09:19, 207.97s/trial, best loss: -0.9207533113144901]"
     ]
    },
    {
     "name": "stderr",
     "output_type": "stream",
     "text": [
      "C:\\Users\\Donatien\\anaconda3\\lib\\site-packages\\xgboost\\core.py:160: UserWarning:\n",
      "\n",
      "[17:18:10] WARNING: C:\\buildkite-agent\\builds\\buildkite-windows-cpu-autoscaling-group-i-0b3782d1791676daf-1\\xgboost\\xgboost-ci-windows\\src\\learner.cc:742: \n",
      "Parameters: { \"bagging_fraction\", \"feature_fraction\", \"min_child_samples\", \"num_leaves\", \"verbose\" } are not used.\n",
      "\n",
      "\n",
      "\n"
     ]
    },
    {
     "name": "stdout",
     "output_type": "stream",
     "text": [
      "5 CV - score: 0.9279                                                                \n",
      " 26%|██▌       | 7/27 [24:25<1:09:19, 207.97s/trial, best loss: -0.9207533113144901]"
     ]
    },
    {
     "name": "stderr",
     "output_type": "stream",
     "text": [
      "C:\\Users\\Donatien\\anaconda3\\lib\\site-packages\\xgboost\\core.py:160: UserWarning:\n",
      "\n",
      "[17:18:35] WARNING: C:\\buildkite-agent\\builds\\buildkite-windows-cpu-autoscaling-group-i-0b3782d1791676daf-1\\xgboost\\xgboost-ci-windows\\src\\learner.cc:742: \n",
      "Parameters: { \"bagging_fraction\", \"feature_fraction\", \"min_child_samples\", \"num_leaves\", \"verbose\" } are not used.\n",
      "\n",
      "\n",
      "\n"
     ]
    },
    {
     "name": "stdout",
     "output_type": "stream",
     "text": [
      "6 CV - score: 0.9211                                                                \n",
      " 26%|██▌       | 7/27 [24:51<1:09:19, 207.97s/trial, best loss: -0.9207533113144901]"
     ]
    },
    {
     "name": "stderr",
     "output_type": "stream",
     "text": [
      "C:\\Users\\Donatien\\anaconda3\\lib\\site-packages\\xgboost\\core.py:160: UserWarning:\n",
      "\n",
      "[17:19:02] WARNING: C:\\buildkite-agent\\builds\\buildkite-windows-cpu-autoscaling-group-i-0b3782d1791676daf-1\\xgboost\\xgboost-ci-windows\\src\\learner.cc:742: \n",
      "Parameters: { \"bagging_fraction\", \"feature_fraction\", \"min_child_samples\", \"num_leaves\", \"verbose\" } are not used.\n",
      "\n",
      "\n",
      "\n"
     ]
    },
    {
     "name": "stdout",
     "output_type": "stream",
     "text": [
      "7 CV - score: 0.9203                                                                \n",
      "Total Time Run: 2.28                                                                \n",
      "Mean ROC_AUC: 0.9122823848170655                                                    \n",
      "                                                                                    \n",
      "############## New Run ################\n",
      "params = {'max_depth': 22, 'gamma': '0.431', 'subsample': '0.80', 'reg_alpha': '0.331', 'reg_lambda': '0.203', 'learning_rate': '0.017', 'num_leaves': '130.000', 'colsample_bytree': '0.332', 'min_child_samples': '210.000', 'feature_fraction': '0.720', 'bagging_fraction': '0.769'}\n",
      " 30%|██▉       | 8/27 [25:22<58:41, 185.34s/trial, best loss: -0.9207533113144901]"
     ]
    },
    {
     "name": "stderr",
     "output_type": "stream",
     "text": [
      "C:\\Users\\Donatien\\anaconda3\\lib\\site-packages\\xgboost\\core.py:160: UserWarning:\n",
      "\n",
      "[17:19:29] WARNING: C:\\buildkite-agent\\builds\\buildkite-windows-cpu-autoscaling-group-i-0b3782d1791676daf-1\\xgboost\\xgboost-ci-windows\\src\\learner.cc:742: \n",
      "Parameters: { \"bagging_fraction\", \"feature_fraction\", \"min_child_samples\", \"num_leaves\", \"verbose\" } are not used.\n",
      "\n",
      "\n",
      "\n"
     ]
    },
    {
     "name": "stdout",
     "output_type": "stream",
     "text": [
      "1 CV - score: 0.9061                                                              \n",
      " 30%|██▉       | 8/27 [25:36<58:41, 185.34s/trial, best loss: -0.9207533113144901]"
     ]
    },
    {
     "name": "stderr",
     "output_type": "stream",
     "text": [
      "C:\\Users\\Donatien\\anaconda3\\lib\\site-packages\\xgboost\\core.py:160: UserWarning:\n",
      "\n",
      "[17:19:44] WARNING: C:\\buildkite-agent\\builds\\buildkite-windows-cpu-autoscaling-group-i-0b3782d1791676daf-1\\xgboost\\xgboost-ci-windows\\src\\learner.cc:742: \n",
      "Parameters: { \"bagging_fraction\", \"feature_fraction\", \"min_child_samples\", \"num_leaves\", \"verbose\" } are not used.\n",
      "\n",
      "\n",
      "\n"
     ]
    },
    {
     "name": "stdout",
     "output_type": "stream",
     "text": [
      "2 CV - score: 0.9142                                                              \n",
      " 30%|██▉       | 8/27 [25:59<58:41, 185.34s/trial, best loss: -0.9207533113144901]"
     ]
    },
    {
     "name": "stderr",
     "output_type": "stream",
     "text": [
      "C:\\Users\\Donatien\\anaconda3\\lib\\site-packages\\xgboost\\core.py:160: UserWarning:\n",
      "\n",
      "[17:20:08] WARNING: C:\\buildkite-agent\\builds\\buildkite-windows-cpu-autoscaling-group-i-0b3782d1791676daf-1\\xgboost\\xgboost-ci-windows\\src\\learner.cc:742: \n",
      "Parameters: { \"bagging_fraction\", \"feature_fraction\", \"min_child_samples\", \"num_leaves\", \"verbose\" } are not used.\n",
      "\n",
      "\n",
      "\n"
     ]
    },
    {
     "name": "stdout",
     "output_type": "stream",
     "text": [
      "3 CV - score: 0.9269                                                              \n",
      " 30%|██▉       | 8/27 [26:37<58:41, 185.34s/trial, best loss: -0.9207533113144901]"
     ]
    },
    {
     "name": "stderr",
     "output_type": "stream",
     "text": [
      "C:\\Users\\Donatien\\anaconda3\\lib\\site-packages\\xgboost\\core.py:160: UserWarning:\n",
      "\n",
      "[17:20:46] WARNING: C:\\buildkite-agent\\builds\\buildkite-windows-cpu-autoscaling-group-i-0b3782d1791676daf-1\\xgboost\\xgboost-ci-windows\\src\\learner.cc:742: \n",
      "Parameters: { \"bagging_fraction\", \"feature_fraction\", \"min_child_samples\", \"num_leaves\", \"verbose\" } are not used.\n",
      "\n",
      "\n",
      "\n"
     ]
    },
    {
     "name": "stdout",
     "output_type": "stream",
     "text": [
      "4 CV - score: 0.9027                                                              \n",
      " 30%|██▉       | 8/27 [27:24<58:41, 185.34s/trial, best loss: -0.9207533113144901]"
     ]
    },
    {
     "name": "stderr",
     "output_type": "stream",
     "text": [
      "C:\\Users\\Donatien\\anaconda3\\lib\\site-packages\\xgboost\\core.py:160: UserWarning:\n",
      "\n",
      "[17:21:34] WARNING: C:\\buildkite-agent\\builds\\buildkite-windows-cpu-autoscaling-group-i-0b3782d1791676daf-1\\xgboost\\xgboost-ci-windows\\src\\learner.cc:742: \n",
      "Parameters: { \"bagging_fraction\", \"feature_fraction\", \"min_child_samples\", \"num_leaves\", \"verbose\" } are not used.\n",
      "\n",
      "\n",
      "\n"
     ]
    },
    {
     "name": "stdout",
     "output_type": "stream",
     "text": [
      "5 CV - score: 0.9344                                                              \n",
      " 30%|██▉       | 8/27 [28:25<58:41, 185.34s/trial, best loss: -0.9207533113144901]"
     ]
    },
    {
     "name": "stderr",
     "output_type": "stream",
     "text": [
      "C:\\Users\\Donatien\\anaconda3\\lib\\site-packages\\xgboost\\core.py:160: UserWarning:\n",
      "\n",
      "[17:22:35] WARNING: C:\\buildkite-agent\\builds\\buildkite-windows-cpu-autoscaling-group-i-0b3782d1791676daf-1\\xgboost\\xgboost-ci-windows\\src\\learner.cc:742: \n",
      "Parameters: { \"bagging_fraction\", \"feature_fraction\", \"min_child_samples\", \"num_leaves\", \"verbose\" } are not used.\n",
      "\n",
      "\n",
      "\n"
     ]
    },
    {
     "name": "stdout",
     "output_type": "stream",
     "text": [
      "6 CV - score: 0.9305                                                              \n",
      " 30%|██▉       | 8/27 [29:43<58:41, 185.34s/trial, best loss: -0.9207533113144901]"
     ]
    },
    {
     "name": "stderr",
     "output_type": "stream",
     "text": [
      "C:\\Users\\Donatien\\anaconda3\\lib\\site-packages\\xgboost\\core.py:160: UserWarning:\n",
      "\n",
      "[17:23:54] WARNING: C:\\buildkite-agent\\builds\\buildkite-windows-cpu-autoscaling-group-i-0b3782d1791676daf-1\\xgboost\\xgboost-ci-windows\\src\\learner.cc:742: \n",
      "Parameters: { \"bagging_fraction\", \"feature_fraction\", \"min_child_samples\", \"num_leaves\", \"verbose\" } are not used.\n",
      "\n",
      "\n",
      "\n"
     ]
    },
    {
     "name": "stdout",
     "output_type": "stream",
     "text": [
      "7 CV - score: 0.9292                                                              \n",
      "Total Time Run: 5.79                                                              \n",
      "Mean ROC_AUC: 0.9205872017436807                                                  \n",
      "                                                                                    \n",
      "############## New Run ################\n",
      "params = {'max_depth': 8, 'gamma': '0.444', 'subsample': '0.50', 'reg_alpha': '0.332', 'reg_lambda': '0.087', 'learning_rate': '0.184', 'num_leaves': '140.000', 'colsample_bytree': '0.494', 'min_child_samples': '160.000', 'feature_fraction': '0.545', 'bagging_fraction': '0.784'}\n",
      " 33%|███▎      | 9/27 [31:09<1:10:47, 235.95s/trial, best loss: -0.9207533113144901]"
     ]
    },
    {
     "name": "stderr",
     "output_type": "stream",
     "text": [
      "C:\\Users\\Donatien\\anaconda3\\lib\\site-packages\\xgboost\\core.py:160: UserWarning:\n",
      "\n",
      "[17:25:16] WARNING: C:\\buildkite-agent\\builds\\buildkite-windows-cpu-autoscaling-group-i-0b3782d1791676daf-1\\xgboost\\xgboost-ci-windows\\src\\learner.cc:742: \n",
      "Parameters: { \"bagging_fraction\", \"feature_fraction\", \"min_child_samples\", \"num_leaves\", \"verbose\" } are not used.\n",
      "\n",
      "\n",
      "\n"
     ]
    },
    {
     "name": "stdout",
     "output_type": "stream",
     "text": [
      "1 CV - score: 0.8846                                                                \n",
      " 33%|███▎      | 9/27 [31:14<1:10:47, 235.95s/trial, best loss: -0.9207533113144901]"
     ]
    },
    {
     "name": "stderr",
     "output_type": "stream",
     "text": [
      "C:\\Users\\Donatien\\anaconda3\\lib\\site-packages\\xgboost\\core.py:160: UserWarning:\n",
      "\n",
      "[17:25:22] WARNING: C:\\buildkite-agent\\builds\\buildkite-windows-cpu-autoscaling-group-i-0b3782d1791676daf-1\\xgboost\\xgboost-ci-windows\\src\\learner.cc:742: \n",
      "Parameters: { \"bagging_fraction\", \"feature_fraction\", \"min_child_samples\", \"num_leaves\", \"verbose\" } are not used.\n",
      "\n",
      "\n",
      "\n"
     ]
    },
    {
     "name": "stdout",
     "output_type": "stream",
     "text": [
      "2 CV - score: 0.8815                                                                \n",
      " 33%|███▎      | 9/27 [31:22<1:10:47, 235.95s/trial, best loss: -0.9207533113144901]"
     ]
    },
    {
     "name": "stderr",
     "output_type": "stream",
     "text": [
      "C:\\Users\\Donatien\\anaconda3\\lib\\site-packages\\xgboost\\core.py:160: UserWarning:\n",
      "\n",
      "[17:25:31] WARNING: C:\\buildkite-agent\\builds\\buildkite-windows-cpu-autoscaling-group-i-0b3782d1791676daf-1\\xgboost\\xgboost-ci-windows\\src\\learner.cc:742: \n",
      "Parameters: { \"bagging_fraction\", \"feature_fraction\", \"min_child_samples\", \"num_leaves\", \"verbose\" } are not used.\n",
      "\n",
      "\n",
      "\n"
     ]
    },
    {
     "name": "stdout",
     "output_type": "stream",
     "text": [
      "3 CV - score: 0.8988                                                                \n",
      " 33%|███▎      | 9/27 [31:36<1:10:47, 235.95s/trial, best loss: -0.9207533113144901]"
     ]
    },
    {
     "name": "stderr",
     "output_type": "stream",
     "text": [
      "C:\\Users\\Donatien\\anaconda3\\lib\\site-packages\\xgboost\\core.py:160: UserWarning:\n",
      "\n",
      "[17:25:45] WARNING: C:\\buildkite-agent\\builds\\buildkite-windows-cpu-autoscaling-group-i-0b3782d1791676daf-1\\xgboost\\xgboost-ci-windows\\src\\learner.cc:742: \n",
      "Parameters: { \"bagging_fraction\", \"feature_fraction\", \"min_child_samples\", \"num_leaves\", \"verbose\" } are not used.\n",
      "\n",
      "\n",
      "\n"
     ]
    },
    {
     "name": "stdout",
     "output_type": "stream",
     "text": [
      "4 CV - score: 0.8687                                                                \n",
      " 33%|███▎      | 9/27 [31:52<1:10:47, 235.95s/trial, best loss: -0.9207533113144901]"
     ]
    },
    {
     "name": "stderr",
     "output_type": "stream",
     "text": [
      "C:\\Users\\Donatien\\anaconda3\\lib\\site-packages\\xgboost\\core.py:160: UserWarning:\n",
      "\n",
      "[17:26:02] WARNING: C:\\buildkite-agent\\builds\\buildkite-windows-cpu-autoscaling-group-i-0b3782d1791676daf-1\\xgboost\\xgboost-ci-windows\\src\\learner.cc:742: \n",
      "Parameters: { \"bagging_fraction\", \"feature_fraction\", \"min_child_samples\", \"num_leaves\", \"verbose\" } are not used.\n",
      "\n",
      "\n",
      "\n"
     ]
    },
    {
     "name": "stdout",
     "output_type": "stream",
     "text": [
      "5 CV - score: 0.9158                                                                \n",
      " 33%|███▎      | 9/27 [32:13<1:10:47, 235.95s/trial, best loss: -0.9207533113144901]"
     ]
    },
    {
     "name": "stderr",
     "output_type": "stream",
     "text": [
      "C:\\Users\\Donatien\\anaconda3\\lib\\site-packages\\xgboost\\core.py:160: UserWarning:\n",
      "\n",
      "[17:26:23] WARNING: C:\\buildkite-agent\\builds\\buildkite-windows-cpu-autoscaling-group-i-0b3782d1791676daf-1\\xgboost\\xgboost-ci-windows\\src\\learner.cc:742: \n",
      "Parameters: { \"bagging_fraction\", \"feature_fraction\", \"min_child_samples\", \"num_leaves\", \"verbose\" } are not used.\n",
      "\n",
      "\n",
      "\n"
     ]
    },
    {
     "name": "stdout",
     "output_type": "stream",
     "text": [
      "6 CV - score: 0.9034                                                                \n",
      " 33%|███▎      | 9/27 [32:36<1:10:47, 235.95s/trial, best loss: -0.9207533113144901]"
     ]
    },
    {
     "name": "stderr",
     "output_type": "stream",
     "text": [
      "C:\\Users\\Donatien\\anaconda3\\lib\\site-packages\\xgboost\\core.py:160: UserWarning:\n",
      "\n",
      "[17:26:47] WARNING: C:\\buildkite-agent\\builds\\buildkite-windows-cpu-autoscaling-group-i-0b3782d1791676daf-1\\xgboost\\xgboost-ci-windows\\src\\learner.cc:742: \n",
      "Parameters: { \"bagging_fraction\", \"feature_fraction\", \"min_child_samples\", \"num_leaves\", \"verbose\" } are not used.\n",
      "\n",
      "\n",
      "\n"
     ]
    },
    {
     "name": "stdout",
     "output_type": "stream",
     "text": [
      "7 CV - score: 0.9009                                                                \n",
      "Total Time Run: 1.91                                                                \n",
      "Mean ROC_AUC: 0.8933909602447286                                                    \n",
      "                                                                                    \n",
      "############## New Run ################\n",
      "params = {'max_depth': 11, 'gamma': '0.700', 'subsample': '0.20', 'reg_alpha': '0.221', 'reg_lambda': '0.305', 'learning_rate': '0.019', 'num_leaves': '80.000', 'colsample_bytree': '0.840', 'min_child_samples': '120.000', 'feature_fraction': '0.755', 'bagging_fraction': '0.741'}\n",
      " 37%|███▋      | 10/27 [33:03<56:14, 198.48s/trial, best loss: -0.9207533113144901]"
     ]
    },
    {
     "name": "stderr",
     "output_type": "stream",
     "text": [
      "C:\\Users\\Donatien\\anaconda3\\lib\\site-packages\\xgboost\\core.py:160: UserWarning:\n",
      "\n",
      "[17:27:11] WARNING: C:\\buildkite-agent\\builds\\buildkite-windows-cpu-autoscaling-group-i-0b3782d1791676daf-1\\xgboost\\xgboost-ci-windows\\src\\learner.cc:742: \n",
      "Parameters: { \"bagging_fraction\", \"feature_fraction\", \"min_child_samples\", \"num_leaves\", \"verbose\" } are not used.\n",
      "\n",
      "\n",
      "\n"
     ]
    },
    {
     "name": "stdout",
     "output_type": "stream",
     "text": [
      "1 CV - score: 0.897                                                                \n",
      " 37%|███▋      | 10/27 [33:12<56:14, 198.48s/trial, best loss: -0.9207533113144901]"
     ]
    },
    {
     "name": "stderr",
     "output_type": "stream",
     "text": [
      "C:\\Users\\Donatien\\anaconda3\\lib\\site-packages\\xgboost\\core.py:160: UserWarning:\n",
      "\n",
      "[17:27:20] WARNING: C:\\buildkite-agent\\builds\\buildkite-windows-cpu-autoscaling-group-i-0b3782d1791676daf-1\\xgboost\\xgboost-ci-windows\\src\\learner.cc:742: \n",
      "Parameters: { \"bagging_fraction\", \"feature_fraction\", \"min_child_samples\", \"num_leaves\", \"verbose\" } are not used.\n",
      "\n",
      "\n",
      "\n"
     ]
    },
    {
     "name": "stdout",
     "output_type": "stream",
     "text": [
      "2 CV - score: 0.9052                                                               \n",
      " 37%|███▋      | 10/27 [33:26<56:14, 198.48s/trial, best loss: -0.9207533113144901]"
     ]
    },
    {
     "name": "stderr",
     "output_type": "stream",
     "text": [
      "C:\\Users\\Donatien\\anaconda3\\lib\\site-packages\\xgboost\\core.py:160: UserWarning:\n",
      "\n",
      "[17:27:34] WARNING: C:\\buildkite-agent\\builds\\buildkite-windows-cpu-autoscaling-group-i-0b3782d1791676daf-1\\xgboost\\xgboost-ci-windows\\src\\learner.cc:742: \n",
      "Parameters: { \"bagging_fraction\", \"feature_fraction\", \"min_child_samples\", \"num_leaves\", \"verbose\" } are not used.\n",
      "\n",
      "\n",
      "\n"
     ]
    },
    {
     "name": "stdout",
     "output_type": "stream",
     "text": [
      "3 CV - score: 0.921                                                                \n",
      " 37%|███▋      | 10/27 [33:46<56:14, 198.48s/trial, best loss: -0.9207533113144901]"
     ]
    },
    {
     "name": "stderr",
     "output_type": "stream",
     "text": [
      "C:\\Users\\Donatien\\anaconda3\\lib\\site-packages\\xgboost\\core.py:160: UserWarning:\n",
      "\n",
      "[17:27:56] WARNING: C:\\buildkite-agent\\builds\\buildkite-windows-cpu-autoscaling-group-i-0b3782d1791676daf-1\\xgboost\\xgboost-ci-windows\\src\\learner.cc:742: \n",
      "Parameters: { \"bagging_fraction\", \"feature_fraction\", \"min_child_samples\", \"num_leaves\", \"verbose\" } are not used.\n",
      "\n",
      "\n",
      "\n"
     ]
    },
    {
     "name": "stdout",
     "output_type": "stream",
     "text": [
      "4 CV - score: 0.8956                                                               \n",
      " 37%|███▋      | 10/27 [34:12<56:14, 198.48s/trial, best loss: -0.9207533113144901]"
     ]
    },
    {
     "name": "stderr",
     "output_type": "stream",
     "text": [
      "C:\\Users\\Donatien\\anaconda3\\lib\\site-packages\\xgboost\\core.py:160: UserWarning:\n",
      "\n",
      "[17:28:21] WARNING: C:\\buildkite-agent\\builds\\buildkite-windows-cpu-autoscaling-group-i-0b3782d1791676daf-1\\xgboost\\xgboost-ci-windows\\src\\learner.cc:742: \n",
      "Parameters: { \"bagging_fraction\", \"feature_fraction\", \"min_child_samples\", \"num_leaves\", \"verbose\" } are not used.\n",
      "\n",
      "\n",
      "\n"
     ]
    },
    {
     "name": "stdout",
     "output_type": "stream",
     "text": [
      "5 CV - score: 0.9287                                                               \n",
      " 37%|███▋      | 10/27 [34:40<56:14, 198.48s/trial, best loss: -0.9207533113144901]"
     ]
    },
    {
     "name": "stderr",
     "output_type": "stream",
     "text": [
      "C:\\Users\\Donatien\\anaconda3\\lib\\site-packages\\xgboost\\core.py:160: UserWarning:\n",
      "\n",
      "[17:28:50] WARNING: C:\\buildkite-agent\\builds\\buildkite-windows-cpu-autoscaling-group-i-0b3782d1791676daf-1\\xgboost\\xgboost-ci-windows\\src\\learner.cc:742: \n",
      "Parameters: { \"bagging_fraction\", \"feature_fraction\", \"min_child_samples\", \"num_leaves\", \"verbose\" } are not used.\n",
      "\n",
      "\n",
      "\n"
     ]
    },
    {
     "name": "stdout",
     "output_type": "stream",
     "text": [
      "6 CV - score: 0.9228                                                               \n",
      " 37%|███▋      | 10/27 [35:12<56:14, 198.48s/trial, best loss: -0.9207533113144901]"
     ]
    },
    {
     "name": "stderr",
     "output_type": "stream",
     "text": [
      "C:\\Users\\Donatien\\anaconda3\\lib\\site-packages\\xgboost\\core.py:160: UserWarning:\n",
      "\n",
      "[17:29:23] WARNING: C:\\buildkite-agent\\builds\\buildkite-windows-cpu-autoscaling-group-i-0b3782d1791676daf-1\\xgboost\\xgboost-ci-windows\\src\\learner.cc:742: \n",
      "Parameters: { \"bagging_fraction\", \"feature_fraction\", \"min_child_samples\", \"num_leaves\", \"verbose\" } are not used.\n",
      "\n",
      "\n",
      "\n"
     ]
    },
    {
     "name": "stdout",
     "output_type": "stream",
     "text": [
      "7 CV - score: 0.9185                                                               \n",
      "Total Time Run: 2.77                                                               \n",
      "Mean ROC_AUC: 0.9126650189689222                                                   \n",
      "                                                                                   \n",
      "############## New Run ################\n",
      "params = {'max_depth': 9, 'gamma': '0.504', 'subsample': '0.50', 'reg_alpha': '0.280', 'reg_lambda': '0.351', 'learning_rate': '0.199', 'num_leaves': '140.000', 'colsample_bytree': '0.323', 'min_child_samples': '110.000', 'feature_fraction': '0.583', 'bagging_fraction': '0.892'}\n",
      " 41%|████      | 11/27 [35:50<50:18, 188.65s/trial, best loss: -0.9207533113144901]"
     ]
    },
    {
     "name": "stderr",
     "output_type": "stream",
     "text": [
      "C:\\Users\\Donatien\\anaconda3\\lib\\site-packages\\xgboost\\core.py:160: UserWarning:\n",
      "\n",
      "[17:29:57] WARNING: C:\\buildkite-agent\\builds\\buildkite-windows-cpu-autoscaling-group-i-0b3782d1791676daf-1\\xgboost\\xgboost-ci-windows\\src\\learner.cc:742: \n",
      "Parameters: { \"bagging_fraction\", \"feature_fraction\", \"min_child_samples\", \"num_leaves\", \"verbose\" } are not used.\n",
      "\n",
      "\n",
      "\n"
     ]
    },
    {
     "name": "stdout",
     "output_type": "stream",
     "text": [
      "1 CV - score: 0.8877                                                               \n",
      " 41%|████      | 11/27 [35:55<50:18, 188.65s/trial, best loss: -0.9207533113144901]"
     ]
    },
    {
     "name": "stderr",
     "output_type": "stream",
     "text": [
      "C:\\Users\\Donatien\\anaconda3\\lib\\site-packages\\xgboost\\core.py:160: UserWarning:\n",
      "\n",
      "[17:30:03] WARNING: C:\\buildkite-agent\\builds\\buildkite-windows-cpu-autoscaling-group-i-0b3782d1791676daf-1\\xgboost\\xgboost-ci-windows\\src\\learner.cc:742: \n",
      "Parameters: { \"bagging_fraction\", \"feature_fraction\", \"min_child_samples\", \"num_leaves\", \"verbose\" } are not used.\n",
      "\n",
      "\n",
      "\n"
     ]
    },
    {
     "name": "stdout",
     "output_type": "stream",
     "text": [
      "2 CV - score: 0.8825                                                               \n",
      " 41%|████      | 11/27 [36:03<50:18, 188.65s/trial, best loss: -0.9207533113144901]"
     ]
    },
    {
     "name": "stderr",
     "output_type": "stream",
     "text": [
      "C:\\Users\\Donatien\\anaconda3\\lib\\site-packages\\xgboost\\core.py:160: UserWarning:\n",
      "\n",
      "[17:30:11] WARNING: C:\\buildkite-agent\\builds\\buildkite-windows-cpu-autoscaling-group-i-0b3782d1791676daf-1\\xgboost\\xgboost-ci-windows\\src\\learner.cc:742: \n",
      "Parameters: { \"bagging_fraction\", \"feature_fraction\", \"min_child_samples\", \"num_leaves\", \"verbose\" } are not used.\n",
      "\n",
      "\n",
      "\n"
     ]
    },
    {
     "name": "stdout",
     "output_type": "stream",
     "text": [
      "3 CV - score: 0.8991                                                               \n",
      " 41%|████      | 11/27 [36:16<50:18, 188.65s/trial, best loss: -0.9207533113144901]"
     ]
    },
    {
     "name": "stderr",
     "output_type": "stream",
     "text": [
      "C:\\Users\\Donatien\\anaconda3\\lib\\site-packages\\xgboost\\core.py:160: UserWarning:\n",
      "\n",
      "[17:30:25] WARNING: C:\\buildkite-agent\\builds\\buildkite-windows-cpu-autoscaling-group-i-0b3782d1791676daf-1\\xgboost\\xgboost-ci-windows\\src\\learner.cc:742: \n",
      "Parameters: { \"bagging_fraction\", \"feature_fraction\", \"min_child_samples\", \"num_leaves\", \"verbose\" } are not used.\n",
      "\n",
      "\n",
      "\n"
     ]
    },
    {
     "name": "stdout",
     "output_type": "stream",
     "text": [
      "4 CV - score: 0.87                                                                 \n",
      " 41%|████      | 11/27 [36:32<50:18, 188.65s/trial, best loss: -0.9207533113144901]"
     ]
    },
    {
     "name": "stderr",
     "output_type": "stream",
     "text": [
      "C:\\Users\\Donatien\\anaconda3\\lib\\site-packages\\xgboost\\core.py:160: UserWarning:\n",
      "\n",
      "[17:30:42] WARNING: C:\\buildkite-agent\\builds\\buildkite-windows-cpu-autoscaling-group-i-0b3782d1791676daf-1\\xgboost\\xgboost-ci-windows\\src\\learner.cc:742: \n",
      "Parameters: { \"bagging_fraction\", \"feature_fraction\", \"min_child_samples\", \"num_leaves\", \"verbose\" } are not used.\n",
      "\n",
      "\n",
      "\n"
     ]
    },
    {
     "name": "stdout",
     "output_type": "stream",
     "text": [
      "5 CV - score: 0.913                                                                \n",
      " 41%|████      | 11/27 [36:52<50:18, 188.65s/trial, best loss: -0.9207533113144901]"
     ]
    },
    {
     "name": "stderr",
     "output_type": "stream",
     "text": [
      "C:\\Users\\Donatien\\anaconda3\\lib\\site-packages\\xgboost\\core.py:160: UserWarning:\n",
      "\n",
      "[17:31:03] WARNING: C:\\buildkite-agent\\builds\\buildkite-windows-cpu-autoscaling-group-i-0b3782d1791676daf-1\\xgboost\\xgboost-ci-windows\\src\\learner.cc:742: \n",
      "Parameters: { \"bagging_fraction\", \"feature_fraction\", \"min_child_samples\", \"num_leaves\", \"verbose\" } are not used.\n",
      "\n",
      "\n",
      "\n"
     ]
    },
    {
     "name": "stdout",
     "output_type": "stream",
     "text": [
      "6 CV - score: 0.9021                                                               \n",
      " 41%|████      | 11/27 [37:17<50:18, 188.65s/trial, best loss: -0.9207533113144901]"
     ]
    },
    {
     "name": "stderr",
     "output_type": "stream",
     "text": [
      "C:\\Users\\Donatien\\anaconda3\\lib\\site-packages\\xgboost\\core.py:160: UserWarning:\n",
      "\n",
      "[17:31:28] WARNING: C:\\buildkite-agent\\builds\\buildkite-windows-cpu-autoscaling-group-i-0b3782d1791676daf-1\\xgboost\\xgboost-ci-windows\\src\\learner.cc:742: \n",
      "Parameters: { \"bagging_fraction\", \"feature_fraction\", \"min_child_samples\", \"num_leaves\", \"verbose\" } are not used.\n",
      "\n",
      "\n",
      "\n"
     ]
    },
    {
     "name": "stdout",
     "output_type": "stream",
     "text": [
      "7 CV - score: 0.9036                                                               \n",
      "Total Time Run: 1.92                                                               \n",
      "Mean ROC_AUC: 0.894002129322481                                                    \n",
      "                                                                                   \n",
      "############## New Run ################\n",
      "params = {'max_depth': 13, 'gamma': '0.325', 'subsample': '0.20', 'reg_alpha': '0.080', 'reg_lambda': '0.258', 'learning_rate': '0.170', 'num_leaves': '130.000', 'colsample_bytree': '0.613', 'min_child_samples': '190.000', 'feature_fraction': '0.497', 'bagging_fraction': '0.500'}\n",
      " 44%|████▍     | 12/27 [37:45<41:35, 166.34s/trial, best loss: -0.9207533113144901]"
     ]
    },
    {
     "name": "stderr",
     "output_type": "stream",
     "text": [
      "C:\\Users\\Donatien\\anaconda3\\lib\\site-packages\\xgboost\\core.py:160: UserWarning:\n",
      "\n",
      "[17:31:53] WARNING: C:\\buildkite-agent\\builds\\buildkite-windows-cpu-autoscaling-group-i-0b3782d1791676daf-1\\xgboost\\xgboost-ci-windows\\src\\learner.cc:742: \n",
      "Parameters: { \"bagging_fraction\", \"feature_fraction\", \"min_child_samples\", \"num_leaves\", \"verbose\" } are not used.\n",
      "\n",
      "\n",
      "\n"
     ]
    },
    {
     "name": "stdout",
     "output_type": "stream",
     "text": [
      "1 CV - score: 0.87                                                                 \n",
      " 44%|████▍     | 12/27 [37:52<41:35, 166.34s/trial, best loss: -0.9207533113144901]"
     ]
    },
    {
     "name": "stderr",
     "output_type": "stream",
     "text": [
      "C:\\Users\\Donatien\\anaconda3\\lib\\site-packages\\xgboost\\core.py:160: UserWarning:\n",
      "\n",
      "[17:32:00] WARNING: C:\\buildkite-agent\\builds\\buildkite-windows-cpu-autoscaling-group-i-0b3782d1791676daf-1\\xgboost\\xgboost-ci-windows\\src\\learner.cc:742: \n",
      "Parameters: { \"bagging_fraction\", \"feature_fraction\", \"min_child_samples\", \"num_leaves\", \"verbose\" } are not used.\n",
      "\n",
      "\n",
      "\n"
     ]
    },
    {
     "name": "stdout",
     "output_type": "stream",
     "text": [
      "2 CV - score: 0.8605                                                               \n",
      " 44%|████▍     | 12/27 [38:03<41:35, 166.34s/trial, best loss: -0.9207533113144901]"
     ]
    },
    {
     "name": "stderr",
     "output_type": "stream",
     "text": [
      "C:\\Users\\Donatien\\anaconda3\\lib\\site-packages\\xgboost\\core.py:160: UserWarning:\n",
      "\n",
      "[17:32:12] WARNING: C:\\buildkite-agent\\builds\\buildkite-windows-cpu-autoscaling-group-i-0b3782d1791676daf-1\\xgboost\\xgboost-ci-windows\\src\\learner.cc:742: \n",
      "Parameters: { \"bagging_fraction\", \"feature_fraction\", \"min_child_samples\", \"num_leaves\", \"verbose\" } are not used.\n",
      "\n",
      "\n",
      "\n"
     ]
    },
    {
     "name": "stdout",
     "output_type": "stream",
     "text": [
      "3 CV - score: 0.8856                                                               \n",
      " 44%|████▍     | 12/27 [38:21<41:35, 166.34s/trial, best loss: -0.9207533113144901]"
     ]
    },
    {
     "name": "stderr",
     "output_type": "stream",
     "text": [
      "C:\\Users\\Donatien\\anaconda3\\lib\\site-packages\\xgboost\\core.py:160: UserWarning:\n",
      "\n",
      "[17:32:30] WARNING: C:\\buildkite-agent\\builds\\buildkite-windows-cpu-autoscaling-group-i-0b3782d1791676daf-1\\xgboost\\xgboost-ci-windows\\src\\learner.cc:742: \n",
      "Parameters: { \"bagging_fraction\", \"feature_fraction\", \"min_child_samples\", \"num_leaves\", \"verbose\" } are not used.\n",
      "\n",
      "\n",
      "\n"
     ]
    },
    {
     "name": "stdout",
     "output_type": "stream",
     "text": [
      "4 CV - score: 0.8541                                                               \n",
      " 44%|████▍     | 12/27 [38:43<41:35, 166.34s/trial, best loss: -0.9207533113144901]"
     ]
    },
    {
     "name": "stderr",
     "output_type": "stream",
     "text": [
      "C:\\Users\\Donatien\\anaconda3\\lib\\site-packages\\xgboost\\core.py:160: UserWarning:\n",
      "\n",
      "[17:32:52] WARNING: C:\\buildkite-agent\\builds\\buildkite-windows-cpu-autoscaling-group-i-0b3782d1791676daf-1\\xgboost\\xgboost-ci-windows\\src\\learner.cc:742: \n",
      "Parameters: { \"bagging_fraction\", \"feature_fraction\", \"min_child_samples\", \"num_leaves\", \"verbose\" } are not used.\n",
      "\n",
      "\n",
      "\n"
     ]
    },
    {
     "name": "stdout",
     "output_type": "stream",
     "text": [
      "5 CV - score: 0.8877                                                               \n",
      " 44%|████▍     | 12/27 [39:09<41:35, 166.34s/trial, best loss: -0.9207533113144901]"
     ]
    },
    {
     "name": "stderr",
     "output_type": "stream",
     "text": [
      "C:\\Users\\Donatien\\anaconda3\\lib\\site-packages\\xgboost\\core.py:160: UserWarning:\n",
      "\n",
      "[17:33:19] WARNING: C:\\buildkite-agent\\builds\\buildkite-windows-cpu-autoscaling-group-i-0b3782d1791676daf-1\\xgboost\\xgboost-ci-windows\\src\\learner.cc:742: \n",
      "Parameters: { \"bagging_fraction\", \"feature_fraction\", \"min_child_samples\", \"num_leaves\", \"verbose\" } are not used.\n",
      "\n",
      "\n",
      "\n"
     ]
    },
    {
     "name": "stdout",
     "output_type": "stream",
     "text": [
      "6 CV - score: 0.8773                                                               \n",
      " 44%|████▍     | 12/27 [39:42<41:35, 166.34s/trial, best loss: -0.9207533113144901]"
     ]
    },
    {
     "name": "stderr",
     "output_type": "stream",
     "text": [
      "C:\\Users\\Donatien\\anaconda3\\lib\\site-packages\\xgboost\\core.py:160: UserWarning:\n",
      "\n",
      "[17:33:52] WARNING: C:\\buildkite-agent\\builds\\buildkite-windows-cpu-autoscaling-group-i-0b3782d1791676daf-1\\xgboost\\xgboost-ci-windows\\src\\learner.cc:742: \n",
      "Parameters: { \"bagging_fraction\", \"feature_fraction\", \"min_child_samples\", \"num_leaves\", \"verbose\" } are not used.\n",
      "\n",
      "\n",
      "\n"
     ]
    },
    {
     "name": "stdout",
     "output_type": "stream",
     "text": [
      "7 CV - score: 0.8738                                                               \n",
      "Total Time Run: 2.57                                                               \n",
      "Mean ROC_AUC: 0.8727291038556245                                                   \n",
      "                                                                                   \n",
      "############## New Run ################\n",
      "params = {'max_depth': 22, 'gamma': '0.492', 'subsample': '0.60', 'reg_alpha': '0.102', 'reg_lambda': '0.369', 'learning_rate': '0.191', 'num_leaves': '130.000', 'colsample_bytree': '0.594', 'min_child_samples': '220.000', 'feature_fraction': '0.755', 'bagging_fraction': '0.710'}\n",
      " 48%|████▊     | 13/27 [40:20<37:59, 162.79s/trial, best loss: -0.9207533113144901]"
     ]
    },
    {
     "name": "stderr",
     "output_type": "stream",
     "text": [
      "C:\\Users\\Donatien\\anaconda3\\lib\\site-packages\\xgboost\\core.py:160: UserWarning:\n",
      "\n",
      "[17:34:27] WARNING: C:\\buildkite-agent\\builds\\buildkite-windows-cpu-autoscaling-group-i-0b3782d1791676daf-1\\xgboost\\xgboost-ci-windows\\src\\learner.cc:742: \n",
      "Parameters: { \"bagging_fraction\", \"feature_fraction\", \"min_child_samples\", \"num_leaves\", \"verbose\" } are not used.\n",
      "\n",
      "\n",
      "\n"
     ]
    },
    {
     "name": "stdout",
     "output_type": "stream",
     "text": [
      "1 CV - score: 0.89                                                                 \n",
      " 48%|████▊     | 13/27 [40:25<37:59, 162.79s/trial, best loss: -0.9207533113144901]"
     ]
    },
    {
     "name": "stderr",
     "output_type": "stream",
     "text": [
      "C:\\Users\\Donatien\\anaconda3\\lib\\site-packages\\xgboost\\core.py:160: UserWarning:\n",
      "\n",
      "[17:34:33] WARNING: C:\\buildkite-agent\\builds\\buildkite-windows-cpu-autoscaling-group-i-0b3782d1791676daf-1\\xgboost\\xgboost-ci-windows\\src\\learner.cc:742: \n",
      "Parameters: { \"bagging_fraction\", \"feature_fraction\", \"min_child_samples\", \"num_leaves\", \"verbose\" } are not used.\n",
      "\n",
      "\n",
      "\n"
     ]
    },
    {
     "name": "stdout",
     "output_type": "stream",
     "text": [
      "2 CV - score: 0.8908                                                               \n",
      " 48%|████▊     | 13/27 [40:33<37:59, 162.79s/trial, best loss: -0.9207533113144901]"
     ]
    },
    {
     "name": "stderr",
     "output_type": "stream",
     "text": [
      "C:\\Users\\Donatien\\anaconda3\\lib\\site-packages\\xgboost\\core.py:160: UserWarning:\n",
      "\n",
      "[17:34:41] WARNING: C:\\buildkite-agent\\builds\\buildkite-windows-cpu-autoscaling-group-i-0b3782d1791676daf-1\\xgboost\\xgboost-ci-windows\\src\\learner.cc:742: \n",
      "Parameters: { \"bagging_fraction\", \"feature_fraction\", \"min_child_samples\", \"num_leaves\", \"verbose\" } are not used.\n",
      "\n",
      "\n",
      "\n"
     ]
    },
    {
     "name": "stdout",
     "output_type": "stream",
     "text": [
      "3 CV - score: 0.9116                                                               \n",
      " 48%|████▊     | 13/27 [40:47<37:59, 162.79s/trial, best loss: -0.9207533113144901]"
     ]
    },
    {
     "name": "stderr",
     "output_type": "stream",
     "text": [
      "C:\\Users\\Donatien\\anaconda3\\lib\\site-packages\\xgboost\\core.py:160: UserWarning:\n",
      "\n",
      "[17:34:56] WARNING: C:\\buildkite-agent\\builds\\buildkite-windows-cpu-autoscaling-group-i-0b3782d1791676daf-1\\xgboost\\xgboost-ci-windows\\src\\learner.cc:742: \n",
      "Parameters: { \"bagging_fraction\", \"feature_fraction\", \"min_child_samples\", \"num_leaves\", \"verbose\" } are not used.\n",
      "\n",
      "\n",
      "\n"
     ]
    },
    {
     "name": "stdout",
     "output_type": "stream",
     "text": [
      "4 CV - score: 0.8819                                                               \n",
      " 48%|████▊     | 13/27 [41:03<37:59, 162.79s/trial, best loss: -0.9207533113144901]"
     ]
    },
    {
     "name": "stderr",
     "output_type": "stream",
     "text": [
      "C:\\Users\\Donatien\\anaconda3\\lib\\site-packages\\xgboost\\core.py:160: UserWarning:\n",
      "\n",
      "[17:35:12] WARNING: C:\\buildkite-agent\\builds\\buildkite-windows-cpu-autoscaling-group-i-0b3782d1791676daf-1\\xgboost\\xgboost-ci-windows\\src\\learner.cc:742: \n",
      "Parameters: { \"bagging_fraction\", \"feature_fraction\", \"min_child_samples\", \"num_leaves\", \"verbose\" } are not used.\n",
      "\n",
      "\n",
      "\n"
     ]
    },
    {
     "name": "stdout",
     "output_type": "stream",
     "text": [
      "5 CV - score: 0.915                                                                \n",
      " 48%|████▊     | 13/27 [41:22<37:59, 162.79s/trial, best loss: -0.9207533113144901]"
     ]
    },
    {
     "name": "stderr",
     "output_type": "stream",
     "text": [
      "C:\\Users\\Donatien\\anaconda3\\lib\\site-packages\\xgboost\\core.py:160: UserWarning:\n",
      "\n",
      "[17:35:32] WARNING: C:\\buildkite-agent\\builds\\buildkite-windows-cpu-autoscaling-group-i-0b3782d1791676daf-1\\xgboost\\xgboost-ci-windows\\src\\learner.cc:742: \n",
      "Parameters: { \"bagging_fraction\", \"feature_fraction\", \"min_child_samples\", \"num_leaves\", \"verbose\" } are not used.\n",
      "\n",
      "\n",
      "\n"
     ]
    },
    {
     "name": "stdout",
     "output_type": "stream",
     "text": [
      "6 CV - score: 0.9075                                                               \n",
      " 48%|████▊     | 13/27 [41:47<37:59, 162.79s/trial, best loss: -0.9207533113144901]"
     ]
    },
    {
     "name": "stderr",
     "output_type": "stream",
     "text": [
      "C:\\Users\\Donatien\\anaconda3\\lib\\site-packages\\xgboost\\core.py:160: UserWarning:\n",
      "\n",
      "[17:35:58] WARNING: C:\\buildkite-agent\\builds\\buildkite-windows-cpu-autoscaling-group-i-0b3782d1791676daf-1\\xgboost\\xgboost-ci-windows\\src\\learner.cc:742: \n",
      "Parameters: { \"bagging_fraction\", \"feature_fraction\", \"min_child_samples\", \"num_leaves\", \"verbose\" } are not used.\n",
      "\n",
      "\n",
      "\n"
     ]
    },
    {
     "name": "stdout",
     "output_type": "stream",
     "text": [
      "7 CV - score: 0.9122                                                               \n",
      "Total Time Run: 1.93                                                               \n",
      "Mean ROC_AUC: 0.9012860801305197                                                   \n",
      "                                                                                   \n",
      "############## New Run ################\n",
      "params = {'max_depth': 15, 'gamma': '0.264', 'subsample': '0.70', 'reg_alpha': '0.244', 'reg_lambda': '0.329', 'learning_rate': '0.050', 'num_leaves': '40.000', 'colsample_bytree': '0.530', 'min_child_samples': '110.000', 'feature_fraction': '0.745', 'bagging_fraction': '0.442'}\n",
      " 52%|█████▏    | 14/27 [42:16<32:12, 148.64s/trial, best loss: -0.9207533113144901]"
     ]
    },
    {
     "name": "stderr",
     "output_type": "stream",
     "text": [
      "C:\\Users\\Donatien\\anaconda3\\lib\\site-packages\\xgboost\\core.py:160: UserWarning:\n",
      "\n",
      "[17:36:23] WARNING: C:\\buildkite-agent\\builds\\buildkite-windows-cpu-autoscaling-group-i-0b3782d1791676daf-1\\xgboost\\xgboost-ci-windows\\src\\learner.cc:742: \n",
      "Parameters: { \"bagging_fraction\", \"feature_fraction\", \"min_child_samples\", \"num_leaves\", \"verbose\" } are not used.\n",
      "\n",
      "\n",
      "\n"
     ]
    },
    {
     "name": "stdout",
     "output_type": "stream",
     "text": [
      "1 CV - score: 0.902                                                                \n",
      " 52%|█████▏    | 14/27 [42:25<32:12, 148.64s/trial, best loss: -0.9207533113144901]"
     ]
    },
    {
     "name": "stderr",
     "output_type": "stream",
     "text": [
      "C:\\Users\\Donatien\\anaconda3\\lib\\site-packages\\xgboost\\core.py:160: UserWarning:\n",
      "\n",
      "[17:36:33] WARNING: C:\\buildkite-agent\\builds\\buildkite-windows-cpu-autoscaling-group-i-0b3782d1791676daf-1\\xgboost\\xgboost-ci-windows\\src\\learner.cc:742: \n",
      "Parameters: { \"bagging_fraction\", \"feature_fraction\", \"min_child_samples\", \"num_leaves\", \"verbose\" } are not used.\n",
      "\n",
      "\n",
      "\n"
     ]
    },
    {
     "name": "stdout",
     "output_type": "stream",
     "text": [
      "2 CV - score: 0.9069                                                               \n",
      " 52%|█████▏    | 14/27 [42:39<32:12, 148.64s/trial, best loss: -0.9207533113144901]"
     ]
    },
    {
     "name": "stderr",
     "output_type": "stream",
     "text": [
      "C:\\Users\\Donatien\\anaconda3\\lib\\site-packages\\xgboost\\core.py:160: UserWarning:\n",
      "\n",
      "[17:36:48] WARNING: C:\\buildkite-agent\\builds\\buildkite-windows-cpu-autoscaling-group-i-0b3782d1791676daf-1\\xgboost\\xgboost-ci-windows\\src\\learner.cc:742: \n",
      "Parameters: { \"bagging_fraction\", \"feature_fraction\", \"min_child_samples\", \"num_leaves\", \"verbose\" } are not used.\n",
      "\n",
      "\n",
      "\n"
     ]
    },
    {
     "name": "stdout",
     "output_type": "stream",
     "text": [
      "3 CV - score: 0.9214                                                               \n",
      " 52%|█████▏    | 14/27 [43:01<32:12, 148.64s/trial, best loss: -0.9207533113144901]"
     ]
    },
    {
     "name": "stderr",
     "output_type": "stream",
     "text": [
      "C:\\Users\\Donatien\\anaconda3\\lib\\site-packages\\xgboost\\core.py:160: UserWarning:\n",
      "\n",
      "[17:37:10] WARNING: C:\\buildkite-agent\\builds\\buildkite-windows-cpu-autoscaling-group-i-0b3782d1791676daf-1\\xgboost\\xgboost-ci-windows\\src\\learner.cc:742: \n",
      "Parameters: { \"bagging_fraction\", \"feature_fraction\", \"min_child_samples\", \"num_leaves\", \"verbose\" } are not used.\n",
      "\n",
      "\n",
      "\n"
     ]
    },
    {
     "name": "stdout",
     "output_type": "stream",
     "text": [
      "4 CV - score: 0.895                                                                \n",
      " 52%|█████▏    | 14/27 [43:31<32:12, 148.64s/trial, best loss: -0.9207533113144901]"
     ]
    },
    {
     "name": "stderr",
     "output_type": "stream",
     "text": [
      "C:\\Users\\Donatien\\anaconda3\\lib\\site-packages\\xgboost\\core.py:160: UserWarning:\n",
      "\n",
      "[17:37:40] WARNING: C:\\buildkite-agent\\builds\\buildkite-windows-cpu-autoscaling-group-i-0b3782d1791676daf-1\\xgboost\\xgboost-ci-windows\\src\\learner.cc:742: \n",
      "Parameters: { \"bagging_fraction\", \"feature_fraction\", \"min_child_samples\", \"num_leaves\", \"verbose\" } are not used.\n",
      "\n",
      "\n",
      "\n"
     ]
    },
    {
     "name": "stdout",
     "output_type": "stream",
     "text": [
      "5 CV - score: 0.9307                                                               \n",
      " 52%|█████▏    | 14/27 [44:07<32:12, 148.64s/trial, best loss: -0.9207533113144901]"
     ]
    },
    {
     "name": "stderr",
     "output_type": "stream",
     "text": [
      "C:\\Users\\Donatien\\anaconda3\\lib\\site-packages\\xgboost\\core.py:160: UserWarning:\n",
      "\n",
      "[17:38:17] WARNING: C:\\buildkite-agent\\builds\\buildkite-windows-cpu-autoscaling-group-i-0b3782d1791676daf-1\\xgboost\\xgboost-ci-windows\\src\\learner.cc:742: \n",
      "Parameters: { \"bagging_fraction\", \"feature_fraction\", \"min_child_samples\", \"num_leaves\", \"verbose\" } are not used.\n",
      "\n",
      "\n",
      "\n"
     ]
    },
    {
     "name": "stdout",
     "output_type": "stream",
     "text": [
      "6 CV - score: 0.9271                                                               \n",
      " 52%|█████▏    | 14/27 [44:50<32:12, 148.64s/trial, best loss: -0.9207533113144901]"
     ]
    },
    {
     "name": "stderr",
     "output_type": "stream",
     "text": [
      "C:\\Users\\Donatien\\anaconda3\\lib\\site-packages\\xgboost\\core.py:160: UserWarning:\n",
      "\n",
      "[17:39:01] WARNING: C:\\buildkite-agent\\builds\\buildkite-windows-cpu-autoscaling-group-i-0b3782d1791676daf-1\\xgboost\\xgboost-ci-windows\\src\\learner.cc:742: \n",
      "Parameters: { \"bagging_fraction\", \"feature_fraction\", \"min_child_samples\", \"num_leaves\", \"verbose\" } are not used.\n",
      "\n",
      "\n",
      "\n"
     ]
    },
    {
     "name": "stdout",
     "output_type": "stream",
     "text": [
      "7 CV - score: 0.9278                                                               \n",
      "Total Time Run: 3.4                                                                \n",
      "Mean ROC_AUC: 0.9158496367638785                                                   \n",
      "                                                                                   \n",
      "############## New Run ################\n",
      "params = {'max_depth': 17, 'gamma': '0.641', 'subsample': '0.80', 'reg_alpha': '0.157', 'reg_lambda': '0.042', 'learning_rate': '0.134', 'num_leaves': '20.000', 'colsample_bytree': '0.474', 'min_child_samples': '130.000', 'feature_fraction': '0.540', 'bagging_fraction': '0.571'}\n",
      " 56%|█████▌    | 15/27 [45:40<33:04, 165.33s/trial, best loss: -0.9207533113144901]"
     ]
    },
    {
     "name": "stderr",
     "output_type": "stream",
     "text": [
      "C:\\Users\\Donatien\\anaconda3\\lib\\site-packages\\xgboost\\core.py:160: UserWarning:\n",
      "\n",
      "[17:39:47] WARNING: C:\\buildkite-agent\\builds\\buildkite-windows-cpu-autoscaling-group-i-0b3782d1791676daf-1\\xgboost\\xgboost-ci-windows\\src\\learner.cc:742: \n",
      "Parameters: { \"bagging_fraction\", \"feature_fraction\", \"min_child_samples\", \"num_leaves\", \"verbose\" } are not used.\n",
      "\n",
      "\n",
      "\n"
     ]
    },
    {
     "name": "stdout",
     "output_type": "stream",
     "text": [
      "1 CV - score: 0.8983                                                               \n",
      " 56%|█████▌    | 15/27 [45:44<33:04, 165.33s/trial, best loss: -0.9207533113144901]"
     ]
    },
    {
     "name": "stderr",
     "output_type": "stream",
     "text": [
      "C:\\Users\\Donatien\\anaconda3\\lib\\site-packages\\xgboost\\core.py:160: UserWarning:\n",
      "\n",
      "[17:39:52] WARNING: C:\\buildkite-agent\\builds\\buildkite-windows-cpu-autoscaling-group-i-0b3782d1791676daf-1\\xgboost\\xgboost-ci-windows\\src\\learner.cc:742: \n",
      "Parameters: { \"bagging_fraction\", \"feature_fraction\", \"min_child_samples\", \"num_leaves\", \"verbose\" } are not used.\n",
      "\n",
      "\n",
      "\n"
     ]
    },
    {
     "name": "stdout",
     "output_type": "stream",
     "text": [
      "2 CV - score: 0.8974                                                               \n",
      " 56%|█████▌    | 15/27 [45:52<33:04, 165.33s/trial, best loss: -0.9207533113144901]"
     ]
    },
    {
     "name": "stderr",
     "output_type": "stream",
     "text": [
      "C:\\Users\\Donatien\\anaconda3\\lib\\site-packages\\xgboost\\core.py:160: UserWarning:\n",
      "\n",
      "[17:40:01] WARNING: C:\\buildkite-agent\\builds\\buildkite-windows-cpu-autoscaling-group-i-0b3782d1791676daf-1\\xgboost\\xgboost-ci-windows\\src\\learner.cc:742: \n",
      "Parameters: { \"bagging_fraction\", \"feature_fraction\", \"min_child_samples\", \"num_leaves\", \"verbose\" } are not used.\n",
      "\n",
      "\n",
      "\n"
     ]
    },
    {
     "name": "stdout",
     "output_type": "stream",
     "text": [
      "3 CV - score: 0.9165                                                               \n",
      " 56%|█████▌    | 15/27 [46:05<33:04, 165.33s/trial, best loss: -0.9207533113144901]"
     ]
    },
    {
     "name": "stderr",
     "output_type": "stream",
     "text": [
      "C:\\Users\\Donatien\\anaconda3\\lib\\site-packages\\xgboost\\core.py:160: UserWarning:\n",
      "\n",
      "[17:40:14] WARNING: C:\\buildkite-agent\\builds\\buildkite-windows-cpu-autoscaling-group-i-0b3782d1791676daf-1\\xgboost\\xgboost-ci-windows\\src\\learner.cc:742: \n",
      "Parameters: { \"bagging_fraction\", \"feature_fraction\", \"min_child_samples\", \"num_leaves\", \"verbose\" } are not used.\n",
      "\n",
      "\n",
      "\n"
     ]
    },
    {
     "name": "stdout",
     "output_type": "stream",
     "text": [
      "4 CV - score: 0.8888                                                               \n",
      " 56%|█████▌    | 15/27 [46:20<33:04, 165.33s/trial, best loss: -0.9207533113144901]"
     ]
    },
    {
     "name": "stderr",
     "output_type": "stream",
     "text": [
      "C:\\Users\\Donatien\\anaconda3\\lib\\site-packages\\xgboost\\core.py:160: UserWarning:\n",
      "\n",
      "[17:40:30] WARNING: C:\\buildkite-agent\\builds\\buildkite-windows-cpu-autoscaling-group-i-0b3782d1791676daf-1\\xgboost\\xgboost-ci-windows\\src\\learner.cc:742: \n",
      "Parameters: { \"bagging_fraction\", \"feature_fraction\", \"min_child_samples\", \"num_leaves\", \"verbose\" } are not used.\n",
      "\n",
      "\n",
      "\n"
     ]
    },
    {
     "name": "stdout",
     "output_type": "stream",
     "text": [
      "5 CV - score: 0.9246                                                               \n",
      " 56%|█████▌    | 15/27 [46:38<33:04, 165.33s/trial, best loss: -0.9207533113144901]"
     ]
    },
    {
     "name": "stderr",
     "output_type": "stream",
     "text": [
      "C:\\Users\\Donatien\\anaconda3\\lib\\site-packages\\xgboost\\core.py:160: UserWarning:\n",
      "\n",
      "[17:40:48] WARNING: C:\\buildkite-agent\\builds\\buildkite-windows-cpu-autoscaling-group-i-0b3782d1791676daf-1\\xgboost\\xgboost-ci-windows\\src\\learner.cc:742: \n",
      "Parameters: { \"bagging_fraction\", \"feature_fraction\", \"min_child_samples\", \"num_leaves\", \"verbose\" } are not used.\n",
      "\n",
      "\n",
      "\n"
     ]
    },
    {
     "name": "stdout",
     "output_type": "stream",
     "text": [
      "6 CV - score: 0.9191                                                               \n",
      " 56%|█████▌    | 15/27 [46:59<33:04, 165.33s/trial, best loss: -0.9207533113144901]"
     ]
    },
    {
     "name": "stderr",
     "output_type": "stream",
     "text": [
      "C:\\Users\\Donatien\\anaconda3\\lib\\site-packages\\xgboost\\core.py:160: UserWarning:\n",
      "\n",
      "[17:41:10] WARNING: C:\\buildkite-agent\\builds\\buildkite-windows-cpu-autoscaling-group-i-0b3782d1791676daf-1\\xgboost\\xgboost-ci-windows\\src\\learner.cc:742: \n",
      "Parameters: { \"bagging_fraction\", \"feature_fraction\", \"min_child_samples\", \"num_leaves\", \"verbose\" } are not used.\n",
      "\n",
      "\n",
      "\n"
     ]
    },
    {
     "name": "stdout",
     "output_type": "stream",
     "text": [
      "7 CV - score: 0.9183                                                               \n",
      "Total Time Run: 1.76                                                               \n",
      "Mean ROC_AUC: 0.9090043954078018                                                   \n",
      "                                                                                   \n",
      "############## New Run ################\n",
      "params = {'max_depth': 22, 'gamma': '0.112', 'subsample': '0.20', 'reg_alpha': '0.026', 'reg_lambda': '0.274', 'learning_rate': '0.158', 'num_leaves': '70.000', 'colsample_bytree': '0.876', 'min_child_samples': '100.000', 'feature_fraction': '0.519', 'bagging_fraction': '0.696'}\n",
      " 59%|█████▉    | 16/27 [47:25<27:01, 147.40s/trial, best loss: -0.9207533113144901]"
     ]
    },
    {
     "name": "stderr",
     "output_type": "stream",
     "text": [
      "C:\\Users\\Donatien\\anaconda3\\lib\\site-packages\\xgboost\\core.py:160: UserWarning:\n",
      "\n",
      "[17:41:33] WARNING: C:\\buildkite-agent\\builds\\buildkite-windows-cpu-autoscaling-group-i-0b3782d1791676daf-1\\xgboost\\xgboost-ci-windows\\src\\learner.cc:742: \n",
      "Parameters: { \"bagging_fraction\", \"feature_fraction\", \"min_child_samples\", \"num_leaves\", \"verbose\" } are not used.\n",
      "\n",
      "\n",
      "\n"
     ]
    },
    {
     "name": "stdout",
     "output_type": "stream",
     "text": [
      "1 CV - score: 0.8739                                                               \n",
      " 59%|█████▉    | 16/27 [47:33<27:01, 147.40s/trial, best loss: -0.9207533113144901]"
     ]
    },
    {
     "name": "stderr",
     "output_type": "stream",
     "text": [
      "C:\\Users\\Donatien\\anaconda3\\lib\\site-packages\\xgboost\\core.py:160: UserWarning:\n",
      "\n",
      "[17:41:41] WARNING: C:\\buildkite-agent\\builds\\buildkite-windows-cpu-autoscaling-group-i-0b3782d1791676daf-1\\xgboost\\xgboost-ci-windows\\src\\learner.cc:742: \n",
      "Parameters: { \"bagging_fraction\", \"feature_fraction\", \"min_child_samples\", \"num_leaves\", \"verbose\" } are not used.\n",
      "\n",
      "\n",
      "\n"
     ]
    },
    {
     "name": "stdout",
     "output_type": "stream",
     "text": [
      "2 CV - score: 0.869                                                                \n",
      " 59%|█████▉    | 16/27 [47:46<27:01, 147.40s/trial, best loss: -0.9207533113144901]"
     ]
    },
    {
     "name": "stderr",
     "output_type": "stream",
     "text": [
      "C:\\Users\\Donatien\\anaconda3\\lib\\site-packages\\xgboost\\core.py:160: UserWarning:\n",
      "\n",
      "[17:41:55] WARNING: C:\\buildkite-agent\\builds\\buildkite-windows-cpu-autoscaling-group-i-0b3782d1791676daf-1\\xgboost\\xgboost-ci-windows\\src\\learner.cc:742: \n",
      "Parameters: { \"bagging_fraction\", \"feature_fraction\", \"min_child_samples\", \"num_leaves\", \"verbose\" } are not used.\n",
      "\n",
      "\n",
      "\n"
     ]
    },
    {
     "name": "stdout",
     "output_type": "stream",
     "text": [
      "3 CV - score: 0.8924                                                               \n",
      " 59%|█████▉    | 16/27 [48:07<27:01, 147.40s/trial, best loss: -0.9207533113144901]"
     ]
    },
    {
     "name": "stderr",
     "output_type": "stream",
     "text": [
      "C:\\Users\\Donatien\\anaconda3\\lib\\site-packages\\xgboost\\core.py:160: UserWarning:\n",
      "\n",
      "[17:42:16] WARNING: C:\\buildkite-agent\\builds\\buildkite-windows-cpu-autoscaling-group-i-0b3782d1791676daf-1\\xgboost\\xgboost-ci-windows\\src\\learner.cc:742: \n",
      "Parameters: { \"bagging_fraction\", \"feature_fraction\", \"min_child_samples\", \"num_leaves\", \"verbose\" } are not used.\n",
      "\n",
      "\n",
      "\n"
     ]
    },
    {
     "name": "stdout",
     "output_type": "stream",
     "text": [
      "4 CV - score: 0.8468                                                               \n",
      " 59%|█████▉    | 16/27 [48:34<27:01, 147.40s/trial, best loss: -0.9207533113144901]"
     ]
    },
    {
     "name": "stderr",
     "output_type": "stream",
     "text": [
      "C:\\Users\\Donatien\\anaconda3\\lib\\site-packages\\xgboost\\core.py:160: UserWarning:\n",
      "\n",
      "[17:42:43] WARNING: C:\\buildkite-agent\\builds\\buildkite-windows-cpu-autoscaling-group-i-0b3782d1791676daf-1\\xgboost\\xgboost-ci-windows\\src\\learner.cc:742: \n",
      "Parameters: { \"bagging_fraction\", \"feature_fraction\", \"min_child_samples\", \"num_leaves\", \"verbose\" } are not used.\n",
      "\n",
      "\n",
      "\n"
     ]
    },
    {
     "name": "stdout",
     "output_type": "stream",
     "text": [
      "5 CV - score: 0.8949                                                               \n",
      " 59%|█████▉    | 16/27 [49:06<27:01, 147.40s/trial, best loss: -0.9207533113144901]"
     ]
    },
    {
     "name": "stderr",
     "output_type": "stream",
     "text": [
      "C:\\Users\\Donatien\\anaconda3\\lib\\site-packages\\xgboost\\core.py:160: UserWarning:\n",
      "\n",
      "[17:43:16] WARNING: C:\\buildkite-agent\\builds\\buildkite-windows-cpu-autoscaling-group-i-0b3782d1791676daf-1\\xgboost\\xgboost-ci-windows\\src\\learner.cc:742: \n",
      "Parameters: { \"bagging_fraction\", \"feature_fraction\", \"min_child_samples\", \"num_leaves\", \"verbose\" } are not used.\n",
      "\n",
      "\n",
      "\n"
     ]
    },
    {
     "name": "stdout",
     "output_type": "stream",
     "text": [
      "6 CV - score: 0.8812                                                               \n",
      " 59%|█████▉    | 16/27 [49:45<27:01, 147.40s/trial, best loss: -0.9207533113144901]"
     ]
    },
    {
     "name": "stderr",
     "output_type": "stream",
     "text": [
      "C:\\Users\\Donatien\\anaconda3\\lib\\site-packages\\xgboost\\core.py:160: UserWarning:\n",
      "\n",
      "[17:43:56] WARNING: C:\\buildkite-agent\\builds\\buildkite-windows-cpu-autoscaling-group-i-0b3782d1791676daf-1\\xgboost\\xgboost-ci-windows\\src\\learner.cc:742: \n",
      "Parameters: { \"bagging_fraction\", \"feature_fraction\", \"min_child_samples\", \"num_leaves\", \"verbose\" } are not used.\n",
      "\n",
      "\n",
      "\n"
     ]
    },
    {
     "name": "stdout",
     "output_type": "stream",
     "text": [
      "7 CV - score: 0.8863                                                               \n",
      "Total Time Run: 3.1                                                                \n",
      "Mean ROC_AUC: 0.8777899750539774                                                   \n",
      "                                                                                   \n",
      "############## New Run ################\n",
      "params = {'max_depth': 18, 'gamma': '0.142', 'subsample': '0.60', 'reg_alpha': '0.356', 'reg_lambda': '0.338', 'learning_rate': '0.138', 'num_leaves': '70.000', 'colsample_bytree': '0.472', 'min_child_samples': '210.000', 'feature_fraction': '0.708', 'bagging_fraction': '0.434'}\n",
      " 63%|██████▎   | 17/27 [50:31<26:30, 159.04s/trial, best loss: -0.9207533113144901]"
     ]
    },
    {
     "name": "stderr",
     "output_type": "stream",
     "text": [
      "C:\\Users\\Donatien\\anaconda3\\lib\\site-packages\\xgboost\\core.py:160: UserWarning:\n",
      "\n",
      "[17:44:39] WARNING: C:\\buildkite-agent\\builds\\buildkite-windows-cpu-autoscaling-group-i-0b3782d1791676daf-1\\xgboost\\xgboost-ci-windows\\src\\learner.cc:742: \n",
      "Parameters: { \"bagging_fraction\", \"feature_fraction\", \"min_child_samples\", \"num_leaves\", \"verbose\" } are not used.\n",
      "\n",
      "\n",
      "\n"
     ]
    },
    {
     "name": "stdout",
     "output_type": "stream",
     "text": [
      "1 CV - score: 0.8953                                                               \n",
      " 63%|██████▎   | 17/27 [50:38<26:30, 159.04s/trial, best loss: -0.9207533113144901]"
     ]
    },
    {
     "name": "stderr",
     "output_type": "stream",
     "text": [
      "C:\\Users\\Donatien\\anaconda3\\lib\\site-packages\\xgboost\\core.py:160: UserWarning:\n",
      "\n",
      "[17:44:46] WARNING: C:\\buildkite-agent\\builds\\buildkite-windows-cpu-autoscaling-group-i-0b3782d1791676daf-1\\xgboost\\xgboost-ci-windows\\src\\learner.cc:742: \n",
      "Parameters: { \"bagging_fraction\", \"feature_fraction\", \"min_child_samples\", \"num_leaves\", \"verbose\" } are not used.\n",
      "\n",
      "\n",
      "\n"
     ]
    },
    {
     "name": "stdout",
     "output_type": "stream",
     "text": [
      "2 CV - score: 0.8955                                                               \n",
      " 63%|██████▎   | 17/27 [50:50<26:30, 159.04s/trial, best loss: -0.9207533113144901]"
     ]
    },
    {
     "name": "stderr",
     "output_type": "stream",
     "text": [
      "C:\\Users\\Donatien\\anaconda3\\lib\\site-packages\\xgboost\\core.py:160: UserWarning:\n",
      "\n",
      "[17:44:58] WARNING: C:\\buildkite-agent\\builds\\buildkite-windows-cpu-autoscaling-group-i-0b3782d1791676daf-1\\xgboost\\xgboost-ci-windows\\src\\learner.cc:742: \n",
      "Parameters: { \"bagging_fraction\", \"feature_fraction\", \"min_child_samples\", \"num_leaves\", \"verbose\" } are not used.\n",
      "\n",
      "\n",
      "\n"
     ]
    },
    {
     "name": "stdout",
     "output_type": "stream",
     "text": [
      "3 CV - score: 0.9128                                                               \n",
      " 63%|██████▎   | 17/27 [51:07<26:30, 159.04s/trial, best loss: -0.9207533113144901]"
     ]
    },
    {
     "name": "stderr",
     "output_type": "stream",
     "text": [
      "C:\\Users\\Donatien\\anaconda3\\lib\\site-packages\\xgboost\\core.py:160: UserWarning:\n",
      "\n",
      "[17:45:16] WARNING: C:\\buildkite-agent\\builds\\buildkite-windows-cpu-autoscaling-group-i-0b3782d1791676daf-1\\xgboost\\xgboost-ci-windows\\src\\learner.cc:742: \n",
      "Parameters: { \"bagging_fraction\", \"feature_fraction\", \"min_child_samples\", \"num_leaves\", \"verbose\" } are not used.\n",
      "\n",
      "\n",
      "\n"
     ]
    },
    {
     "name": "stdout",
     "output_type": "stream",
     "text": [
      "4 CV - score: 0.8843                                                               \n",
      " 63%|██████▎   | 17/27 [51:31<26:30, 159.04s/trial, best loss: -0.9207533113144901]"
     ]
    },
    {
     "name": "stderr",
     "output_type": "stream",
     "text": [
      "C:\\Users\\Donatien\\anaconda3\\lib\\site-packages\\xgboost\\core.py:160: UserWarning:\n",
      "\n",
      "[17:45:41] WARNING: C:\\buildkite-agent\\builds\\buildkite-windows-cpu-autoscaling-group-i-0b3782d1791676daf-1\\xgboost\\xgboost-ci-windows\\src\\learner.cc:742: \n",
      "Parameters: { \"bagging_fraction\", \"feature_fraction\", \"min_child_samples\", \"num_leaves\", \"verbose\" } are not used.\n",
      "\n",
      "\n",
      "\n"
     ]
    },
    {
     "name": "stdout",
     "output_type": "stream",
     "text": [
      "5 CV - score: 0.923                                                                \n",
      " 63%|██████▎   | 17/27 [51:59<26:30, 159.04s/trial, best loss: -0.9207533113144901]"
     ]
    },
    {
     "name": "stderr",
     "output_type": "stream",
     "text": [
      "C:\\Users\\Donatien\\anaconda3\\lib\\site-packages\\xgboost\\core.py:160: UserWarning:\n",
      "\n",
      "[17:46:09] WARNING: C:\\buildkite-agent\\builds\\buildkite-windows-cpu-autoscaling-group-i-0b3782d1791676daf-1\\xgboost\\xgboost-ci-windows\\src\\learner.cc:742: \n",
      "Parameters: { \"bagging_fraction\", \"feature_fraction\", \"min_child_samples\", \"num_leaves\", \"verbose\" } are not used.\n",
      "\n",
      "\n",
      "\n"
     ]
    },
    {
     "name": "stdout",
     "output_type": "stream",
     "text": [
      "6 CV - score: 0.9175                                                               \n",
      " 63%|██████▎   | 17/27 [52:33<26:30, 159.04s/trial, best loss: -0.9207533113144901]"
     ]
    },
    {
     "name": "stderr",
     "output_type": "stream",
     "text": [
      "C:\\Users\\Donatien\\anaconda3\\lib\\site-packages\\xgboost\\core.py:160: UserWarning:\n",
      "\n",
      "[17:46:43] WARNING: C:\\buildkite-agent\\builds\\buildkite-windows-cpu-autoscaling-group-i-0b3782d1791676daf-1\\xgboost\\xgboost-ci-windows\\src\\learner.cc:742: \n",
      "Parameters: { \"bagging_fraction\", \"feature_fraction\", \"min_child_samples\", \"num_leaves\", \"verbose\" } are not used.\n",
      "\n",
      "\n",
      "\n"
     ]
    },
    {
     "name": "stdout",
     "output_type": "stream",
     "text": [
      "7 CV - score: 0.9173                                                               \n",
      "Total Time Run: 2.66                                                               \n",
      "Mean ROC_AUC: 0.906513715312384                                                    \n",
      "                                                                                   \n",
      "############## New Run ################\n",
      "params = {'max_depth': 11, 'gamma': '0.665', 'subsample': '0.70', 'reg_alpha': '0.167', 'reg_lambda': '0.311', 'learning_rate': '0.195', 'num_leaves': '180.000', 'colsample_bytree': '0.637', 'min_child_samples': '140.000', 'feature_fraction': '0.625', 'bagging_fraction': '0.871'}\n",
      " 67%|██████▋   | 18/27 [53:11<23:53, 159.30s/trial, best loss: -0.9207533113144901]"
     ]
    },
    {
     "name": "stderr",
     "output_type": "stream",
     "text": [
      "C:\\Users\\Donatien\\anaconda3\\lib\\site-packages\\xgboost\\core.py:160: UserWarning:\n",
      "\n",
      "[17:47:19] WARNING: C:\\buildkite-agent\\builds\\buildkite-windows-cpu-autoscaling-group-i-0b3782d1791676daf-1\\xgboost\\xgboost-ci-windows\\src\\learner.cc:742: \n",
      "Parameters: { \"bagging_fraction\", \"feature_fraction\", \"min_child_samples\", \"num_leaves\", \"verbose\" } are not used.\n",
      "\n",
      "\n",
      "\n"
     ]
    },
    {
     "name": "stdout",
     "output_type": "stream",
     "text": [
      "1 CV - score: 0.8901                                                               \n",
      " 67%|██████▋   | 18/27 [53:16<23:53, 159.30s/trial, best loss: -0.9207533113144901]"
     ]
    },
    {
     "name": "stderr",
     "output_type": "stream",
     "text": [
      "C:\\Users\\Donatien\\anaconda3\\lib\\site-packages\\xgboost\\core.py:160: UserWarning:\n",
      "\n",
      "[17:47:24] WARNING: C:\\buildkite-agent\\builds\\buildkite-windows-cpu-autoscaling-group-i-0b3782d1791676daf-1\\xgboost\\xgboost-ci-windows\\src\\learner.cc:742: \n",
      "Parameters: { \"bagging_fraction\", \"feature_fraction\", \"min_child_samples\", \"num_leaves\", \"verbose\" } are not used.\n",
      "\n",
      "\n",
      "\n"
     ]
    },
    {
     "name": "stdout",
     "output_type": "stream",
     "text": [
      "2 CV - score: 0.88                                                                 \n",
      " 67%|██████▋   | 18/27 [53:23<23:53, 159.30s/trial, best loss: -0.9207533113144901]"
     ]
    },
    {
     "name": "stderr",
     "output_type": "stream",
     "text": [
      "C:\\Users\\Donatien\\anaconda3\\lib\\site-packages\\xgboost\\core.py:160: UserWarning:\n",
      "\n",
      "[17:47:31] WARNING: C:\\buildkite-agent\\builds\\buildkite-windows-cpu-autoscaling-group-i-0b3782d1791676daf-1\\xgboost\\xgboost-ci-windows\\src\\learner.cc:742: \n",
      "Parameters: { \"bagging_fraction\", \"feature_fraction\", \"min_child_samples\", \"num_leaves\", \"verbose\" } are not used.\n",
      "\n",
      "\n",
      "\n"
     ]
    },
    {
     "name": "stdout",
     "output_type": "stream",
     "text": [
      "3 CV - score: 0.9077                                                               \n",
      " 67%|██████▋   | 18/27 [53:32<23:53, 159.30s/trial, best loss: -0.9207533113144901]"
     ]
    },
    {
     "name": "stderr",
     "output_type": "stream",
     "text": [
      "C:\\Users\\Donatien\\anaconda3\\lib\\site-packages\\xgboost\\core.py:160: UserWarning:\n",
      "\n",
      "[17:47:42] WARNING: C:\\buildkite-agent\\builds\\buildkite-windows-cpu-autoscaling-group-i-0b3782d1791676daf-1\\xgboost\\xgboost-ci-windows\\src\\learner.cc:742: \n",
      "Parameters: { \"bagging_fraction\", \"feature_fraction\", \"min_child_samples\", \"num_leaves\", \"verbose\" } are not used.\n",
      "\n",
      "\n",
      "\n"
     ]
    },
    {
     "name": "stdout",
     "output_type": "stream",
     "text": [
      "4 CV - score: 0.883                                                                \n",
      " 67%|██████▋   | 18/27 [53:47<23:53, 159.30s/trial, best loss: -0.9207533113144901]"
     ]
    },
    {
     "name": "stderr",
     "output_type": "stream",
     "text": [
      "C:\\Users\\Donatien\\anaconda3\\lib\\site-packages\\xgboost\\core.py:160: UserWarning:\n",
      "\n",
      "[17:47:56] WARNING: C:\\buildkite-agent\\builds\\buildkite-windows-cpu-autoscaling-group-i-0b3782d1791676daf-1\\xgboost\\xgboost-ci-windows\\src\\learner.cc:742: \n",
      "Parameters: { \"bagging_fraction\", \"feature_fraction\", \"min_child_samples\", \"num_leaves\", \"verbose\" } are not used.\n",
      "\n",
      "\n",
      "\n"
     ]
    },
    {
     "name": "stdout",
     "output_type": "stream",
     "text": [
      "5 CV - score: 0.9183                                                               \n",
      " 67%|██████▋   | 18/27 [54:03<23:53, 159.30s/trial, best loss: -0.9207533113144901]"
     ]
    },
    {
     "name": "stderr",
     "output_type": "stream",
     "text": [
      "C:\\Users\\Donatien\\anaconda3\\lib\\site-packages\\xgboost\\core.py:160: UserWarning:\n",
      "\n",
      "[17:48:13] WARNING: C:\\buildkite-agent\\builds\\buildkite-windows-cpu-autoscaling-group-i-0b3782d1791676daf-1\\xgboost\\xgboost-ci-windows\\src\\learner.cc:742: \n",
      "Parameters: { \"bagging_fraction\", \"feature_fraction\", \"min_child_samples\", \"num_leaves\", \"verbose\" } are not used.\n",
      "\n",
      "\n",
      "\n"
     ]
    },
    {
     "name": "stdout",
     "output_type": "stream",
     "text": [
      "6 CV - score: 0.9084                                                               \n",
      " 67%|██████▋   | 18/27 [54:25<23:53, 159.30s/trial, best loss: -0.9207533113144901]"
     ]
    },
    {
     "name": "stderr",
     "output_type": "stream",
     "text": [
      "C:\\Users\\Donatien\\anaconda3\\lib\\site-packages\\xgboost\\core.py:160: UserWarning:\n",
      "\n",
      "[17:48:36] WARNING: C:\\buildkite-agent\\builds\\buildkite-windows-cpu-autoscaling-group-i-0b3782d1791676daf-1\\xgboost\\xgboost-ci-windows\\src\\learner.cc:742: \n",
      "Parameters: { \"bagging_fraction\", \"feature_fraction\", \"min_child_samples\", \"num_leaves\", \"verbose\" } are not used.\n",
      "\n",
      "\n",
      "\n"
     ]
    },
    {
     "name": "stdout",
     "output_type": "stream",
     "text": [
      "7 CV - score: 0.9039                                                               \n",
      "Total Time Run: 1.66                                                               \n",
      "Mean ROC_AUC: 0.8987697570087004                                                   \n",
      "                                                                                   \n",
      "############## New Run ################\n",
      "params = {'max_depth': 13, 'gamma': '0.683', 'subsample': '0.20', 'reg_alpha': '0.132', 'reg_lambda': '0.125', 'learning_rate': '0.166', 'num_leaves': '230.000', 'colsample_bytree': '0.516', 'min_child_samples': '100.000', 'feature_fraction': '0.472', 'bagging_fraction': '0.529'}\n",
      " 70%|███████   | 19/27 [54:51<18:50, 141.37s/trial, best loss: -0.9207533113144901]"
     ]
    },
    {
     "name": "stderr",
     "output_type": "stream",
     "text": [
      "C:\\Users\\Donatien\\anaconda3\\lib\\site-packages\\xgboost\\core.py:160: UserWarning:\n",
      "\n",
      "[17:48:59] WARNING: C:\\buildkite-agent\\builds\\buildkite-windows-cpu-autoscaling-group-i-0b3782d1791676daf-1\\xgboost\\xgboost-ci-windows\\src\\learner.cc:742: \n",
      "Parameters: { \"bagging_fraction\", \"feature_fraction\", \"min_child_samples\", \"num_leaves\", \"verbose\" } are not used.\n",
      "\n",
      "\n",
      "\n"
     ]
    },
    {
     "name": "stdout",
     "output_type": "stream",
     "text": [
      "1 CV - score: 0.8651                                                               \n",
      " 70%|███████   | 19/27 [54:58<18:50, 141.37s/trial, best loss: -0.9207533113144901]"
     ]
    },
    {
     "name": "stderr",
     "output_type": "stream",
     "text": [
      "C:\\Users\\Donatien\\anaconda3\\lib\\site-packages\\xgboost\\core.py:160: UserWarning:\n",
      "\n",
      "[17:49:06] WARNING: C:\\buildkite-agent\\builds\\buildkite-windows-cpu-autoscaling-group-i-0b3782d1791676daf-1\\xgboost\\xgboost-ci-windows\\src\\learner.cc:742: \n",
      "Parameters: { \"bagging_fraction\", \"feature_fraction\", \"min_child_samples\", \"num_leaves\", \"verbose\" } are not used.\n",
      "\n",
      "\n",
      "\n"
     ]
    },
    {
     "name": "stdout",
     "output_type": "stream",
     "text": [
      "2 CV - score: 0.8576                                                               \n",
      " 70%|███████   | 19/27 [55:09<18:50, 141.37s/trial, best loss: -0.9207533113144901]"
     ]
    },
    {
     "name": "stderr",
     "output_type": "stream",
     "text": [
      "C:\\Users\\Donatien\\anaconda3\\lib\\site-packages\\xgboost\\core.py:160: UserWarning:\n",
      "\n",
      "[17:49:18] WARNING: C:\\buildkite-agent\\builds\\buildkite-windows-cpu-autoscaling-group-i-0b3782d1791676daf-1\\xgboost\\xgboost-ci-windows\\src\\learner.cc:742: \n",
      "Parameters: { \"bagging_fraction\", \"feature_fraction\", \"min_child_samples\", \"num_leaves\", \"verbose\" } are not used.\n",
      "\n",
      "\n",
      "\n"
     ]
    },
    {
     "name": "stdout",
     "output_type": "stream",
     "text": [
      "3 CV - score: 0.8806                                                               \n",
      " 70%|███████   | 19/27 [55:26<18:50, 141.37s/trial, best loss: -0.9207533113144901]"
     ]
    },
    {
     "name": "stderr",
     "output_type": "stream",
     "text": [
      "C:\\Users\\Donatien\\anaconda3\\lib\\site-packages\\xgboost\\core.py:160: UserWarning:\n",
      "\n",
      "[17:49:36] WARNING: C:\\buildkite-agent\\builds\\buildkite-windows-cpu-autoscaling-group-i-0b3782d1791676daf-1\\xgboost\\xgboost-ci-windows\\src\\learner.cc:742: \n",
      "Parameters: { \"bagging_fraction\", \"feature_fraction\", \"min_child_samples\", \"num_leaves\", \"verbose\" } are not used.\n",
      "\n",
      "\n",
      "\n"
     ]
    },
    {
     "name": "stdout",
     "output_type": "stream",
     "text": [
      "4 CV - score: 0.8559                                                               \n",
      " 70%|███████   | 19/27 [55:48<18:50, 141.37s/trial, best loss: -0.9207533113144901]"
     ]
    },
    {
     "name": "stderr",
     "output_type": "stream",
     "text": [
      "C:\\Users\\Donatien\\anaconda3\\lib\\site-packages\\xgboost\\core.py:160: UserWarning:\n",
      "\n",
      "[17:49:57] WARNING: C:\\buildkite-agent\\builds\\buildkite-windows-cpu-autoscaling-group-i-0b3782d1791676daf-1\\xgboost\\xgboost-ci-windows\\src\\learner.cc:742: \n",
      "Parameters: { \"bagging_fraction\", \"feature_fraction\", \"min_child_samples\", \"num_leaves\", \"verbose\" } are not used.\n",
      "\n",
      "\n",
      "\n"
     ]
    },
    {
     "name": "stdout",
     "output_type": "stream",
     "text": [
      "5 CV - score: 0.8959                                                               \n",
      " 70%|███████   | 19/27 [56:13<18:50, 141.37s/trial, best loss: -0.9207533113144901]"
     ]
    },
    {
     "name": "stderr",
     "output_type": "stream",
     "text": [
      "C:\\Users\\Donatien\\anaconda3\\lib\\site-packages\\xgboost\\core.py:160: UserWarning:\n",
      "\n",
      "[17:50:24] WARNING: C:\\buildkite-agent\\builds\\buildkite-windows-cpu-autoscaling-group-i-0b3782d1791676daf-1\\xgboost\\xgboost-ci-windows\\src\\learner.cc:742: \n",
      "Parameters: { \"bagging_fraction\", \"feature_fraction\", \"min_child_samples\", \"num_leaves\", \"verbose\" } are not used.\n",
      "\n",
      "\n",
      "\n"
     ]
    },
    {
     "name": "stdout",
     "output_type": "stream",
     "text": [
      "6 CV - score: 0.8835                                                               \n",
      " 70%|███████   | 19/27 [56:45<18:50, 141.37s/trial, best loss: -0.9207533113144901]"
     ]
    },
    {
     "name": "stderr",
     "output_type": "stream",
     "text": [
      "C:\\Users\\Donatien\\anaconda3\\lib\\site-packages\\xgboost\\core.py:160: UserWarning:\n",
      "\n",
      "[17:50:56] WARNING: C:\\buildkite-agent\\builds\\buildkite-windows-cpu-autoscaling-group-i-0b3782d1791676daf-1\\xgboost\\xgboost-ci-windows\\src\\learner.cc:742: \n",
      "Parameters: { \"bagging_fraction\", \"feature_fraction\", \"min_child_samples\", \"num_leaves\", \"verbose\" } are not used.\n",
      "\n",
      "\n",
      "\n"
     ]
    },
    {
     "name": "stdout",
     "output_type": "stream",
     "text": [
      "7 CV - score: 0.8851                                                               \n",
      "Total Time Run: 2.5                                                                \n",
      "Mean ROC_AUC: 0.874799408909947                                                    \n",
      "                                                                                   \n",
      "############## New Run ################\n",
      "params = {'max_depth': 23, 'gamma': '0.569', 'subsample': '0.80', 'reg_alpha': '0.398', 'reg_lambda': '0.203', 'learning_rate': '0.086', 'num_leaves': '200.000', 'colsample_bytree': '0.764', 'min_child_samples': '180.000', 'feature_fraction': '0.427', 'bagging_fraction': '0.777'}\n",
      " 74%|███████▍  | 20/27 [57:21<16:47, 143.92s/trial, best loss: -0.9207533113144901]"
     ]
    },
    {
     "name": "stderr",
     "output_type": "stream",
     "text": [
      "C:\\Users\\Donatien\\anaconda3\\lib\\site-packages\\xgboost\\core.py:160: UserWarning:\n",
      "\n",
      "[17:51:28] WARNING: C:\\buildkite-agent\\builds\\buildkite-windows-cpu-autoscaling-group-i-0b3782d1791676daf-1\\xgboost\\xgboost-ci-windows\\src\\learner.cc:742: \n",
      "Parameters: { \"bagging_fraction\", \"feature_fraction\", \"min_child_samples\", \"num_leaves\", \"verbose\" } are not used.\n",
      "\n",
      "\n",
      "\n"
     ]
    },
    {
     "name": "stdout",
     "output_type": "stream",
     "text": [
      "1 CV - score: 0.9026                                                               \n",
      " 74%|███████▍  | 20/27 [57:27<16:47, 143.92s/trial, best loss: -0.9207533113144901]"
     ]
    },
    {
     "name": "stderr",
     "output_type": "stream",
     "text": [
      "C:\\Users\\Donatien\\anaconda3\\lib\\site-packages\\xgboost\\core.py:160: UserWarning:\n",
      "\n",
      "[17:51:35] WARNING: C:\\buildkite-agent\\builds\\buildkite-windows-cpu-autoscaling-group-i-0b3782d1791676daf-1\\xgboost\\xgboost-ci-windows\\src\\learner.cc:742: \n",
      "Parameters: { \"bagging_fraction\", \"feature_fraction\", \"min_child_samples\", \"num_leaves\", \"verbose\" } are not used.\n",
      "\n",
      "\n",
      "\n"
     ]
    },
    {
     "name": "stdout",
     "output_type": "stream",
     "text": [
      "2 CV - score: 0.9045                                                               \n",
      " 74%|███████▍  | 20/27 [57:36<16:47, 143.92s/trial, best loss: -0.9207533113144901]"
     ]
    },
    {
     "name": "stderr",
     "output_type": "stream",
     "text": [
      "C:\\Users\\Donatien\\anaconda3\\lib\\site-packages\\xgboost\\core.py:160: UserWarning:\n",
      "\n",
      "[17:51:45] WARNING: C:\\buildkite-agent\\builds\\buildkite-windows-cpu-autoscaling-group-i-0b3782d1791676daf-1\\xgboost\\xgboost-ci-windows\\src\\learner.cc:742: \n",
      "Parameters: { \"bagging_fraction\", \"feature_fraction\", \"min_child_samples\", \"num_leaves\", \"verbose\" } are not used.\n",
      "\n",
      "\n",
      "\n"
     ]
    },
    {
     "name": "stdout",
     "output_type": "stream",
     "text": [
      "3 CV - score: 0.9239                                                               \n",
      " 74%|███████▍  | 20/27 [57:52<16:47, 143.92s/trial, best loss: -0.9207533113144901]"
     ]
    },
    {
     "name": "stderr",
     "output_type": "stream",
     "text": [
      "C:\\Users\\Donatien\\anaconda3\\lib\\site-packages\\xgboost\\core.py:160: UserWarning:\n",
      "\n",
      "[17:52:01] WARNING: C:\\buildkite-agent\\builds\\buildkite-windows-cpu-autoscaling-group-i-0b3782d1791676daf-1\\xgboost\\xgboost-ci-windows\\src\\learner.cc:742: \n",
      "Parameters: { \"bagging_fraction\", \"feature_fraction\", \"min_child_samples\", \"num_leaves\", \"verbose\" } are not used.\n",
      "\n",
      "\n",
      "\n"
     ]
    },
    {
     "name": "stdout",
     "output_type": "stream",
     "text": [
      "4 CV - score: 0.8984                                                               \n",
      " 74%|███████▍  | 20/27 [58:12<16:47, 143.92s/trial, best loss: -0.9207533113144901]"
     ]
    },
    {
     "name": "stderr",
     "output_type": "stream",
     "text": [
      "C:\\Users\\Donatien\\anaconda3\\lib\\site-packages\\xgboost\\core.py:160: UserWarning:\n",
      "\n",
      "[17:52:21] WARNING: C:\\buildkite-agent\\builds\\buildkite-windows-cpu-autoscaling-group-i-0b3782d1791676daf-1\\xgboost\\xgboost-ci-windows\\src\\learner.cc:742: \n",
      "Parameters: { \"bagging_fraction\", \"feature_fraction\", \"min_child_samples\", \"num_leaves\", \"verbose\" } are not used.\n",
      "\n",
      "\n",
      "\n"
     ]
    },
    {
     "name": "stdout",
     "output_type": "stream",
     "text": [
      "5 CV - score: 0.9315                                                               \n",
      " 74%|███████▍  | 20/27 [58:35<16:47, 143.92s/trial, best loss: -0.9207533113144901]"
     ]
    },
    {
     "name": "stderr",
     "output_type": "stream",
     "text": [
      "C:\\Users\\Donatien\\anaconda3\\lib\\site-packages\\xgboost\\core.py:160: UserWarning:\n",
      "\n",
      "[17:52:45] WARNING: C:\\buildkite-agent\\builds\\buildkite-windows-cpu-autoscaling-group-i-0b3782d1791676daf-1\\xgboost\\xgboost-ci-windows\\src\\learner.cc:742: \n",
      "Parameters: { \"bagging_fraction\", \"feature_fraction\", \"min_child_samples\", \"num_leaves\", \"verbose\" } are not used.\n",
      "\n",
      "\n",
      "\n"
     ]
    },
    {
     "name": "stdout",
     "output_type": "stream",
     "text": [
      "6 CV - score: 0.928                                                                \n",
      " 74%|███████▍  | 20/27 [59:04<16:47, 143.92s/trial, best loss: -0.9207533113144901]"
     ]
    },
    {
     "name": "stderr",
     "output_type": "stream",
     "text": [
      "C:\\Users\\Donatien\\anaconda3\\lib\\site-packages\\xgboost\\core.py:160: UserWarning:\n",
      "\n",
      "[17:53:15] WARNING: C:\\buildkite-agent\\builds\\buildkite-windows-cpu-autoscaling-group-i-0b3782d1791676daf-1\\xgboost\\xgboost-ci-windows\\src\\learner.cc:742: \n",
      "Parameters: { \"bagging_fraction\", \"feature_fraction\", \"min_child_samples\", \"num_leaves\", \"verbose\" } are not used.\n",
      "\n",
      "\n",
      "\n"
     ]
    },
    {
     "name": "stdout",
     "output_type": "stream",
     "text": [
      "7 CV - score: 0.9238                                                               \n",
      "Total Time Run: 2.29                                                               \n",
      "Mean ROC_AUC: 0.9161078658181686                                                   \n",
      "                                                                                   \n",
      "############## New Run ################\n",
      "params = {'max_depth': 7, 'gamma': '0.565', 'subsample': '0.40', 'reg_alpha': '0.203', 'reg_lambda': '0.202', 'learning_rate': '0.012', 'num_leaves': '100.000', 'colsample_bytree': '0.407', 'min_child_samples': '230.000', 'feature_fraction': '0.681', 'bagging_fraction': '0.819'}\n",
      " 78%|███████▊  | 21/27 [59:38<14:12, 142.01s/trial, best loss: -0.9207533113144901]"
     ]
    },
    {
     "name": "stderr",
     "output_type": "stream",
     "text": [
      "C:\\Users\\Donatien\\anaconda3\\lib\\site-packages\\xgboost\\core.py:160: UserWarning:\n",
      "\n",
      "[17:53:46] WARNING: C:\\buildkite-agent\\builds\\buildkite-windows-cpu-autoscaling-group-i-0b3782d1791676daf-1\\xgboost\\xgboost-ci-windows\\src\\learner.cc:742: \n",
      "Parameters: { \"bagging_fraction\", \"feature_fraction\", \"min_child_samples\", \"num_leaves\", \"verbose\" } are not used.\n",
      "\n",
      "\n",
      "\n"
     ]
    },
    {
     "name": "stdout",
     "output_type": "stream",
     "text": [
      "1 CV - score: 0.9011                                                               \n",
      " 78%|███████▊  | 21/27 [59:45<14:12, 142.01s/trial, best loss: -0.9207533113144901]"
     ]
    },
    {
     "name": "stderr",
     "output_type": "stream",
     "text": [
      "C:\\Users\\Donatien\\anaconda3\\lib\\site-packages\\xgboost\\core.py:160: UserWarning:\n",
      "\n",
      "[17:53:53] WARNING: C:\\buildkite-agent\\builds\\buildkite-windows-cpu-autoscaling-group-i-0b3782d1791676daf-1\\xgboost\\xgboost-ci-windows\\src\\learner.cc:742: \n",
      "Parameters: { \"bagging_fraction\", \"feature_fraction\", \"min_child_samples\", \"num_leaves\", \"verbose\" } are not used.\n",
      "\n",
      "\n",
      "\n"
     ]
    },
    {
     "name": "stdout",
     "output_type": "stream",
     "text": [
      "2 CV - score: 0.9068                                                               \n",
      " 78%|███████▊  | 21/27 [59:54<14:12, 142.01s/trial, best loss: -0.9207533113144901]"
     ]
    },
    {
     "name": "stderr",
     "output_type": "stream",
     "text": [
      "C:\\Users\\Donatien\\anaconda3\\lib\\site-packages\\xgboost\\core.py:160: UserWarning:\n",
      "\n",
      "[17:54:02] WARNING: C:\\buildkite-agent\\builds\\buildkite-windows-cpu-autoscaling-group-i-0b3782d1791676daf-1\\xgboost\\xgboost-ci-windows\\src\\learner.cc:742: \n",
      "Parameters: { \"bagging_fraction\", \"feature_fraction\", \"min_child_samples\", \"num_leaves\", \"verbose\" } are not used.\n",
      "\n",
      "\n",
      "\n"
     ]
    },
    {
     "name": "stdout",
     "output_type": "stream",
     "text": [
      "3 CV - score: 0.9163                                                               \n",
      " 78%|███████▊  | 21/27 [1:00:06<14:12, 142.01s/trial, best loss: -0.9207533113144901]"
     ]
    },
    {
     "name": "stderr",
     "output_type": "stream",
     "text": [
      "C:\\Users\\Donatien\\anaconda3\\lib\\site-packages\\xgboost\\core.py:160: UserWarning:\n",
      "\n",
      "[17:54:15] WARNING: C:\\buildkite-agent\\builds\\buildkite-windows-cpu-autoscaling-group-i-0b3782d1791676daf-1\\xgboost\\xgboost-ci-windows\\src\\learner.cc:742: \n",
      "Parameters: { \"bagging_fraction\", \"feature_fraction\", \"min_child_samples\", \"num_leaves\", \"verbose\" } are not used.\n",
      "\n",
      "\n",
      "\n"
     ]
    },
    {
     "name": "stdout",
     "output_type": "stream",
     "text": [
      "4 CV - score: 0.889                                                                  \n",
      " 78%|███████▊  | 21/27 [1:00:22<14:12, 142.01s/trial, best loss: -0.9207533113144901]"
     ]
    },
    {
     "name": "stderr",
     "output_type": "stream",
     "text": [
      "C:\\Users\\Donatien\\anaconda3\\lib\\site-packages\\xgboost\\core.py:160: UserWarning:\n",
      "\n",
      "[17:54:31] WARNING: C:\\buildkite-agent\\builds\\buildkite-windows-cpu-autoscaling-group-i-0b3782d1791676daf-1\\xgboost\\xgboost-ci-windows\\src\\learner.cc:742: \n",
      "Parameters: { \"bagging_fraction\", \"feature_fraction\", \"min_child_samples\", \"num_leaves\", \"verbose\" } are not used.\n",
      "\n",
      "\n",
      "\n"
     ]
    },
    {
     "name": "stdout",
     "output_type": "stream",
     "text": [
      "5 CV - score: 0.9145                                                                 \n",
      " 78%|███████▊  | 21/27 [1:00:40<14:12, 142.01s/trial, best loss: -0.9207533113144901]"
     ]
    },
    {
     "name": "stderr",
     "output_type": "stream",
     "text": [
      "C:\\Users\\Donatien\\anaconda3\\lib\\site-packages\\xgboost\\core.py:160: UserWarning:\n",
      "\n",
      "[17:54:50] WARNING: C:\\buildkite-agent\\builds\\buildkite-windows-cpu-autoscaling-group-i-0b3782d1791676daf-1\\xgboost\\xgboost-ci-windows\\src\\learner.cc:742: \n",
      "Parameters: { \"bagging_fraction\", \"feature_fraction\", \"min_child_samples\", \"num_leaves\", \"verbose\" } are not used.\n",
      "\n",
      "\n",
      "\n"
     ]
    },
    {
     "name": "stdout",
     "output_type": "stream",
     "text": [
      "6 CV - score: 0.904                                                                  \n",
      " 78%|███████▊  | 21/27 [1:01:01<14:12, 142.01s/trial, best loss: -0.9207533113144901]"
     ]
    },
    {
     "name": "stderr",
     "output_type": "stream",
     "text": [
      "C:\\Users\\Donatien\\anaconda3\\lib\\site-packages\\xgboost\\core.py:160: UserWarning:\n",
      "\n",
      "[17:55:11] WARNING: C:\\buildkite-agent\\builds\\buildkite-windows-cpu-autoscaling-group-i-0b3782d1791676daf-1\\xgboost\\xgboost-ci-windows\\src\\learner.cc:742: \n",
      "Parameters: { \"bagging_fraction\", \"feature_fraction\", \"min_child_samples\", \"num_leaves\", \"verbose\" } are not used.\n",
      "\n",
      "\n",
      "\n"
     ]
    },
    {
     "name": "stdout",
     "output_type": "stream",
     "text": [
      "7 CV - score: 0.9045                                                                 \n",
      "Total Time Run: 1.76                                                                 \n",
      "Mean ROC_AUC: 0.9051716608089836                                                     \n",
      "                                                                                     \n",
      "############## New Run ################\n",
      "params = {'max_depth': 14, 'gamma': '0.596', 'subsample': '0.80', 'reg_alpha': '0.205', 'reg_lambda': '0.244', 'learning_rate': '0.031', 'num_leaves': '110.000', 'colsample_bytree': '0.688', 'min_child_samples': '210.000', 'feature_fraction': '0.405', 'bagging_fraction': '0.615'}\n",
      " 81%|████████▏ | 22/27 [1:01:24<10:55, 131.14s/trial, best loss: -0.9207533113144901]"
     ]
    },
    {
     "name": "stderr",
     "output_type": "stream",
     "text": [
      "C:\\Users\\Donatien\\anaconda3\\lib\\site-packages\\xgboost\\core.py:160: UserWarning:\n",
      "\n",
      "[17:55:32] WARNING: C:\\buildkite-agent\\builds\\buildkite-windows-cpu-autoscaling-group-i-0b3782d1791676daf-1\\xgboost\\xgboost-ci-windows\\src\\learner.cc:742: \n",
      "Parameters: { \"bagging_fraction\", \"feature_fraction\", \"min_child_samples\", \"num_leaves\", \"verbose\" } are not used.\n",
      "\n",
      "\n",
      "\n"
     ]
    },
    {
     "name": "stdout",
     "output_type": "stream",
     "text": [
      "1 CV - score: 0.9044                                                                 \n",
      " 81%|████████▏ | 22/27 [1:01:33<10:55, 131.14s/trial, best loss: -0.9207533113144901]"
     ]
    },
    {
     "name": "stderr",
     "output_type": "stream",
     "text": [
      "C:\\Users\\Donatien\\anaconda3\\lib\\site-packages\\xgboost\\core.py:160: UserWarning:\n",
      "\n",
      "[17:55:41] WARNING: C:\\buildkite-agent\\builds\\buildkite-windows-cpu-autoscaling-group-i-0b3782d1791676daf-1\\xgboost\\xgboost-ci-windows\\src\\learner.cc:742: \n",
      "Parameters: { \"bagging_fraction\", \"feature_fraction\", \"min_child_samples\", \"num_leaves\", \"verbose\" } are not used.\n",
      "\n",
      "\n",
      "\n"
     ]
    },
    {
     "name": "stdout",
     "output_type": "stream",
     "text": [
      "2 CV - score: 0.9115                                                                 \n",
      " 81%|████████▏ | 22/27 [1:01:49<10:55, 131.14s/trial, best loss: -0.9207533113144901]"
     ]
    },
    {
     "name": "stderr",
     "output_type": "stream",
     "text": [
      "C:\\Users\\Donatien\\anaconda3\\lib\\site-packages\\xgboost\\core.py:160: UserWarning:\n",
      "\n",
      "[17:55:57] WARNING: C:\\buildkite-agent\\builds\\buildkite-windows-cpu-autoscaling-group-i-0b3782d1791676daf-1\\xgboost\\xgboost-ci-windows\\src\\learner.cc:742: \n",
      "Parameters: { \"bagging_fraction\", \"feature_fraction\", \"min_child_samples\", \"num_leaves\", \"verbose\" } are not used.\n",
      "\n",
      "\n",
      "\n"
     ]
    },
    {
     "name": "stdout",
     "output_type": "stream",
     "text": [
      "3 CV - score: 0.9266                                                                 \n",
      " 81%|████████▏ | 22/27 [1:02:12<10:55, 131.14s/trial, best loss: -0.9207533113144901]"
     ]
    },
    {
     "name": "stderr",
     "output_type": "stream",
     "text": [
      "C:\\Users\\Donatien\\anaconda3\\lib\\site-packages\\xgboost\\core.py:160: UserWarning:\n",
      "\n",
      "[17:56:21] WARNING: C:\\buildkite-agent\\builds\\buildkite-windows-cpu-autoscaling-group-i-0b3782d1791676daf-1\\xgboost\\xgboost-ci-windows\\src\\learner.cc:742: \n",
      "Parameters: { \"bagging_fraction\", \"feature_fraction\", \"min_child_samples\", \"num_leaves\", \"verbose\" } are not used.\n",
      "\n",
      "\n",
      "\n"
     ]
    },
    {
     "name": "stdout",
     "output_type": "stream",
     "text": [
      "4 CV - score: 0.902                                                                  \n",
      " 81%|████████▏ | 22/27 [1:02:41<10:55, 131.14s/trial, best loss: -0.9207533113144901]"
     ]
    },
    {
     "name": "stderr",
     "output_type": "stream",
     "text": [
      "C:\\Users\\Donatien\\anaconda3\\lib\\site-packages\\xgboost\\core.py:160: UserWarning:\n",
      "\n",
      "[17:56:51] WARNING: C:\\buildkite-agent\\builds\\buildkite-windows-cpu-autoscaling-group-i-0b3782d1791676daf-1\\xgboost\\xgboost-ci-windows\\src\\learner.cc:742: \n",
      "Parameters: { \"bagging_fraction\", \"feature_fraction\", \"min_child_samples\", \"num_leaves\", \"verbose\" } are not used.\n",
      "\n",
      "\n",
      "\n"
     ]
    },
    {
     "name": "stdout",
     "output_type": "stream",
     "text": [
      "5 CV - score: 0.9344                                                                 \n",
      " 81%|████████▏ | 22/27 [1:03:18<10:55, 131.14s/trial, best loss: -0.9207533113144901]"
     ]
    },
    {
     "name": "stderr",
     "output_type": "stream",
     "text": [
      "C:\\Users\\Donatien\\anaconda3\\lib\\site-packages\\xgboost\\core.py:160: UserWarning:\n",
      "\n",
      "[17:57:28] WARNING: C:\\buildkite-agent\\builds\\buildkite-windows-cpu-autoscaling-group-i-0b3782d1791676daf-1\\xgboost\\xgboost-ci-windows\\src\\learner.cc:742: \n",
      "Parameters: { \"bagging_fraction\", \"feature_fraction\", \"min_child_samples\", \"num_leaves\", \"verbose\" } are not used.\n",
      "\n",
      "\n",
      "\n"
     ]
    },
    {
     "name": "stdout",
     "output_type": "stream",
     "text": [
      "6 CV - score: 0.9305                                                                 \n",
      " 81%|████████▏ | 22/27 [1:04:02<10:55, 131.14s/trial, best loss: -0.9207533113144901]"
     ]
    },
    {
     "name": "stderr",
     "output_type": "stream",
     "text": [
      "C:\\Users\\Donatien\\anaconda3\\lib\\site-packages\\xgboost\\core.py:160: UserWarning:\n",
      "\n",
      "[17:58:13] WARNING: C:\\buildkite-agent\\builds\\buildkite-windows-cpu-autoscaling-group-i-0b3782d1791676daf-1\\xgboost\\xgboost-ci-windows\\src\\learner.cc:742: \n",
      "Parameters: { \"bagging_fraction\", \"feature_fraction\", \"min_child_samples\", \"num_leaves\", \"verbose\" } are not used.\n",
      "\n",
      "\n",
      "\n"
     ]
    },
    {
     "name": "stdout",
     "output_type": "stream",
     "text": [
      "7 CV - score: 0.9286                                                                 \n",
      "Total Time Run: 3.47                                                                 \n",
      "Mean ROC_AUC: 0.9196996332553786                                                     \n",
      "                                                                                     \n",
      "############## New Run ################\n",
      "params = {'max_depth': 20, 'gamma': '0.373', 'subsample': '0.80', 'reg_alpha': '0.315', 'reg_lambda': '0.164', 'learning_rate': '0.058', 'num_leaves': '240.000', 'colsample_bytree': '0.799', 'min_child_samples': '170.000', 'feature_fraction': '0.662', 'bagging_fraction': '0.827'}\n",
      " 85%|████████▌ | 23/27 [1:04:52<10:16, 154.25s/trial, best loss: -0.9207533113144901]"
     ]
    },
    {
     "name": "stderr",
     "output_type": "stream",
     "text": [
      "C:\\Users\\Donatien\\anaconda3\\lib\\site-packages\\xgboost\\core.py:160: UserWarning:\n",
      "\n",
      "[17:59:00] WARNING: C:\\buildkite-agent\\builds\\buildkite-windows-cpu-autoscaling-group-i-0b3782d1791676daf-1\\xgboost\\xgboost-ci-windows\\src\\learner.cc:742: \n",
      "Parameters: { \"bagging_fraction\", \"feature_fraction\", \"min_child_samples\", \"num_leaves\", \"verbose\" } are not used.\n",
      "\n",
      "\n",
      "\n"
     ]
    },
    {
     "name": "stdout",
     "output_type": "stream",
     "text": [
      "1 CV - score: 0.9031                                                                 \n",
      " 85%|████████▌ | 23/27 [1:05:00<10:16, 154.25s/trial, best loss: -0.9207533113144901]"
     ]
    },
    {
     "name": "stderr",
     "output_type": "stream",
     "text": [
      "C:\\Users\\Donatien\\anaconda3\\lib\\site-packages\\xgboost\\core.py:160: UserWarning:\n",
      "\n",
      "[17:59:08] WARNING: C:\\buildkite-agent\\builds\\buildkite-windows-cpu-autoscaling-group-i-0b3782d1791676daf-1\\xgboost\\xgboost-ci-windows\\src\\learner.cc:742: \n",
      "Parameters: { \"bagging_fraction\", \"feature_fraction\", \"min_child_samples\", \"num_leaves\", \"verbose\" } are not used.\n",
      "\n",
      "\n",
      "\n"
     ]
    },
    {
     "name": "stdout",
     "output_type": "stream",
     "text": [
      "2 CV - score: 0.9094                                                                 \n",
      " 85%|████████▌ | 23/27 [1:05:13<10:16, 154.25s/trial, best loss: -0.9207533113144901]"
     ]
    },
    {
     "name": "stderr",
     "output_type": "stream",
     "text": [
      "C:\\Users\\Donatien\\anaconda3\\lib\\site-packages\\xgboost\\core.py:160: UserWarning:\n",
      "\n",
      "[17:59:21] WARNING: C:\\buildkite-agent\\builds\\buildkite-windows-cpu-autoscaling-group-i-0b3782d1791676daf-1\\xgboost\\xgboost-ci-windows\\src\\learner.cc:742: \n",
      "Parameters: { \"bagging_fraction\", \"feature_fraction\", \"min_child_samples\", \"num_leaves\", \"verbose\" } are not used.\n",
      "\n",
      "\n",
      "\n"
     ]
    },
    {
     "name": "stdout",
     "output_type": "stream",
     "text": [
      "3 CV - score: 0.9242                                                                 \n",
      " 85%|████████▌ | 23/27 [1:05:33<10:16, 154.25s/trial, best loss: -0.9207533113144901]"
     ]
    },
    {
     "name": "stderr",
     "output_type": "stream",
     "text": [
      "C:\\Users\\Donatien\\anaconda3\\lib\\site-packages\\xgboost\\core.py:160: UserWarning:\n",
      "\n",
      "[17:59:42] WARNING: C:\\buildkite-agent\\builds\\buildkite-windows-cpu-autoscaling-group-i-0b3782d1791676daf-1\\xgboost\\xgboost-ci-windows\\src\\learner.cc:742: \n",
      "Parameters: { \"bagging_fraction\", \"feature_fraction\", \"min_child_samples\", \"num_leaves\", \"verbose\" } are not used.\n",
      "\n",
      "\n",
      "\n"
     ]
    },
    {
     "name": "stdout",
     "output_type": "stream",
     "text": [
      "4 CV - score: 0.9009                                                                 \n",
      " 85%|████████▌ | 23/27 [1:05:58<10:16, 154.25s/trial, best loss: -0.9207533113144901]"
     ]
    },
    {
     "name": "stderr",
     "output_type": "stream",
     "text": [
      "C:\\Users\\Donatien\\anaconda3\\lib\\site-packages\\xgboost\\core.py:160: UserWarning:\n",
      "\n",
      "[18:00:08] WARNING: C:\\buildkite-agent\\builds\\buildkite-windows-cpu-autoscaling-group-i-0b3782d1791676daf-1\\xgboost\\xgboost-ci-windows\\src\\learner.cc:742: \n",
      "Parameters: { \"bagging_fraction\", \"feature_fraction\", \"min_child_samples\", \"num_leaves\", \"verbose\" } are not used.\n",
      "\n",
      "\n",
      "\n"
     ]
    },
    {
     "name": "stdout",
     "output_type": "stream",
     "text": [
      "5 CV - score: 0.9321                                                                 \n",
      " 85%|████████▌ | 23/27 [1:06:29<10:16, 154.25s/trial, best loss: -0.9207533113144901]"
     ]
    },
    {
     "name": "stderr",
     "output_type": "stream",
     "text": [
      "C:\\Users\\Donatien\\anaconda3\\lib\\site-packages\\xgboost\\core.py:160: UserWarning:\n",
      "\n",
      "[18:00:39] WARNING: C:\\buildkite-agent\\builds\\buildkite-windows-cpu-autoscaling-group-i-0b3782d1791676daf-1\\xgboost\\xgboost-ci-windows\\src\\learner.cc:742: \n",
      "Parameters: { \"bagging_fraction\", \"feature_fraction\", \"min_child_samples\", \"num_leaves\", \"verbose\" } are not used.\n",
      "\n",
      "\n",
      "\n"
     ]
    },
    {
     "name": "stdout",
     "output_type": "stream",
     "text": [
      "6 CV - score: 0.9316                                                                 \n",
      " 85%|████████▌ | 23/27 [1:07:09<10:16, 154.25s/trial, best loss: -0.9207533113144901]"
     ]
    },
    {
     "name": "stderr",
     "output_type": "stream",
     "text": [
      "C:\\Users\\Donatien\\anaconda3\\lib\\site-packages\\xgboost\\core.py:160: UserWarning:\n",
      "\n",
      "[18:01:19] WARNING: C:\\buildkite-agent\\builds\\buildkite-windows-cpu-autoscaling-group-i-0b3782d1791676daf-1\\xgboost\\xgboost-ci-windows\\src\\learner.cc:742: \n",
      "Parameters: { \"bagging_fraction\", \"feature_fraction\", \"min_child_samples\", \"num_leaves\", \"verbose\" } are not used.\n",
      "\n",
      "\n",
      "\n"
     ]
    },
    {
     "name": "stdout",
     "output_type": "stream",
     "text": [
      "7 CV - score: 0.9261                                                                 \n",
      "Total Time Run: 3.05                                                                 \n",
      "Mean ROC_AUC: 0.9181880240999976                                                     \n",
      "                                                                                     \n",
      "############## New Run ################\n",
      "params = {'max_depth': 16, 'gamma': '0.447', 'subsample': '0.80', 'reg_alpha': '0.239', 'reg_lambda': '0.232', 'learning_rate': '0.086', 'num_leaves': '190.000', 'colsample_bytree': '0.664', 'min_child_samples': '150.000', 'feature_fraction': '0.448', 'bagging_fraction': '0.634'}\n",
      " 89%|████████▉ | 24/27 [1:07:55<08:08, 162.91s/trial, best loss: -0.9207533113144901]"
     ]
    },
    {
     "name": "stderr",
     "output_type": "stream",
     "text": [
      "C:\\Users\\Donatien\\anaconda3\\lib\\site-packages\\xgboost\\core.py:160: UserWarning:\n",
      "\n",
      "[18:02:03] WARNING: C:\\buildkite-agent\\builds\\buildkite-windows-cpu-autoscaling-group-i-0b3782d1791676daf-1\\xgboost\\xgboost-ci-windows\\src\\learner.cc:742: \n",
      "Parameters: { \"bagging_fraction\", \"feature_fraction\", \"min_child_samples\", \"num_leaves\", \"verbose\" } are not used.\n",
      "\n",
      "\n",
      "\n"
     ]
    },
    {
     "name": "stdout",
     "output_type": "stream",
     "text": [
      "1 CV - score: 0.9013                                                                 \n",
      " 89%|████████▉ | 24/27 [1:08:01<08:08, 162.91s/trial, best loss: -0.9207533113144901]"
     ]
    },
    {
     "name": "stderr",
     "output_type": "stream",
     "text": [
      "C:\\Users\\Donatien\\anaconda3\\lib\\site-packages\\xgboost\\core.py:160: UserWarning:\n",
      "\n",
      "[18:02:09] WARNING: C:\\buildkite-agent\\builds\\buildkite-windows-cpu-autoscaling-group-i-0b3782d1791676daf-1\\xgboost\\xgboost-ci-windows\\src\\learner.cc:742: \n",
      "Parameters: { \"bagging_fraction\", \"feature_fraction\", \"min_child_samples\", \"num_leaves\", \"verbose\" } are not used.\n",
      "\n",
      "\n",
      "\n"
     ]
    },
    {
     "name": "stdout",
     "output_type": "stream",
     "text": [
      "2 CV - score: 0.9049                                                                 \n",
      " 89%|████████▉ | 24/27 [1:08:11<08:08, 162.91s/trial, best loss: -0.9207533113144901]"
     ]
    },
    {
     "name": "stderr",
     "output_type": "stream",
     "text": [
      "C:\\Users\\Donatien\\anaconda3\\lib\\site-packages\\xgboost\\core.py:160: UserWarning:\n",
      "\n",
      "[18:02:20] WARNING: C:\\buildkite-agent\\builds\\buildkite-windows-cpu-autoscaling-group-i-0b3782d1791676daf-1\\xgboost\\xgboost-ci-windows\\src\\learner.cc:742: \n",
      "Parameters: { \"bagging_fraction\", \"feature_fraction\", \"min_child_samples\", \"num_leaves\", \"verbose\" } are not used.\n",
      "\n",
      "\n",
      "\n"
     ]
    },
    {
     "name": "stdout",
     "output_type": "stream",
     "text": [
      "3 CV - score: 0.9223                                                                 \n",
      " 89%|████████▉ | 24/27 [1:08:26<08:08, 162.91s/trial, best loss: -0.9207533113144901]"
     ]
    },
    {
     "name": "stderr",
     "output_type": "stream",
     "text": [
      "C:\\Users\\Donatien\\anaconda3\\lib\\site-packages\\xgboost\\core.py:160: UserWarning:\n",
      "\n",
      "[18:02:35] WARNING: C:\\buildkite-agent\\builds\\buildkite-windows-cpu-autoscaling-group-i-0b3782d1791676daf-1\\xgboost\\xgboost-ci-windows\\src\\learner.cc:742: \n",
      "Parameters: { \"bagging_fraction\", \"feature_fraction\", \"min_child_samples\", \"num_leaves\", \"verbose\" } are not used.\n",
      "\n",
      "\n",
      "\n"
     ]
    },
    {
     "name": "stdout",
     "output_type": "stream",
     "text": [
      "4 CV - score: 0.8969                                                                 \n",
      " 89%|████████▉ | 24/27 [1:08:46<08:08, 162.91s/trial, best loss: -0.9207533113144901]"
     ]
    },
    {
     "name": "stderr",
     "output_type": "stream",
     "text": [
      "C:\\Users\\Donatien\\anaconda3\\lib\\site-packages\\xgboost\\core.py:160: UserWarning:\n",
      "\n",
      "[18:02:56] WARNING: C:\\buildkite-agent\\builds\\buildkite-windows-cpu-autoscaling-group-i-0b3782d1791676daf-1\\xgboost\\xgboost-ci-windows\\src\\learner.cc:742: \n",
      "Parameters: { \"bagging_fraction\", \"feature_fraction\", \"min_child_samples\", \"num_leaves\", \"verbose\" } are not used.\n",
      "\n",
      "\n",
      "\n"
     ]
    },
    {
     "name": "stdout",
     "output_type": "stream",
     "text": [
      "5 CV - score: 0.9332                                                                 \n",
      " 89%|████████▉ | 24/27 [1:09:10<08:08, 162.91s/trial, best loss: -0.9207533113144901]"
     ]
    },
    {
     "name": "stderr",
     "output_type": "stream",
     "text": [
      "C:\\Users\\Donatien\\anaconda3\\lib\\site-packages\\xgboost\\core.py:160: UserWarning:\n",
      "\n",
      "[18:03:20] WARNING: C:\\buildkite-agent\\builds\\buildkite-windows-cpu-autoscaling-group-i-0b3782d1791676daf-1\\xgboost\\xgboost-ci-windows\\src\\learner.cc:742: \n",
      "Parameters: { \"bagging_fraction\", \"feature_fraction\", \"min_child_samples\", \"num_leaves\", \"verbose\" } are not used.\n",
      "\n",
      "\n",
      "\n"
     ]
    },
    {
     "name": "stdout",
     "output_type": "stream",
     "text": [
      "6 CV - score: 0.9251                                                                 \n",
      " 89%|████████▉ | 24/27 [1:09:38<08:08, 162.91s/trial, best loss: -0.9207533113144901]"
     ]
    },
    {
     "name": "stderr",
     "output_type": "stream",
     "text": [
      "C:\\Users\\Donatien\\anaconda3\\lib\\site-packages\\xgboost\\core.py:160: UserWarning:\n",
      "\n",
      "[18:03:48] WARNING: C:\\buildkite-agent\\builds\\buildkite-windows-cpu-autoscaling-group-i-0b3782d1791676daf-1\\xgboost\\xgboost-ci-windows\\src\\learner.cc:742: \n",
      "Parameters: { \"bagging_fraction\", \"feature_fraction\", \"min_child_samples\", \"num_leaves\", \"verbose\" } are not used.\n",
      "\n",
      "\n",
      "\n"
     ]
    },
    {
     "name": "stdout",
     "output_type": "stream",
     "text": [
      "7 CV - score: 0.9256                                                                 \n",
      "Total Time Run: 2.23                                                                 \n",
      "Mean ROC_AUC: 0.9156097381827868                                                     \n",
      "                                                                                     \n",
      "############## New Run ################\n",
      "params = {'max_depth': 7, 'gamma': '0.626', 'subsample': '0.90', 'reg_alpha': '0.024', 'reg_lambda': '0.178', 'learning_rate': '0.010', 'num_leaves': '120.000', 'colsample_bytree': '0.410', 'min_child_samples': '160.000', 'feature_fraction': '0.691', 'bagging_fraction': '0.832'}\n",
      " 93%|█████████▎| 25/27 [1:10:09<05:08, 154.21s/trial, best loss: -0.9207533113144901]"
     ]
    },
    {
     "name": "stderr",
     "output_type": "stream",
     "text": [
      "C:\\Users\\Donatien\\anaconda3\\lib\\site-packages\\xgboost\\core.py:160: UserWarning:\n",
      "\n",
      "[18:04:17] WARNING: C:\\buildkite-agent\\builds\\buildkite-windows-cpu-autoscaling-group-i-0b3782d1791676daf-1\\xgboost\\xgboost-ci-windows\\src\\learner.cc:742: \n",
      "Parameters: { \"bagging_fraction\", \"feature_fraction\", \"min_child_samples\", \"num_leaves\", \"verbose\" } are not used.\n",
      "\n",
      "\n",
      "\n"
     ]
    },
    {
     "name": "stdout",
     "output_type": "stream",
     "text": [
      "1 CV - score: 0.9046                                                                 \n",
      " 93%|█████████▎| 25/27 [1:10:16<05:08, 154.21s/trial, best loss: -0.9207533113144901]"
     ]
    },
    {
     "name": "stderr",
     "output_type": "stream",
     "text": [
      "C:\\Users\\Donatien\\anaconda3\\lib\\site-packages\\xgboost\\core.py:160: UserWarning:\n",
      "\n",
      "[18:04:24] WARNING: C:\\buildkite-agent\\builds\\buildkite-windows-cpu-autoscaling-group-i-0b3782d1791676daf-1\\xgboost\\xgboost-ci-windows\\src\\learner.cc:742: \n",
      "Parameters: { \"bagging_fraction\", \"feature_fraction\", \"min_child_samples\", \"num_leaves\", \"verbose\" } are not used.\n",
      "\n",
      "\n",
      "\n"
     ]
    },
    {
     "name": "stdout",
     "output_type": "stream",
     "text": [
      "2 CV - score: 0.9075                                                                 \n",
      " 93%|█████████▎| 25/27 [1:10:25<05:08, 154.21s/trial, best loss: -0.9207533113144901]"
     ]
    },
    {
     "name": "stderr",
     "output_type": "stream",
     "text": [
      "C:\\Users\\Donatien\\anaconda3\\lib\\site-packages\\xgboost\\core.py:160: UserWarning:\n",
      "\n",
      "[18:04:34] WARNING: C:\\buildkite-agent\\builds\\buildkite-windows-cpu-autoscaling-group-i-0b3782d1791676daf-1\\xgboost\\xgboost-ci-windows\\src\\learner.cc:742: \n",
      "Parameters: { \"bagging_fraction\", \"feature_fraction\", \"min_child_samples\", \"num_leaves\", \"verbose\" } are not used.\n",
      "\n",
      "\n",
      "\n"
     ]
    },
    {
     "name": "stdout",
     "output_type": "stream",
     "text": [
      "3 CV - score: 0.9176                                                                 \n",
      " 93%|█████████▎| 25/27 [1:10:38<05:08, 154.21s/trial, best loss: -0.9207533113144901]"
     ]
    },
    {
     "name": "stderr",
     "output_type": "stream",
     "text": [
      "C:\\Users\\Donatien\\anaconda3\\lib\\site-packages\\xgboost\\core.py:160: UserWarning:\n",
      "\n",
      "[18:04:47] WARNING: C:\\buildkite-agent\\builds\\buildkite-windows-cpu-autoscaling-group-i-0b3782d1791676daf-1\\xgboost\\xgboost-ci-windows\\src\\learner.cc:742: \n",
      "Parameters: { \"bagging_fraction\", \"feature_fraction\", \"min_child_samples\", \"num_leaves\", \"verbose\" } are not used.\n",
      "\n",
      "\n",
      "\n"
     ]
    },
    {
     "name": "stdout",
     "output_type": "stream",
     "text": [
      "4 CV - score: 0.8889                                                                 \n",
      " 93%|█████████▎| 25/27 [1:10:54<05:08, 154.21s/trial, best loss: -0.9207533113144901]"
     ]
    },
    {
     "name": "stderr",
     "output_type": "stream",
     "text": [
      "C:\\Users\\Donatien\\anaconda3\\lib\\site-packages\\xgboost\\core.py:160: UserWarning:\n",
      "\n",
      "[18:05:04] WARNING: C:\\buildkite-agent\\builds\\buildkite-windows-cpu-autoscaling-group-i-0b3782d1791676daf-1\\xgboost\\xgboost-ci-windows\\src\\learner.cc:742: \n",
      "Parameters: { \"bagging_fraction\", \"feature_fraction\", \"min_child_samples\", \"num_leaves\", \"verbose\" } are not used.\n",
      "\n",
      "\n",
      "\n"
     ]
    },
    {
     "name": "stdout",
     "output_type": "stream",
     "text": [
      "5 CV - score: 0.9139                                                                 \n",
      " 93%|█████████▎| 25/27 [1:11:13<05:08, 154.21s/trial, best loss: -0.9207533113144901]"
     ]
    },
    {
     "name": "stderr",
     "output_type": "stream",
     "text": [
      "C:\\Users\\Donatien\\anaconda3\\lib\\site-packages\\xgboost\\core.py:160: UserWarning:\n",
      "\n",
      "[18:05:23] WARNING: C:\\buildkite-agent\\builds\\buildkite-windows-cpu-autoscaling-group-i-0b3782d1791676daf-1\\xgboost\\xgboost-ci-windows\\src\\learner.cc:742: \n",
      "Parameters: { \"bagging_fraction\", \"feature_fraction\", \"min_child_samples\", \"num_leaves\", \"verbose\" } are not used.\n",
      "\n",
      "\n",
      "\n"
     ]
    },
    {
     "name": "stdout",
     "output_type": "stream",
     "text": [
      "6 CV - score: 0.9026                                                                 \n",
      " 93%|█████████▎| 25/27 [1:11:34<05:08, 154.21s/trial, best loss: -0.9207533113144901]"
     ]
    },
    {
     "name": "stderr",
     "output_type": "stream",
     "text": [
      "C:\\Users\\Donatien\\anaconda3\\lib\\site-packages\\xgboost\\core.py:160: UserWarning:\n",
      "\n",
      "[18:05:44] WARNING: C:\\buildkite-agent\\builds\\buildkite-windows-cpu-autoscaling-group-i-0b3782d1791676daf-1\\xgboost\\xgboost-ci-windows\\src\\learner.cc:742: \n",
      "Parameters: { \"bagging_fraction\", \"feature_fraction\", \"min_child_samples\", \"num_leaves\", \"verbose\" } are not used.\n",
      "\n",
      "\n",
      "\n"
     ]
    },
    {
     "name": "stdout",
     "output_type": "stream",
     "text": [
      "7 CV - score: 0.9023                                                                 \n",
      "Total Time Run: 1.81                                                                 \n",
      "Mean ROC_AUC: 0.9053538295513237                                                     \n",
      "                                                                                     \n",
      "############## New Run ################\n",
      "params = {'max_depth': 12, 'gamma': '0.016', 'subsample': '0.80', 'reg_alpha': '0.185', 'reg_lambda': '0.119', 'learning_rate': '0.119', 'num_leaves': '200.000', 'colsample_bytree': '0.555', 'min_child_samples': '210.000', 'feature_fraction': '0.800', 'bagging_fraction': '0.728'}\n",
      " 96%|█████████▋| 26/27 [1:11:58<02:20, 140.48s/trial, best loss: -0.9207533113144901]"
     ]
    },
    {
     "name": "stderr",
     "output_type": "stream",
     "text": [
      "C:\\Users\\Donatien\\anaconda3\\lib\\site-packages\\xgboost\\core.py:160: UserWarning:\n",
      "\n",
      "[18:06:05] WARNING: C:\\buildkite-agent\\builds\\buildkite-windows-cpu-autoscaling-group-i-0b3782d1791676daf-1\\xgboost\\xgboost-ci-windows\\src\\learner.cc:742: \n",
      "Parameters: { \"bagging_fraction\", \"feature_fraction\", \"min_child_samples\", \"num_leaves\", \"verbose\" } are not used.\n",
      "\n",
      "\n",
      "\n"
     ]
    },
    {
     "name": "stdout",
     "output_type": "stream",
     "text": [
      "1 CV - score: 0.906                                                                  \n",
      " 96%|█████████▋| 26/27 [1:12:06<02:20, 140.48s/trial, best loss: -0.9207533113144901]"
     ]
    },
    {
     "name": "stderr",
     "output_type": "stream",
     "text": [
      "C:\\Users\\Donatien\\anaconda3\\lib\\site-packages\\xgboost\\core.py:160: UserWarning:\n",
      "\n",
      "[18:06:14] WARNING: C:\\buildkite-agent\\builds\\buildkite-windows-cpu-autoscaling-group-i-0b3782d1791676daf-1\\xgboost\\xgboost-ci-windows\\src\\learner.cc:742: \n",
      "Parameters: { \"bagging_fraction\", \"feature_fraction\", \"min_child_samples\", \"num_leaves\", \"verbose\" } are not used.\n",
      "\n",
      "\n",
      "\n"
     ]
    },
    {
     "name": "stdout",
     "output_type": "stream",
     "text": [
      "2 CV - score: 0.9005                                                                 \n",
      " 96%|█████████▋| 26/27 [1:12:19<02:20, 140.48s/trial, best loss: -0.9207533113144901]"
     ]
    },
    {
     "name": "stderr",
     "output_type": "stream",
     "text": [
      "C:\\Users\\Donatien\\anaconda3\\lib\\site-packages\\xgboost\\core.py:160: UserWarning:\n",
      "\n",
      "[18:06:28] WARNING: C:\\buildkite-agent\\builds\\buildkite-windows-cpu-autoscaling-group-i-0b3782d1791676daf-1\\xgboost\\xgboost-ci-windows\\src\\learner.cc:742: \n",
      "Parameters: { \"bagging_fraction\", \"feature_fraction\", \"min_child_samples\", \"num_leaves\", \"verbose\" } are not used.\n",
      "\n",
      "\n",
      "\n"
     ]
    },
    {
     "name": "stdout",
     "output_type": "stream",
     "text": [
      "3 CV - score: 0.9171                                                                 \n",
      " 96%|█████████▋| 26/27 [1:12:40<02:20, 140.48s/trial, best loss: -0.9207533113144901]"
     ]
    },
    {
     "name": "stderr",
     "output_type": "stream",
     "text": [
      "C:\\Users\\Donatien\\anaconda3\\lib\\site-packages\\xgboost\\core.py:160: UserWarning:\n",
      "\n",
      "[18:06:49] WARNING: C:\\buildkite-agent\\builds\\buildkite-windows-cpu-autoscaling-group-i-0b3782d1791676daf-1\\xgboost\\xgboost-ci-windows\\src\\learner.cc:742: \n",
      "Parameters: { \"bagging_fraction\", \"feature_fraction\", \"min_child_samples\", \"num_leaves\", \"verbose\" } are not used.\n",
      "\n",
      "\n",
      "\n"
     ]
    },
    {
     "name": "stdout",
     "output_type": "stream",
     "text": [
      "4 CV - score: 0.8879                                                                 \n",
      " 96%|█████████▋| 26/27 [1:13:05<02:20, 140.48s/trial, best loss: -0.9207533113144901]"
     ]
    },
    {
     "name": "stderr",
     "output_type": "stream",
     "text": [
      "C:\\Users\\Donatien\\anaconda3\\lib\\site-packages\\xgboost\\core.py:160: UserWarning:\n",
      "\n",
      "[18:07:14] WARNING: C:\\buildkite-agent\\builds\\buildkite-windows-cpu-autoscaling-group-i-0b3782d1791676daf-1\\xgboost\\xgboost-ci-windows\\src\\learner.cc:742: \n",
      "Parameters: { \"bagging_fraction\", \"feature_fraction\", \"min_child_samples\", \"num_leaves\", \"verbose\" } are not used.\n",
      "\n",
      "\n",
      "\n"
     ]
    },
    {
     "name": "stdout",
     "output_type": "stream",
     "text": [
      "5 CV - score: 0.9275                                                                 \n",
      " 96%|█████████▋| 26/27 [1:13:34<02:20, 140.48s/trial, best loss: -0.9207533113144901]"
     ]
    },
    {
     "name": "stderr",
     "output_type": "stream",
     "text": [
      "C:\\Users\\Donatien\\anaconda3\\lib\\site-packages\\xgboost\\core.py:160: UserWarning:\n",
      "\n",
      "[18:07:44] WARNING: C:\\buildkite-agent\\builds\\buildkite-windows-cpu-autoscaling-group-i-0b3782d1791676daf-1\\xgboost\\xgboost-ci-windows\\src\\learner.cc:742: \n",
      "Parameters: { \"bagging_fraction\", \"feature_fraction\", \"min_child_samples\", \"num_leaves\", \"verbose\" } are not used.\n",
      "\n",
      "\n",
      "\n"
     ]
    },
    {
     "name": "stdout",
     "output_type": "stream",
     "text": [
      "6 CV - score: 0.9209                                                                 \n",
      " 96%|█████████▋| 26/27 [1:14:09<02:20, 140.48s/trial, best loss: -0.9207533113144901]"
     ]
    },
    {
     "name": "stderr",
     "output_type": "stream",
     "text": [
      "C:\\Users\\Donatien\\anaconda3\\lib\\site-packages\\xgboost\\core.py:160: UserWarning:\n",
      "\n",
      "[18:08:20] WARNING: C:\\buildkite-agent\\builds\\buildkite-windows-cpu-autoscaling-group-i-0b3782d1791676daf-1\\xgboost\\xgboost-ci-windows\\src\\learner.cc:742: \n",
      "Parameters: { \"bagging_fraction\", \"feature_fraction\", \"min_child_samples\", \"num_leaves\", \"verbose\" } are not used.\n",
      "\n",
      "\n",
      "\n"
     ]
    },
    {
     "name": "stdout",
     "output_type": "stream",
     "text": [
      "7 CV - score: 0.9193                                                                 \n",
      "Total Time Run: 2.85                                                                 \n",
      "Mean ROC_AUC: 0.9113168102144139                                                     \n",
      "100%|██████████| 27/27 [1:14:49<00:00, 166.28s/trial, best loss: -0.9207533113144901]\n"
     ]
    }
   ],
   "source": [
    "# Set algoritm parameters\n",
    "best = fmin(fn=objective,\n",
    "            space=space,\n",
    "            algo=tpe.suggest,\n",
    "            max_evals=27)\n",
    "\n",
    "# Print best parameters\n",
    "best_params = space_eval(space, best)"
   ]
  },
  {
   "cell_type": "code",
   "execution_count": 39,
   "metadata": {},
   "outputs": [
    {
     "name": "stdout",
     "output_type": "stream",
     "text": [
      "BEST PARAMS:  {'bagging_fraction': 0.6863304564384276, 'colsample_bytree': 0.6967245983371096, 'feature_fraction': 0.5014079929809161, 'gamma': 0.6217387631264627, 'learning_rate': 0.02280194791924574, 'max_depth': 11.0, 'min_child_samples': 160, 'num_leaves': 200, 'reg_alpha': 0.2079067530952472, 'reg_lambda': 0.2286532251528409, 'subsample': 0.8}\n"
     ]
    }
   ],
   "source": [
    "print(\"BEST PARAMS: \", best_params)\n",
    "\n",
    "best_params['max_depth'] = int(best_params['max_depth'])"
   ]
  },
  {
   "cell_type": "markdown",
   "metadata": {},
   "source": [
    "# Best parameters"
   ]
  },
  {
   "cell_type": "code",
   "execution_count": 40,
   "metadata": {},
   "outputs": [
    {
     "name": "stdout",
     "output_type": "stream",
     "text": [
      "BEST PARAMS:  {'bagging_fraction': 0.6863304564384276, 'colsample_bytree': 0.6967245983371096, 'feature_fraction': 0.5014079929809161, 'gamma': 0.6217387631264627, 'learning_rate': 0.02280194791924574, 'max_depth': 11, 'min_child_samples': 160, 'num_leaves': 200, 'reg_alpha': 0.2079067530952472, 'reg_lambda': 0.2286532251528409, 'subsample': 0.8}\n"
     ]
    }
   ],
   "source": [
    "print(\"BEST PARAMS: \", best_params)\n",
    "\n",
    "best_params['max_depth'] = int(best_params['max_depth'])"
   ]
  },
  {
   "cell_type": "code",
   "execution_count": 42,
   "metadata": {},
   "outputs": [
    {
     "data": {
      "text/plain": [
       "{'bagging_fraction': 0.6863304564384276,\n",
       " 'colsample_bytree': 0.6967245983371096,\n",
       " 'feature_fraction': 0.5014079929809161,\n",
       " 'gamma': 0.6217387631264627,\n",
       " 'learning_rate': 0.02280194791924574,\n",
       " 'max_depth': 11,\n",
       " 'min_child_samples': 160,\n",
       " 'num_leaves': 200,\n",
       " 'reg_alpha': 0.2079067530952472,\n",
       " 'reg_lambda': 0.2286532251528409,\n",
       " 'subsample': 0.8}"
      ]
     },
     "execution_count": 42,
     "metadata": {},
     "output_type": "execute_result"
    }
   ],
   "source": [
    "best_params"
   ]
  },
  {
   "cell_type": "markdown",
   "metadata": {},
   "source": [
    "# Trainning and Predicting with best Parameters"
   ]
  },
  {
   "cell_type": "markdown",
   "metadata": {},
   "source": [
    "## Predicting X test"
   ]
  },
  {
   "cell_type": "code",
   "execution_count": 43,
   "metadata": {
    "scrolled": true
   },
   "outputs": [
    {
     "name": "stderr",
     "output_type": "stream",
     "text": [
      "C:\\Users\\Donatien\\anaconda3\\lib\\site-packages\\xgboost\\core.py:160: UserWarning:\n",
      "\n",
      "[19:24:21] WARNING: C:\\buildkite-agent\\builds\\buildkite-windows-cpu-autoscaling-group-i-0b3782d1791676daf-1\\xgboost\\xgboost-ci-windows\\src\\learner.cc:742: \n",
      "Parameters: { \"bagging_fraction\", \"feature_fraction\", \"min_child_samples\", \"num_leaves\" } are not used.\n",
      "\n",
      "\n"
     ]
    }
   ],
   "source": [
    "clf = xgb.XGBClassifier(\n",
    "    n_estimators=300,\n",
    "    **best_params,\n",
    "    device = \"cuda\"\n",
    ")\n",
    "\n",
    "clf.fit(X_train, y_train)\n",
    "\n",
    "y_preds = clf.predict_proba(X_test)[:,1] "
   ]
  },
  {
   "cell_type": "code",
   "execution_count": 64,
   "metadata": {},
   "outputs": [],
   "source": [
    "y_preds = pd.DataFrame(y_preds)"
   ]
  },
  {
   "cell_type": "code",
   "execution_count": 65,
   "metadata": {},
   "outputs": [],
   "source": [
    "y_preds['TransactionID'] = X_test['TransactionID'].values"
   ]
  },
  {
   "cell_type": "code",
   "execution_count": 67,
   "metadata": {},
   "outputs": [],
   "source": [
    "y_preds.columns = ['isFraud','TransactionID']"
   ]
  },
  {
   "cell_type": "code",
   "execution_count": 72,
   "metadata": {},
   "outputs": [],
   "source": [
    "y_preds  = y_preds.set_index('TransactionID')"
   ]
  },
  {
   "cell_type": "code",
   "execution_count": 73,
   "metadata": {},
   "outputs": [],
   "source": [
    "y_preds.to_csv(\"y_preds.csv\")"
   ]
  },
  {
   "cell_type": "markdown",
   "metadata": {},
   "source": [
    "# Top 20 Feature importance"
   ]
  },
  {
   "cell_type": "code",
   "execution_count": 74,
   "metadata": {},
   "outputs": [
    {
     "data": {
      "text/html": [
       "<div>\n",
       "<style scoped>\n",
       "    .dataframe tbody tr th:only-of-type {\n",
       "        vertical-align: middle;\n",
       "    }\n",
       "\n",
       "    .dataframe tbody tr th {\n",
       "        vertical-align: top;\n",
       "    }\n",
       "\n",
       "    .dataframe thead th {\n",
       "        text-align: right;\n",
       "    }\n",
       "</style>\n",
       "<table border=\"1\" class=\"dataframe\">\n",
       "  <thead>\n",
       "    <tr style=\"text-align: right;\">\n",
       "      <th></th>\n",
       "      <th>score</th>\n",
       "    </tr>\n",
       "  </thead>\n",
       "  <tbody>\n",
       "    <tr>\n",
       "      <th>card1</th>\n",
       "      <td>6502.0</td>\n",
       "    </tr>\n",
       "    <tr>\n",
       "      <th>TransactionID</th>\n",
       "      <td>6433.0</td>\n",
       "    </tr>\n",
       "    <tr>\n",
       "      <th>card2</th>\n",
       "      <td>5899.0</td>\n",
       "    </tr>\n",
       "    <tr>\n",
       "      <th>addr1</th>\n",
       "      <td>5050.0</td>\n",
       "    </tr>\n",
       "    <tr>\n",
       "      <th>TransactionAmt_to_std_card1</th>\n",
       "      <td>4091.0</td>\n",
       "    </tr>\n",
       "    <tr>\n",
       "      <th>TransactionAmt_to_mean_card1</th>\n",
       "      <td>3209.0</td>\n",
       "    </tr>\n",
       "    <tr>\n",
       "      <th>TransactionAmt</th>\n",
       "      <td>2963.0</td>\n",
       "    </tr>\n",
       "    <tr>\n",
       "      <th>PCA_V_13</th>\n",
       "      <td>2884.0</td>\n",
       "    </tr>\n",
       "    <tr>\n",
       "      <th>D2</th>\n",
       "      <td>2819.0</td>\n",
       "    </tr>\n",
       "    <tr>\n",
       "      <th>card5</th>\n",
       "      <td>2815.0</td>\n",
       "    </tr>\n",
       "    <tr>\n",
       "      <th>D15</th>\n",
       "      <td>2698.0</td>\n",
       "    </tr>\n",
       "    <tr>\n",
       "      <th>dist1</th>\n",
       "      <td>2685.0</td>\n",
       "    </tr>\n",
       "    <tr>\n",
       "      <th>C13</th>\n",
       "      <td>2642.0</td>\n",
       "    </tr>\n",
       "    <tr>\n",
       "      <th>TransactionAmt_to_std_card4</th>\n",
       "      <td>2600.0</td>\n",
       "    </tr>\n",
       "    <tr>\n",
       "      <th>PCA_V_14</th>\n",
       "      <td>2552.0</td>\n",
       "    </tr>\n",
       "    <tr>\n",
       "      <th>TransactionAmt_to_mean_card4</th>\n",
       "      <td>2527.0</td>\n",
       "    </tr>\n",
       "    <tr>\n",
       "      <th>D4</th>\n",
       "      <td>2510.0</td>\n",
       "    </tr>\n",
       "    <tr>\n",
       "      <th>PCA_V_27</th>\n",
       "      <td>2412.0</td>\n",
       "    </tr>\n",
       "    <tr>\n",
       "      <th>C1</th>\n",
       "      <td>2403.0</td>\n",
       "    </tr>\n",
       "    <tr>\n",
       "      <th>PCA_V_29</th>\n",
       "      <td>2401.0</td>\n",
       "    </tr>\n",
       "  </tbody>\n",
       "</table>\n",
       "</div>"
      ],
      "text/plain": [
       "                               score\n",
       "card1                         6502.0\n",
       "TransactionID                 6433.0\n",
       "card2                         5899.0\n",
       "addr1                         5050.0\n",
       "TransactionAmt_to_std_card1   4091.0\n",
       "TransactionAmt_to_mean_card1  3209.0\n",
       "TransactionAmt                2963.0\n",
       "PCA_V_13                      2884.0\n",
       "D2                            2819.0\n",
       "card5                         2815.0\n",
       "D15                           2698.0\n",
       "dist1                         2685.0\n",
       "C13                           2642.0\n",
       "TransactionAmt_to_std_card4   2600.0\n",
       "PCA_V_14                      2552.0\n",
       "TransactionAmt_to_mean_card4  2527.0\n",
       "D4                            2510.0\n",
       "PCA_V_27                      2412.0\n",
       "C1                            2403.0\n",
       "PCA_V_29                      2401.0"
      ]
     },
     "execution_count": 74,
     "metadata": {},
     "output_type": "execute_result"
    }
   ],
   "source": [
    "feature_important = clf.get_booster().get_score(importance_type=\"weight\")\n",
    "keys = list(feature_important.keys())\n",
    "values = list(feature_important.values())\n",
    "\n",
    "data = pd.DataFrame(data=values, index=keys, columns=[\"score\"]).sort_values(by = \"score\", ascending=False)\n",
    "\n",
    "# Top 10 features\n",
    "data.head(20)"
   ]
  }
 ],
 "metadata": {
  "kernelspec": {
   "display_name": "Python 3 (ipykernel)",
   "language": "python",
   "name": "python3"
  },
  "language_info": {
   "codemirror_mode": {
    "name": "ipython",
    "version": 3
   },
   "file_extension": ".py",
   "mimetype": "text/x-python",
   "name": "python",
   "nbconvert_exporter": "python",
   "pygments_lexer": "ipython3",
   "version": "3.8.8"
  }
 },
 "nbformat": 4,
 "nbformat_minor": 1
}
